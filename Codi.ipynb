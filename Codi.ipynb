{
  "cells": [
    {
      "cell_type": "markdown",
      "metadata": {
        "id": "view-in-github",
        "colab_type": "text"
      },
      "source": [
        "<a href=\"https://colab.research.google.com/github/ielgstrom/Practica-2/blob/main/Codi.ipynb\" target=\"_parent\"><img src=\"https://colab.research.google.com/assets/colab-badge.svg\" alt=\"Open In Colab\"/></a>"
      ]
    },
    {
      "cell_type": "code",
      "execution_count": 138,
      "metadata": {
        "id": "TuZGtO_B_6LQ"
      },
      "outputs": [],
      "source": [
        "# No es pot muntar el drive des de r per tant el que pots fer de mentres es:\n",
        "# 1. A la carpeta d'arxius del menu esquerra donar click\n",
        "# 2. Afegir l'arxiu del drive manualment.\n",
        "# M'hi he barallat una estona i no veig manera mes eficient de moment"
      ]
    },
    {
      "cell_type": "code",
      "execution_count": 139,
      "metadata": {
        "id": "bNEShbzaRonG",
        "colab": {
          "base_uri": "https://localhost:8080/"
        },
        "outputId": "f3bad385-5ade-4cae-e77a-d4f11587a71d"
      },
      "outputs": [
        {
          "output_type": "stream",
          "name": "stderr",
          "text": [
            "Installing package into ‘/usr/local/lib/R/site-library’\n",
            "(as ‘lib’ is unspecified)\n",
            "\n",
            "Installing package into ‘/usr/local/lib/R/site-library’\n",
            "(as ‘lib’ is unspecified)\n",
            "\n",
            "Installing package into ‘/usr/local/lib/R/site-library’\n",
            "(as ‘lib’ is unspecified)\n",
            "\n",
            "Installing package into ‘/usr/local/lib/R/site-library’\n",
            "(as ‘lib’ is unspecified)\n",
            "\n",
            "Installing package into ‘/usr/local/lib/R/site-library’\n",
            "(as ‘lib’ is unspecified)\n",
            "\n"
          ]
        }
      ],
      "source": [
        "# Farem servir el paquet countrycode per obtenir el continent on es situa cada\n",
        "# país a partir del codi ISO - alpha 2.\n",
        "install.packages('countrycode')\n",
        "install.packages('missForest')\n",
        "install.packages('caret')\n",
        "install.packages('performanceEstimation')\n",
        "install.packages(\"dbscan\")"
      ]
    },
    {
      "cell_type": "code",
      "execution_count": 140,
      "metadata": {
        "id": "Fh7NilpLRwiw"
      },
      "outputs": [],
      "source": [
        "library('caret')\n",
        "library('dplyr')\n",
        "library('e1071')\n",
        "library('tidyverse')\n",
        "library('missForest')\n",
        "library('countrycode')\n",
        "library('randomForest')\n",
        "library('performanceEstimation')\n",
        "library('dbscan')"
      ]
    },
    {
      "cell_type": "code",
      "execution_count": 141,
      "metadata": {
        "id": "hJOsi0uWRibf",
        "colab": {
          "base_uri": "https://localhost:8080/",
          "height": 306
        },
        "outputId": "15611d29-f9c7-4978-f203-21842e7858ad"
      },
      "outputs": [
        {
          "output_type": "display_data",
          "data": {
            "text/html": [
              "<table class=\"dataframe\">\n",
              "<caption>A data.frame: 6 × 14</caption>\n",
              "<thead>\n",
              "\t<tr><th></th><th scope=col>Pais</th><th scope=col>Fecha</th><th scope=col>SMI.Mon..Local</th><th scope=col>SMI</th><th scope=col>Deute.Total</th><th scope=col>Deute.PIB</th><th scope=col>Deute.Per.Capita</th><th scope=col>Dèficit</th><th scope=col>Dèficit.PIB</th><th scope=col>Atur</th><th scope=col>PIB.anual</th><th scope=col>Var..PIB....</th><th scope=col>IPC.Anual.General</th><th scope=col>Codi</th></tr>\n",
              "\t<tr><th></th><th scope=col>&lt;chr&gt;</th><th scope=col>&lt;int&gt;</th><th scope=col>&lt;dbl&gt;</th><th scope=col>&lt;dbl&gt;</th><th scope=col>&lt;dbl&gt;</th><th scope=col>&lt;dbl&gt;</th><th scope=col>&lt;dbl&gt;</th><th scope=col>&lt;dbl&gt;</th><th scope=col>&lt;dbl&gt;</th><th scope=col>&lt;chr&gt;</th><th scope=col>&lt;dbl&gt;</th><th scope=col>&lt;dbl&gt;</th><th scope=col>&lt;dbl&gt;</th><th scope=col>&lt;chr&gt;</th></tr>\n",
              "</thead>\n",
              "<tbody>\n",
              "\t<tr><th scope=row>1</th><td>Afganistán</td><td>2023</td><td> 5500.0</td><td>     NA</td><td>     NA</td><td>  NA</td><td>   NA</td><td>   -218</td><td>-1.36</td><td>NA </td><td>  16022</td><td> 2.7</td><td>  NA</td><td>AF</td></tr>\n",
              "\t<tr><th scope=row>2</th><td>Albania   </td><td>2023</td><td>37000.0</td><td> 393.35</td><td>     NA</td><td>  NA</td><td>   NA</td><td>     NA</td><td>   NA</td><td>NA </td><td>  21255</td><td> 3.4</td><td>  NA</td><td>AL</td></tr>\n",
              "\t<tr><th scope=row>3</th><td>Alemania  </td><td>2023</td><td> 1997.0</td><td>2146.35</td><td>2631777</td><td>62.9</td><td>31539</td><td>-107522</td><td>-2.60</td><td>3,2</td><td>4185550</td><td>-0.3</td><td> 3.7</td><td>DE</td></tr>\n",
              "\t<tr><th scope=row>4</th><td>Alemania  </td><td>2023</td><td> 1997.0</td><td>2146.35</td><td>2631777</td><td>62.9</td><td>31539</td><td>-107522</td><td>-2.60</td><td>3,2</td><td>4185550</td><td>-0.3</td><td> 3.7</td><td>DE</td></tr>\n",
              "\t<tr><th scope=row>5</th><td>Andorra   </td><td>2023</td><td> 1286.1</td><td>1371.80</td><td>   1255</td><td>36.4</td><td>14747</td><td>     79</td><td> 2.30</td><td>NA </td><td>   3448</td><td> 1.4</td><td> 4.6</td><td>AD</td></tr>\n",
              "\t<tr><th scope=row>6</th><td>Angola    </td><td>2023</td><td>32181.2</td><td>  47.00</td><td>     NA</td><td>  NA</td><td>   NA</td><td>     NA</td><td>   NA</td><td>NA </td><td>  82929</td><td> 0.9</td><td>20.0</td><td>AO</td></tr>\n",
              "</tbody>\n",
              "</table>\n"
            ],
            "text/markdown": "\nA data.frame: 6 × 14\n\n| <!--/--> | Pais &lt;chr&gt; | Fecha &lt;int&gt; | SMI.Mon..Local &lt;dbl&gt; | SMI &lt;dbl&gt; | Deute.Total &lt;dbl&gt; | Deute.PIB &lt;dbl&gt; | Deute.Per.Capita &lt;dbl&gt; | Dèficit &lt;dbl&gt; | Dèficit.PIB &lt;dbl&gt; | Atur &lt;chr&gt; | PIB.anual &lt;dbl&gt; | Var..PIB.... &lt;dbl&gt; | IPC.Anual.General &lt;dbl&gt; | Codi &lt;chr&gt; |\n|---|---|---|---|---|---|---|---|---|---|---|---|---|---|---|\n| 1 | Afganistán | 2023 |  5500.0 |      NA |      NA |   NA |    NA |    -218 | -1.36 | NA  |   16022 |  2.7 |   NA | AF |\n| 2 | Albania    | 2023 | 37000.0 |  393.35 |      NA |   NA |    NA |      NA |    NA | NA  |   21255 |  3.4 |   NA | AL |\n| 3 | Alemania   | 2023 |  1997.0 | 2146.35 | 2631777 | 62.9 | 31539 | -107522 | -2.60 | 3,2 | 4185550 | -0.3 |  3.7 | DE |\n| 4 | Alemania   | 2023 |  1997.0 | 2146.35 | 2631777 | 62.9 | 31539 | -107522 | -2.60 | 3,2 | 4185550 | -0.3 |  3.7 | DE |\n| 5 | Andorra    | 2023 |  1286.1 | 1371.80 |    1255 | 36.4 | 14747 |      79 |  2.30 | NA  |    3448 |  1.4 |  4.6 | AD |\n| 6 | Angola     | 2023 | 32181.2 |   47.00 |      NA |   NA |    NA |      NA |    NA | NA  |   82929 |  0.9 | 20.0 | AO |\n\n",
            "text/latex": "A data.frame: 6 × 14\n\\begin{tabular}{r|llllllllllllll}\n  & Pais & Fecha & SMI.Mon..Local & SMI & Deute.Total & Deute.PIB & Deute.Per.Capita & Dèficit & Dèficit.PIB & Atur & PIB.anual & Var..PIB.... & IPC.Anual.General & Codi\\\\\n  & <chr> & <int> & <dbl> & <dbl> & <dbl> & <dbl> & <dbl> & <dbl> & <dbl> & <chr> & <dbl> & <dbl> & <dbl> & <chr>\\\\\n\\hline\n\t1 & Afganistán & 2023 &  5500.0 &      NA &      NA &   NA &    NA &    -218 & -1.36 & NA  &   16022 &  2.7 &   NA & AF\\\\\n\t2 & Albania    & 2023 & 37000.0 &  393.35 &      NA &   NA &    NA &      NA &    NA & NA  &   21255 &  3.4 &   NA & AL\\\\\n\t3 & Alemania   & 2023 &  1997.0 & 2146.35 & 2631777 & 62.9 & 31539 & -107522 & -2.60 & 3,2 & 4185550 & -0.3 &  3.7 & DE\\\\\n\t4 & Alemania   & 2023 &  1997.0 & 2146.35 & 2631777 & 62.9 & 31539 & -107522 & -2.60 & 3,2 & 4185550 & -0.3 &  3.7 & DE\\\\\n\t5 & Andorra    & 2023 &  1286.1 & 1371.80 &    1255 & 36.4 & 14747 &      79 &  2.30 & NA  &    3448 &  1.4 &  4.6 & AD\\\\\n\t6 & Angola     & 2023 & 32181.2 &   47.00 &      NA &   NA &    NA &      NA &    NA & NA  &   82929 &  0.9 & 20.0 & AO\\\\\n\\end{tabular}\n",
            "text/plain": [
              "  Pais       Fecha SMI.Mon..Local SMI     Deute.Total Deute.PIB\n",
              "1 Afganistán 2023   5500.0             NA      NA       NA     \n",
              "2 Albania    2023  37000.0         393.35      NA       NA     \n",
              "3 Alemania   2023   1997.0        2146.35 2631777     62.9     \n",
              "4 Alemania   2023   1997.0        2146.35 2631777     62.9     \n",
              "5 Andorra    2023   1286.1        1371.80    1255     36.4     \n",
              "6 Angola     2023  32181.2          47.00      NA       NA     \n",
              "  Deute.Per.Capita Dèficit Dèficit.PIB Atur PIB.anual Var..PIB....\n",
              "1    NA               -218 -1.36       NA     16022    2.7        \n",
              "2    NA                 NA    NA       NA     21255    3.4        \n",
              "3 31539            -107522 -2.60       3,2  4185550   -0.3        \n",
              "4 31539            -107522 -2.60       3,2  4185550   -0.3        \n",
              "5 14747                 79  2.30       NA      3448    1.4        \n",
              "6    NA                 NA    NA       NA     82929    0.9        \n",
              "  IPC.Anual.General Codi\n",
              "1   NA              AF  \n",
              "2   NA              AL  \n",
              "3  3.7              DE  \n",
              "4  3.7              DE  \n",
              "5  4.6              AD  \n",
              "6 20.0              AO  "
            ]
          },
          "metadata": {}
        }
      ],
      "source": [
        "# Guardem el dataset obtingut a la pràctica anterior:\n",
        "data_frame <- read.csv('dataset.csv',na.strings='')\n",
        "head(data_frame)"
      ]
    },
    {
      "cell_type": "markdown",
      "metadata": {
        "id": "SQcRQz8hgzKQ"
      },
      "source": [
        "1. Descripció del dataset.\n",
        "\n",
        "Fem una petita descripció del dataset amb els maxims minims i els valors nuls d'aquest:\n"
      ]
    },
    {
      "cell_type": "code",
      "execution_count": 142,
      "metadata": {
        "id": "r-4H2pztkTuJ",
        "colab": {
          "base_uri": "https://localhost:8080/",
          "height": 573
        },
        "outputId": "2256278e-59f4-4b59-aad8-9d6a7713ba9d"
      },
      "outputs": [
        {
          "output_type": "display_data",
          "data": {
            "text/plain": [
              "     Pais               Fecha      SMI.Mon..Local          SMI        \n",
              " Length:233         Min.   :2016   Min.   :       1   Min.   :   1.6  \n",
              " Class :character   1st Qu.:2023   1st Qu.:    1203   1st Qu.: 183.2  \n",
              " Mode  :character   Median :2023   Median :    3673   Median : 369.9  \n",
              "                    Mean   :2023   Mean   :  584539   Mean   : 674.0  \n",
              "                    3rd Qu.:2023   3rd Qu.:   35000   3rd Qu.: 849.7  \n",
              "                    Max.   :2023   Max.   :53073300   Max.   :4626.4  \n",
              "                    NA's   :7      NA's   :100        NA's   :115     \n",
              "  Deute.Total         Deute.PIB      Deute.Per.Capita    Dèficit        \n",
              " Min.   :       5   Min.   :  2.33   Min.   :   180   Min.   :-1811546  \n",
              " 1st Qu.:    8536   1st Qu.: 39.51   1st Qu.:  1469   1st Qu.:  -11448  \n",
              " Median :   40386   Median : 54.54   Median :  4184   Median :   -1470  \n",
              " Mean   :  652980   Mean   : 60.25   Mean   : 11986   Mean   :  -38818  \n",
              " 3rd Qu.:  200409   3rd Qu.: 77.94   3rd Qu.: 14888   3rd Qu.:    -121  \n",
              " Max.   :30429116   Max.   :174.84   Max.   :138783   Max.   :   73995  \n",
              " NA's   :82         NA's   :82       NA's   :82       NA's   :78        \n",
              "  Dèficit.PIB          Atur             PIB.anual         Var..PIB....    \n",
              " Min.   :-31.580   Length:233         Min.   :      58   Min.   :-14.400  \n",
              " 1st Qu.: -5.190   Class :character   1st Qu.:   13943   1st Qu.:  0.975  \n",
              " Median : -2.990   Mode  :character   Median :   47143   Median :  2.800  \n",
              " Mean   : -2.705                      Mean   :  696402   Mean   :  2.850  \n",
              " 3rd Qu.: -1.005                      3rd Qu.:  327314   3rd Qu.:  4.850  \n",
              " Max.   : 29.920                      Max.   :25629842   Max.   : 33.000  \n",
              " NA's   :78                           NA's   :33         NA's   :33       \n",
              " IPC.Anual.General     Codi          \n",
              " Min.   : -2.70    Length:233        \n",
              " 1st Qu.:  2.60    Class :character  \n",
              " Median :  4.20    Mode  :character  \n",
              " Mean   : 11.84                      \n",
              " 3rd Qu.:  7.05                      \n",
              " Max.   :211.40                      \n",
              " NA's   :125                         "
            ]
          },
          "metadata": {}
        }
      ],
      "source": [
        "summary(data_frame)"
      ]
    },
    {
      "cell_type": "markdown",
      "metadata": {
        "id": "0WAeCen2g-jY"
      },
      "source": [
        "2. Integració i selecció de les dades:  \n",
        "\n",
        "Primer de tot, ens quedarem amb unes quantes de les columnes del dataset original. Eliminarem les següents: SMI.Mon.Local, ja que aporta la mateixa informació que SMI (USD), i així els valors són comparables entre tots els paisos.\n",
        "\n",
        "També eliminarem Deute.PIB, i Dèficit.PIB i ens quedarem amb les columnes Deute.Total, Deute.Per.Capita, Dèficit i PIB.anual. Fem això ja que les columnes Deute.PIB i Dèficit.PIB estan clarament correlacionades amb Duete, Dèficit i PIB.anual.\n",
        "\n",
        "De moment mantindrem Codi, ja que ens anirà bé per a la preparació de les dades, però després el traurem, ja que dona la mateixa informació que Pais."
      ]
    },
    {
      "cell_type": "code",
      "execution_count": 143,
      "metadata": {
        "id": "1r1P_vSCsf-H"
      },
      "outputs": [],
      "source": [
        "data <- data_frame[,c('Pais', 'Fecha', 'SMI', 'Deute.Total', 'Deute.Per.Capita', 'Dèficit', 'Atur', 'PIB.anual', 'Var..PIB....', 'IPC.Anual.General', 'Codi')]"
      ]
    },
    {
      "cell_type": "code",
      "execution_count": 144,
      "metadata": {
        "id": "3bVDkwbOqtBC",
        "colab": {
          "base_uri": "https://localhost:8080/",
          "height": 306
        },
        "outputId": "610f889b-d400-492e-f6e6-2f84c19745f8"
      },
      "outputs": [
        {
          "output_type": "display_data",
          "data": {
            "text/html": [
              "<table class=\"dataframe\">\n",
              "<caption>A data.frame: 6 × 11</caption>\n",
              "<thead>\n",
              "\t<tr><th></th><th scope=col>Pais</th><th scope=col>Fecha</th><th scope=col>SMI</th><th scope=col>Deute</th><th scope=col>Deute.Capita</th><th scope=col>Deficit</th><th scope=col>Atur</th><th scope=col>PIB</th><th scope=col>PIB.Var</th><th scope=col>IPC</th><th scope=col>Codi</th></tr>\n",
              "\t<tr><th></th><th scope=col>&lt;chr&gt;</th><th scope=col>&lt;int&gt;</th><th scope=col>&lt;dbl&gt;</th><th scope=col>&lt;dbl&gt;</th><th scope=col>&lt;dbl&gt;</th><th scope=col>&lt;dbl&gt;</th><th scope=col>&lt;chr&gt;</th><th scope=col>&lt;dbl&gt;</th><th scope=col>&lt;dbl&gt;</th><th scope=col>&lt;dbl&gt;</th><th scope=col>&lt;chr&gt;</th></tr>\n",
              "</thead>\n",
              "<tbody>\n",
              "\t<tr><th scope=row>1</th><td>Afganistán</td><td>2023</td><td>     NA</td><td>     NA</td><td>   NA</td><td>   -218</td><td>NA </td><td>  16022</td><td> 2.7</td><td>  NA</td><td>AF</td></tr>\n",
              "\t<tr><th scope=row>2</th><td>Albania   </td><td>2023</td><td> 393.35</td><td>     NA</td><td>   NA</td><td>     NA</td><td>NA </td><td>  21255</td><td> 3.4</td><td>  NA</td><td>AL</td></tr>\n",
              "\t<tr><th scope=row>3</th><td>Alemania  </td><td>2023</td><td>2146.35</td><td>2631777</td><td>31539</td><td>-107522</td><td>3,2</td><td>4185550</td><td>-0.3</td><td> 3.7</td><td>DE</td></tr>\n",
              "\t<tr><th scope=row>4</th><td>Alemania  </td><td>2023</td><td>2146.35</td><td>2631777</td><td>31539</td><td>-107522</td><td>3,2</td><td>4185550</td><td>-0.3</td><td> 3.7</td><td>DE</td></tr>\n",
              "\t<tr><th scope=row>5</th><td>Andorra   </td><td>2023</td><td>1371.80</td><td>   1255</td><td>14747</td><td>     79</td><td>NA </td><td>   3448</td><td> 1.4</td><td> 4.6</td><td>AD</td></tr>\n",
              "\t<tr><th scope=row>6</th><td>Angola    </td><td>2023</td><td>  47.00</td><td>     NA</td><td>   NA</td><td>     NA</td><td>NA </td><td>  82929</td><td> 0.9</td><td>20.0</td><td>AO</td></tr>\n",
              "</tbody>\n",
              "</table>\n"
            ],
            "text/markdown": "\nA data.frame: 6 × 11\n\n| <!--/--> | Pais &lt;chr&gt; | Fecha &lt;int&gt; | SMI &lt;dbl&gt; | Deute &lt;dbl&gt; | Deute.Capita &lt;dbl&gt; | Deficit &lt;dbl&gt; | Atur &lt;chr&gt; | PIB &lt;dbl&gt; | PIB.Var &lt;dbl&gt; | IPC &lt;dbl&gt; | Codi &lt;chr&gt; |\n|---|---|---|---|---|---|---|---|---|---|---|---|\n| 1 | Afganistán | 2023 |      NA |      NA |    NA |    -218 | NA  |   16022 |  2.7 |   NA | AF |\n| 2 | Albania    | 2023 |  393.35 |      NA |    NA |      NA | NA  |   21255 |  3.4 |   NA | AL |\n| 3 | Alemania   | 2023 | 2146.35 | 2631777 | 31539 | -107522 | 3,2 | 4185550 | -0.3 |  3.7 | DE |\n| 4 | Alemania   | 2023 | 2146.35 | 2631777 | 31539 | -107522 | 3,2 | 4185550 | -0.3 |  3.7 | DE |\n| 5 | Andorra    | 2023 | 1371.80 |    1255 | 14747 |      79 | NA  |    3448 |  1.4 |  4.6 | AD |\n| 6 | Angola     | 2023 |   47.00 |      NA |    NA |      NA | NA  |   82929 |  0.9 | 20.0 | AO |\n\n",
            "text/latex": "A data.frame: 6 × 11\n\\begin{tabular}{r|lllllllllll}\n  & Pais & Fecha & SMI & Deute & Deute.Capita & Deficit & Atur & PIB & PIB.Var & IPC & Codi\\\\\n  & <chr> & <int> & <dbl> & <dbl> & <dbl> & <dbl> & <chr> & <dbl> & <dbl> & <dbl> & <chr>\\\\\n\\hline\n\t1 & Afganistán & 2023 &      NA &      NA &    NA &    -218 & NA  &   16022 &  2.7 &   NA & AF\\\\\n\t2 & Albania    & 2023 &  393.35 &      NA &    NA &      NA & NA  &   21255 &  3.4 &   NA & AL\\\\\n\t3 & Alemania   & 2023 & 2146.35 & 2631777 & 31539 & -107522 & 3,2 & 4185550 & -0.3 &  3.7 & DE\\\\\n\t4 & Alemania   & 2023 & 2146.35 & 2631777 & 31539 & -107522 & 3,2 & 4185550 & -0.3 &  3.7 & DE\\\\\n\t5 & Andorra    & 2023 & 1371.80 &    1255 & 14747 &      79 & NA  &    3448 &  1.4 &  4.6 & AD\\\\\n\t6 & Angola     & 2023 &   47.00 &      NA &    NA &      NA & NA  &   82929 &  0.9 & 20.0 & AO\\\\\n\\end{tabular}\n",
            "text/plain": [
              "  Pais       Fecha SMI     Deute   Deute.Capita Deficit Atur PIB     PIB.Var\n",
              "1 Afganistán 2023       NA      NA    NA           -218 NA     16022  2.7   \n",
              "2 Albania    2023   393.35      NA    NA             NA NA     21255  3.4   \n",
              "3 Alemania   2023  2146.35 2631777 31539        -107522 3,2  4185550 -0.3   \n",
              "4 Alemania   2023  2146.35 2631777 31539        -107522 3,2  4185550 -0.3   \n",
              "5 Andorra    2023  1371.80    1255 14747             79 NA      3448  1.4   \n",
              "6 Angola     2023    47.00      NA    NA             NA NA     82929  0.9   \n",
              "  IPC  Codi\n",
              "1   NA AF  \n",
              "2   NA AL  \n",
              "3  3.7 DE  \n",
              "4  3.7 DE  \n",
              "5  4.6 AD  \n",
              "6 20.0 AO  "
            ]
          },
          "metadata": {}
        }
      ],
      "source": [
        "# Simplificarem alguns dels noms de les columnes:\n",
        "names(data)[names(data) == 'Deute.Total'] <- 'Deute'\n",
        "names(data)[names(data) == 'Deute.Per.Capita'] <- 'Deute.Capita'\n",
        "names(data)[names(data) == 'Dèficit'] <- 'Deficit'\n",
        "names(data)[names(data) == 'PIB.anual'] <- 'PIB'\n",
        "names(data)[names(data) == 'Var..PIB....'] <- 'PIB.Var'\n",
        "names(data)[names(data) == 'IPC.Anual.General'] <- 'IPC'\n",
        "head(data)"
      ]
    },
    {
      "cell_type": "markdown",
      "metadata": {
        "id": "Lr6ASiBFqtnO"
      },
      "source": [
        "Afegirem una columna per indicar el continent en el qual es troba cada país. Aquesta columna serà la variable objectiu."
      ]
    },
    {
      "cell_type": "code",
      "execution_count": 145,
      "metadata": {
        "id": "UTK0vWX9Ta8Y",
        "colab": {
          "base_uri": "https://localhost:8080/"
        },
        "outputId": "109a4b3e-6a28-48c3-b893-c059fb2c30d2"
      },
      "outputs": [
        {
          "output_type": "stream",
          "name": "stderr",
          "text": [
            "Warning message:\n",
            "“Some values were not matched unambiguously: EA\n",
            "”\n"
          ]
        }
      ],
      "source": [
        "# Creem una nova columna, Continent, on a partir de la columna Codi\n",
        "# extraiem el continent. Així, ndiquem que l'origen de les dades és iso2c\n",
        "# i el destí continent.\n",
        "data$Continent <- countrycode(sourcevar = data[, \"Codi\"],\n",
        "                            origin = \"iso2c\",\n",
        "                            destination = \"continent\")"
      ]
    },
    {
      "cell_type": "code",
      "execution_count": 146,
      "metadata": {
        "id": "W8VVHqSlZGgF"
      },
      "outputs": [],
      "source": [
        "# Eliminem les files corresponents a la zona Euro (EA), ja que\n",
        "# només ens interessa estudiar paisos:"
      ]
    },
    {
      "cell_type": "code",
      "execution_count": 147,
      "metadata": {
        "id": "rYWkp33cZN-I"
      },
      "outputs": [],
      "source": [
        "data <- data[ !(data$Pais == 'Zona Euro'), ]"
      ]
    },
    {
      "cell_type": "code",
      "execution_count": 148,
      "metadata": {
        "id": "U-ZPYCdBj8Rz",
        "colab": {
          "base_uri": "https://localhost:8080/",
          "height": 118
        },
        "outputId": "960b73a1-9f6c-4273-e11b-4445a7ef6cd5"
      },
      "outputs": [
        {
          "output_type": "display_data",
          "data": {
            "text/html": [
              "<table class=\"dataframe\">\n",
              "<caption>A data.frame: 0 × 12</caption>\n",
              "<thead>\n",
              "\t<tr><th scope=col>Pais</th><th scope=col>Fecha</th><th scope=col>SMI</th><th scope=col>Deute</th><th scope=col>Deute.Capita</th><th scope=col>Deficit</th><th scope=col>Atur</th><th scope=col>PIB</th><th scope=col>PIB.Var</th><th scope=col>IPC</th><th scope=col>Codi</th><th scope=col>Continent</th></tr>\n",
              "\t<tr><th scope=col>&lt;chr&gt;</th><th scope=col>&lt;int&gt;</th><th scope=col>&lt;dbl&gt;</th><th scope=col>&lt;dbl&gt;</th><th scope=col>&lt;dbl&gt;</th><th scope=col>&lt;dbl&gt;</th><th scope=col>&lt;chr&gt;</th><th scope=col>&lt;dbl&gt;</th><th scope=col>&lt;dbl&gt;</th><th scope=col>&lt;dbl&gt;</th><th scope=col>&lt;chr&gt;</th><th scope=col>&lt;chr&gt;</th></tr>\n",
              "</thead>\n",
              "<tbody>\n",
              "</tbody>\n",
              "</table>\n"
            ],
            "text/markdown": "\nA data.frame: 0 × 12\n\n| Pais &lt;chr&gt; | Fecha &lt;int&gt; | SMI &lt;dbl&gt; | Deute &lt;dbl&gt; | Deute.Capita &lt;dbl&gt; | Deficit &lt;dbl&gt; | Atur &lt;chr&gt; | PIB &lt;dbl&gt; | PIB.Var &lt;dbl&gt; | IPC &lt;dbl&gt; | Codi &lt;chr&gt; | Continent &lt;chr&gt; |\n|---|---|---|---|---|---|---|---|---|---|---|---|\n\n",
            "text/latex": "A data.frame: 0 × 12\n\\begin{tabular}{llllllllllll}\n Pais & Fecha & SMI & Deute & Deute.Capita & Deficit & Atur & PIB & PIB.Var & IPC & Codi & Continent\\\\\n <chr> & <int> & <dbl> & <dbl> & <dbl> & <dbl> & <chr> & <dbl> & <dbl> & <dbl> & <chr> & <chr>\\\\\n\\hline\n\\end{tabular}\n",
            "text/plain": [
              "     Pais Fecha SMI Deute Deute.Capita Deficit Atur PIB PIB.Var IPC Codi\n",
              "     Continent"
            ]
          },
          "metadata": {}
        }
      ],
      "source": [
        "# Mirem si hi ha algun país amb continent NA:\n",
        "data[which(is.na(data$Continent)), ]"
      ]
    },
    {
      "cell_type": "code",
      "execution_count": 149,
      "metadata": {
        "id": "_jsNruvPktPu",
        "colab": {
          "base_uri": "https://localhost:8080/",
          "height": 306
        },
        "outputId": "ebfe3f79-1667-4d7d-85a6-667768adb130"
      },
      "outputs": [
        {
          "output_type": "display_data",
          "data": {
            "text/html": [
              "<table class=\"dataframe\">\n",
              "<caption>A data.frame: 6 × 12</caption>\n",
              "<thead>\n",
              "\t<tr><th></th><th scope=col>Pais</th><th scope=col>Fecha</th><th scope=col>SMI</th><th scope=col>Deute</th><th scope=col>Deute.Capita</th><th scope=col>Deficit</th><th scope=col>Atur</th><th scope=col>PIB</th><th scope=col>PIB.Var</th><th scope=col>IPC</th><th scope=col>Codi</th><th scope=col>Continent</th></tr>\n",
              "\t<tr><th></th><th scope=col>&lt;chr&gt;</th><th scope=col>&lt;int&gt;</th><th scope=col>&lt;dbl&gt;</th><th scope=col>&lt;dbl&gt;</th><th scope=col>&lt;dbl&gt;</th><th scope=col>&lt;dbl&gt;</th><th scope=col>&lt;chr&gt;</th><th scope=col>&lt;dbl&gt;</th><th scope=col>&lt;dbl&gt;</th><th scope=col>&lt;dbl&gt;</th><th scope=col>&lt;chr&gt;</th><th scope=col>&lt;chr&gt;</th></tr>\n",
              "</thead>\n",
              "<tbody>\n",
              "\t<tr><th scope=row>1</th><td>Afganistán</td><td>2023</td><td>     NA</td><td>     NA</td><td>   NA</td><td>   -218</td><td>NA </td><td>  16022</td><td> 2.7</td><td>  NA</td><td>AF</td><td>Asia  </td></tr>\n",
              "\t<tr><th scope=row>2</th><td>Albania   </td><td>2023</td><td> 393.35</td><td>     NA</td><td>   NA</td><td>     NA</td><td>NA </td><td>  21255</td><td> 3.4</td><td>  NA</td><td>AL</td><td>Europe</td></tr>\n",
              "\t<tr><th scope=row>3</th><td>Alemania  </td><td>2023</td><td>2146.35</td><td>2631777</td><td>31539</td><td>-107522</td><td>3,2</td><td>4185550</td><td>-0.3</td><td> 3.7</td><td>DE</td><td>Europe</td></tr>\n",
              "\t<tr><th scope=row>4</th><td>Alemania  </td><td>2023</td><td>2146.35</td><td>2631777</td><td>31539</td><td>-107522</td><td>3,2</td><td>4185550</td><td>-0.3</td><td> 3.7</td><td>DE</td><td>Europe</td></tr>\n",
              "\t<tr><th scope=row>5</th><td>Andorra   </td><td>2023</td><td>1371.80</td><td>   1255</td><td>14747</td><td>     79</td><td>NA </td><td>   3448</td><td> 1.4</td><td> 4.6</td><td>AD</td><td>Europe</td></tr>\n",
              "\t<tr><th scope=row>6</th><td>Angola    </td><td>2023</td><td>  47.00</td><td>     NA</td><td>   NA</td><td>     NA</td><td>NA </td><td>  82929</td><td> 0.9</td><td>20.0</td><td>AO</td><td>Africa</td></tr>\n",
              "</tbody>\n",
              "</table>\n"
            ],
            "text/markdown": "\nA data.frame: 6 × 12\n\n| <!--/--> | Pais &lt;chr&gt; | Fecha &lt;int&gt; | SMI &lt;dbl&gt; | Deute &lt;dbl&gt; | Deute.Capita &lt;dbl&gt; | Deficit &lt;dbl&gt; | Atur &lt;chr&gt; | PIB &lt;dbl&gt; | PIB.Var &lt;dbl&gt; | IPC &lt;dbl&gt; | Codi &lt;chr&gt; | Continent &lt;chr&gt; |\n|---|---|---|---|---|---|---|---|---|---|---|---|---|\n| 1 | Afganistán | 2023 |      NA |      NA |    NA |    -218 | NA  |   16022 |  2.7 |   NA | AF | Asia   |\n| 2 | Albania    | 2023 |  393.35 |      NA |    NA |      NA | NA  |   21255 |  3.4 |   NA | AL | Europe |\n| 3 | Alemania   | 2023 | 2146.35 | 2631777 | 31539 | -107522 | 3,2 | 4185550 | -0.3 |  3.7 | DE | Europe |\n| 4 | Alemania   | 2023 | 2146.35 | 2631777 | 31539 | -107522 | 3,2 | 4185550 | -0.3 |  3.7 | DE | Europe |\n| 5 | Andorra    | 2023 | 1371.80 |    1255 | 14747 |      79 | NA  |    3448 |  1.4 |  4.6 | AD | Europe |\n| 6 | Angola     | 2023 |   47.00 |      NA |    NA |      NA | NA  |   82929 |  0.9 | 20.0 | AO | Africa |\n\n",
            "text/latex": "A data.frame: 6 × 12\n\\begin{tabular}{r|llllllllllll}\n  & Pais & Fecha & SMI & Deute & Deute.Capita & Deficit & Atur & PIB & PIB.Var & IPC & Codi & Continent\\\\\n  & <chr> & <int> & <dbl> & <dbl> & <dbl> & <dbl> & <chr> & <dbl> & <dbl> & <dbl> & <chr> & <chr>\\\\\n\\hline\n\t1 & Afganistán & 2023 &      NA &      NA &    NA &    -218 & NA  &   16022 &  2.7 &   NA & AF & Asia  \\\\\n\t2 & Albania    & 2023 &  393.35 &      NA &    NA &      NA & NA  &   21255 &  3.4 &   NA & AL & Europe\\\\\n\t3 & Alemania   & 2023 & 2146.35 & 2631777 & 31539 & -107522 & 3,2 & 4185550 & -0.3 &  3.7 & DE & Europe\\\\\n\t4 & Alemania   & 2023 & 2146.35 & 2631777 & 31539 & -107522 & 3,2 & 4185550 & -0.3 &  3.7 & DE & Europe\\\\\n\t5 & Andorra    & 2023 & 1371.80 &    1255 & 14747 &      79 & NA  &    3448 &  1.4 &  4.6 & AD & Europe\\\\\n\t6 & Angola     & 2023 &   47.00 &      NA &    NA &      NA & NA  &   82929 &  0.9 & 20.0 & AO & Africa\\\\\n\\end{tabular}\n",
            "text/plain": [
              "  Pais       Fecha SMI     Deute   Deute.Capita Deficit Atur PIB     PIB.Var\n",
              "1 Afganistán 2023       NA      NA    NA           -218 NA     16022  2.7   \n",
              "2 Albania    2023   393.35      NA    NA             NA NA     21255  3.4   \n",
              "3 Alemania   2023  2146.35 2631777 31539        -107522 3,2  4185550 -0.3   \n",
              "4 Alemania   2023  2146.35 2631777 31539        -107522 3,2  4185550 -0.3   \n",
              "5 Andorra    2023  1371.80    1255 14747             79 NA      3448  1.4   \n",
              "6 Angola     2023    47.00      NA    NA             NA NA     82929  0.9   \n",
              "  IPC  Codi Continent\n",
              "1   NA AF   Asia     \n",
              "2   NA AL   Europe   \n",
              "3  3.7 DE   Europe   \n",
              "4  3.7 DE   Europe   \n",
              "5  4.6 AD   Europe   \n",
              "6 20.0 AO   Africa   "
            ]
          },
          "metadata": {}
        }
      ],
      "source": [
        "# Comprovem que el resultat ha sigut satisfactori:\n",
        "head(data)"
      ]
    },
    {
      "cell_type": "code",
      "execution_count": 150,
      "metadata": {
        "id": "9kXurkaljTKf",
        "colab": {
          "base_uri": "https://localhost:8080/",
          "height": 437
        },
        "outputId": "7c56934f-2bc3-4cab-9971-20cf15a1c916"
      },
      "outputs": [
        {
          "output_type": "display_data",
          "data": {
            "text/plain": [
              "plot without title"
            ],
            "image/png": "[encoded data removed]"
          },
          "metadata": {
            "image/png": {
              "width": 420,
              "height": 420
            }
          }
        }
      ],
      "source": [
        "# Estudiem la distribució de continents:\n",
        "barplot(table(data$Continent))"
      ]
    },
    {
      "cell_type": "code",
      "execution_count": 151,
      "metadata": {
        "id": "sbaRrZqijZ3j"
      },
      "outputs": [],
      "source": [
        "# Observem que Oceania té molts pocs països, en comparació a la resta.\n",
        "# Sabem que això és problemàtic a l'hora d'analitzar les dades, tant per mètodes\n",
        "# supervisats com no supervisats. Aplicar tècniques de random oversampling\n",
        "# pot ser útil per augmentar les dades dels altres continents, i que\n",
        "# tots tinguin com Àfrica, per exemple, però amb Oceania hi ha molta diferència.\n",
        "\n",
        "# Per tant, el que farem serà eliminar aquests valors del dataframe.\n",
        "data <- data[ !(data$Continent == 'Oceania'), ]"
      ]
    },
    {
      "cell_type": "code",
      "execution_count": 152,
      "metadata": {
        "id": "k4Yznzz-vxbm",
        "colab": {
          "base_uri": "https://localhost:8080/",
          "height": 52
        },
        "outputId": "c85c7dba-e99d-49f5-8f25-50c06cce711a"
      },
      "outputs": [
        {
          "output_type": "display_data",
          "data": {
            "text/html": [
              "<style>\n",
              ".dl-inline {width: auto; margin:0; padding: 0}\n",
              ".dl-inline>dt, .dl-inline>dd {float: none; width: auto; display: inline-block}\n",
              ".dl-inline>dt::after {content: \":\\0020\"; padding-right: .5ex}\n",
              ".dl-inline>dt:not(:first-of-type) {padding-left: .5ex}\n",
              "</style><dl class=dl-inline><dt>Pais</dt><dd>0</dd><dt>Fecha</dt><dd>7</dd><dt>SMI</dt><dd>105</dd><dt>Deute</dt><dd>71</dd><dt>Deute.Capita</dt><dd>71</dd><dt>Deficit</dt><dd>68</dd><dt>Atur</dt><dd>165</dd><dt>PIB</dt><dd>32</dd><dt>PIB.Var</dt><dd>32</dd><dt>IPC</dt><dd>112</dd><dt>Codi</dt><dd>0</dd><dt>Continent</dt><dd>0</dd></dl>\n"
            ],
            "text/markdown": "Pais\n:   0Fecha\n:   7SMI\n:   105Deute\n:   71Deute.Capita\n:   71Deficit\n:   68Atur\n:   165PIB\n:   32PIB.Var\n:   32IPC\n:   112Codi\n:   0Continent\n:   0\n\n",
            "text/latex": "\\begin{description*}\n\\item[Pais] 0\n\\item[Fecha] 7\n\\item[SMI] 105\n\\item[Deute] 71\n\\item[Deute.Capita] 71\n\\item[Deficit] 68\n\\item[Atur] 165\n\\item[PIB] 32\n\\item[PIB.Var] 32\n\\item[IPC] 112\n\\item[Codi] 0\n\\item[Continent] 0\n\\end{description*}\n",
            "text/plain": [
              "        Pais        Fecha          SMI        Deute Deute.Capita      Deficit \n",
              "           0            7          105           71           71           68 \n",
              "        Atur          PIB      PIB.Var          IPC         Codi    Continent \n",
              "         165           32           32          112            0            0 "
            ]
          },
          "metadata": {}
        }
      ],
      "source": [
        "# Mirem quants nuls tenim:\n",
        "colSums(is.na(data))"
      ]
    },
    {
      "cell_type": "code",
      "execution_count": 153,
      "metadata": {
        "id": "KfYPHrGlv5YA"
      },
      "outputs": [],
      "source": [
        "# Com que per algunes columnes tenim un nombre de nuls molt elevat,\n",
        "# hem decidit que buscarem algunes de les dades que falten per afegir-les\n",
        "# directament, i així tenir més valors fiables. Ho farem per les columnes\n",
        "# SMI, Atur i IPC, que són les columnes amb més valors faltants.\n",
        "\n",
        "# Pels altres valors faltants, després aplicarem altres mètodes d'imputació.\n",
        "# Així tenim les dues\n",
        "\n",
        "# Carreguem les dades noves:\n",
        "data_smi <- read.csv('smi_data.csv', na.strings='', sep=';')\n",
        "data_atur <- read.csv('atur_data.csv', na.strings='', sep=';')\n",
        "data_ipc <- read.csv('ipc_data.csv', na.strings='', sep=';')"
      ]
    },
    {
      "cell_type": "code",
      "execution_count": 154,
      "metadata": {
        "id": "smtoEAk84ZpO"
      },
      "outputs": [],
      "source": [
        "# Com que els noms dels països estan en anglès, afegirem una columna amb el\n",
        "# codi de cada país, per poder-los associar després al nostre conjunt de dades.\n",
        "data_smi$Codi <- countrycode(sourcevar = data_smi[, \"Pais\"],\n",
        "                            origin = \"country.name\",\n",
        "                            destination = \"iso2c\")\n",
        "data_atur$Codi <- countrycode(sourcevar = data_atur[, \"Pais\"],\n",
        "                            origin = \"country.name\",\n",
        "                            destination = \"iso2c\")\n",
        "data_ipc$Codi <- countrycode(sourcevar = data_ipc[, \"Pais\"],\n",
        "                            origin = \"country.name\",\n",
        "                            destination = \"iso2c\")"
      ]
    },
    {
      "cell_type": "code",
      "execution_count": 155,
      "metadata": {
        "id": "tbbRUA2G6MYq"
      },
      "outputs": [],
      "source": [
        "data_smi <- data_smi[,c('Codi', 'SMI')]\n",
        "data_atur <- data_atur[,c('Codi', 'Atur')]\n",
        "data_ipc <- data_ipc[,c('Codi', 'IPC')]"
      ]
    },
    {
      "cell_type": "code",
      "execution_count": 156,
      "metadata": {
        "id": "waaxfLCD3Dch",
        "colab": {
          "base_uri": "https://localhost:8080/"
        },
        "outputId": "a4b40910-2235-4cec-8bfc-25c32d00b69a"
      },
      "outputs": [
        {
          "output_type": "stream",
          "name": "stderr",
          "text": [
            "\u001b[1m\u001b[22mMatching, by = \"Codi\"\n",
            "\u001b[1m\u001b[22mMatching, by = \"Codi\"\n",
            "\u001b[1m\u001b[22mMatching, by = \"Codi\"\n"
          ]
        }
      ],
      "source": [
        "# Per tenir dades més consistents, en comptes d'agafar només els valors que\n",
        "# falten, substituirem tots els valors de cada columna, així tindrem que\n",
        "# cada columna prové de la mateixa font d'informació.\n",
        "data <- dplyr::rows_update(data, data_smi, unmatched = 'ignore')\n",
        "data <- dplyr::rows_update(data, data_atur, unmatched = 'ignore')\n",
        "data <- dplyr::rows_update(data, data_ipc, unmatched = 'ignore')"
      ]
    },
    {
      "cell_type": "code",
      "execution_count": 157,
      "metadata": {
        "id": "Utt5SycaDK1I",
        "colab": {
          "base_uri": "https://localhost:8080/",
          "height": 52
        },
        "outputId": "9954708e-7455-49a9-8b2a-d23129f82c1f"
      },
      "outputs": [
        {
          "output_type": "display_data",
          "data": {
            "text/html": [
              "<style>\n",
              ".dl-inline {width: auto; margin:0; padding: 0}\n",
              ".dl-inline>dt, .dl-inline>dd {float: none; width: auto; display: inline-block}\n",
              ".dl-inline>dt::after {content: \":\\0020\"; padding-right: .5ex}\n",
              ".dl-inline>dt:not(:first-of-type) {padding-left: .5ex}\n",
              "</style><dl class=dl-inline><dt>Pais</dt><dd>0</dd><dt>Fecha</dt><dd>7</dd><dt>SMI</dt><dd>36</dd><dt>Deute</dt><dd>71</dd><dt>Deute.Capita</dt><dd>71</dd><dt>Deficit</dt><dd>68</dd><dt>Atur</dt><dd>0</dd><dt>PIB</dt><dd>32</dd><dt>PIB.Var</dt><dd>32</dd><dt>IPC</dt><dd>42</dd><dt>Codi</dt><dd>0</dd><dt>Continent</dt><dd>0</dd></dl>\n"
            ],
            "text/markdown": "Pais\n:   0Fecha\n:   7SMI\n:   36Deute\n:   71Deute.Capita\n:   71Deficit\n:   68Atur\n:   0PIB\n:   32PIB.Var\n:   32IPC\n:   42Codi\n:   0Continent\n:   0\n\n",
            "text/latex": "\\begin{description*}\n\\item[Pais] 0\n\\item[Fecha] 7\n\\item[SMI] 36\n\\item[Deute] 71\n\\item[Deute.Capita] 71\n\\item[Deficit] 68\n\\item[Atur] 0\n\\item[PIB] 32\n\\item[PIB.Var] 32\n\\item[IPC] 42\n\\item[Codi] 0\n\\item[Continent] 0\n\\end{description*}\n",
            "text/plain": [
              "        Pais        Fecha          SMI        Deute Deute.Capita      Deficit \n",
              "           0            7           36           71           71           68 \n",
              "        Atur          PIB      PIB.Var          IPC         Codi    Continent \n",
              "           0           32           32           42            0            0 "
            ]
          },
          "metadata": {}
        }
      ],
      "source": [
        "# Comprovem que hem reduït molt el nombre de valors nuls per aquestes columnes:\n",
        "colSums(is.na(data))"
      ]
    },
    {
      "cell_type": "code",
      "execution_count": 158,
      "metadata": {
        "id": "tfcnUvMOlTbF",
        "colab": {
          "base_uri": "https://localhost:8080/",
          "height": 69
        },
        "outputId": "5ca1252c-178f-4d10-9522-241168c1cae7"
      },
      "outputs": [
        {
          "output_type": "display_data",
          "data": {
            "text/html": [
              "<style>\n",
              ".dl-inline {width: auto; margin:0; padding: 0}\n",
              ".dl-inline>dt, .dl-inline>dd {float: none; width: auto; display: inline-block}\n",
              ".dl-inline>dt::after {content: \":\\0020\"; padding-right: .5ex}\n",
              ".dl-inline>dt:not(:first-of-type) {padding-left: .5ex}\n",
              "</style><dl class=dl-inline><dt>Pais</dt><dd>'character'</dd><dt>Fecha</dt><dd>'integer'</dd><dt>SMI</dt><dd>'numeric'</dd><dt>Deute</dt><dd>'numeric'</dd><dt>Deute.Capita</dt><dd>'numeric'</dd><dt>Deficit</dt><dd>'numeric'</dd><dt>Atur</dt><dd>'character'</dd><dt>PIB</dt><dd>'numeric'</dd><dt>PIB.Var</dt><dd>'numeric'</dd><dt>IPC</dt><dd>'numeric'</dd><dt>Codi</dt><dd>'character'</dd><dt>Continent</dt><dd>'character'</dd></dl>\n"
            ],
            "text/markdown": "Pais\n:   'character'Fecha\n:   'integer'SMI\n:   'numeric'Deute\n:   'numeric'Deute.Capita\n:   'numeric'Deficit\n:   'numeric'Atur\n:   'character'PIB\n:   'numeric'PIB.Var\n:   'numeric'IPC\n:   'numeric'Codi\n:   'character'Continent\n:   'character'\n\n",
            "text/latex": "\\begin{description*}\n\\item[Pais] 'character'\n\\item[Fecha] 'integer'\n\\item[SMI] 'numeric'\n\\item[Deute] 'numeric'\n\\item[Deute.Capita] 'numeric'\n\\item[Deficit] 'numeric'\n\\item[Atur] 'character'\n\\item[PIB] 'numeric'\n\\item[PIB.Var] 'numeric'\n\\item[IPC] 'numeric'\n\\item[Codi] 'character'\n\\item[Continent] 'character'\n\\end{description*}\n",
            "text/plain": [
              "        Pais        Fecha          SMI        Deute Deute.Capita      Deficit \n",
              " \"character\"    \"integer\"    \"numeric\"    \"numeric\"    \"numeric\"    \"numeric\" \n",
              "        Atur          PIB      PIB.Var          IPC         Codi    Continent \n",
              " \"character\"    \"numeric\"    \"numeric\"    \"numeric\"  \"character\"  \"character\" "
            ]
          },
          "metadata": {}
        }
      ],
      "source": [
        "# Mirem la classe de cada columna:\n",
        "sapply(data, class)"
      ]
    },
    {
      "cell_type": "code",
      "execution_count": 159,
      "metadata": {
        "id": "x7BEs1ArlHk5",
        "colab": {
          "base_uri": "https://localhost:8080/",
          "height": 69
        },
        "outputId": "c9c8f79a-5a7c-410b-f131-d7ebbd182140"
      },
      "outputs": [
        {
          "output_type": "display_data",
          "data": {
            "text/html": [
              "<style>\n",
              ".dl-inline {width: auto; margin:0; padding: 0}\n",
              ".dl-inline>dt, .dl-inline>dd {float: none; width: auto; display: inline-block}\n",
              ".dl-inline>dt::after {content: \":\\0020\"; padding-right: .5ex}\n",
              ".dl-inline>dt:not(:first-of-type) {padding-left: .5ex}\n",
              "</style><dl class=dl-inline><dt>Pais</dt><dd>'character'</dd><dt>Fecha</dt><dd>'integer'</dd><dt>SMI</dt><dd>'numeric'</dd><dt>Deute</dt><dd>'numeric'</dd><dt>Deute.Capita</dt><dd>'numeric'</dd><dt>Deficit</dt><dd>'numeric'</dd><dt>Atur</dt><dd>'numeric'</dd><dt>PIB</dt><dd>'numeric'</dd><dt>PIB.Var</dt><dd>'numeric'</dd><dt>IPC</dt><dd>'numeric'</dd><dt>Codi</dt><dd>'character'</dd><dt>Continent</dt><dd>'character'</dd></dl>\n"
            ],
            "text/markdown": "Pais\n:   'character'Fecha\n:   'integer'SMI\n:   'numeric'Deute\n:   'numeric'Deute.Capita\n:   'numeric'Deficit\n:   'numeric'Atur\n:   'numeric'PIB\n:   'numeric'PIB.Var\n:   'numeric'IPC\n:   'numeric'Codi\n:   'character'Continent\n:   'character'\n\n",
            "text/latex": "\\begin{description*}\n\\item[Pais] 'character'\n\\item[Fecha] 'integer'\n\\item[SMI] 'numeric'\n\\item[Deute] 'numeric'\n\\item[Deute.Capita] 'numeric'\n\\item[Deficit] 'numeric'\n\\item[Atur] 'numeric'\n\\item[PIB] 'numeric'\n\\item[PIB.Var] 'numeric'\n\\item[IPC] 'numeric'\n\\item[Codi] 'character'\n\\item[Continent] 'character'\n\\end{description*}\n",
            "text/plain": [
              "        Pais        Fecha          SMI        Deute Deute.Capita      Deficit \n",
              " \"character\"    \"integer\"    \"numeric\"    \"numeric\"    \"numeric\"    \"numeric\" \n",
              "        Atur          PIB      PIB.Var          IPC         Codi    Continent \n",
              "   \"numeric\"    \"numeric\"    \"numeric\"    \"numeric\"  \"character\"  \"character\" "
            ]
          },
          "metadata": {}
        }
      ],
      "source": [
        "# Corregim la variable Atur perque interpreti com a numèric:\n",
        "data$Atur <- gsub(\",\", \".\", data$Atur)\n",
        "data$Atur <- as.numeric(data$Atur)\n",
        "sapply(data, class)"
      ]
    },
    {
      "cell_type": "code",
      "execution_count": 160,
      "metadata": {
        "id": "FnmJ4IrUEMdB",
        "colab": {
          "base_uri": "https://localhost:8080/",
          "height": 306
        },
        "outputId": "b99533d2-0b90-4376-ec09-648abd9ba2f7"
      },
      "outputs": [
        {
          "output_type": "display_data",
          "data": {
            "text/html": [
              "<table class=\"dataframe\">\n",
              "<caption>A data.frame: 6 × 12</caption>\n",
              "<thead>\n",
              "\t<tr><th></th><th scope=col>Pais</th><th scope=col>Fecha</th><th scope=col>SMI</th><th scope=col>Deute</th><th scope=col>Deute.Capita</th><th scope=col>Deficit</th><th scope=col>Atur</th><th scope=col>PIB</th><th scope=col>PIB.Var</th><th scope=col>IPC</th><th scope=col>Codi</th><th scope=col>Continent</th></tr>\n",
              "\t<tr><th></th><th scope=col>&lt;chr&gt;</th><th scope=col>&lt;int&gt;</th><th scope=col>&lt;dbl&gt;</th><th scope=col>&lt;dbl&gt;</th><th scope=col>&lt;dbl&gt;</th><th scope=col>&lt;dbl&gt;</th><th scope=col>&lt;dbl&gt;</th><th scope=col>&lt;dbl&gt;</th><th scope=col>&lt;dbl&gt;</th><th scope=col>&lt;dbl&gt;</th><th scope=col>&lt;chr&gt;</th><th scope=col>&lt;chr&gt;</th></tr>\n",
              "</thead>\n",
              "<tbody>\n",
              "\t<tr><th scope=row>1</th><td>Afganistán</td><td>2023</td><td>  71.50</td><td>     NA</td><td>   NA</td><td>   -218</td><td>14.39</td><td>  16022</td><td> 2.7</td><td>   NA</td><td>AF</td><td>Asia  </td></tr>\n",
              "\t<tr><th scope=row>2</th><td>Albania   </td><td>2023</td><td> 386.42</td><td>     NA</td><td>   NA</td><td>     NA</td><td>11.00</td><td>  21255</td><td> 3.4</td><td>   NA</td><td>AL</td><td>Europe</td></tr>\n",
              "\t<tr><th scope=row>3</th><td>Alemania  </td><td>2023</td><td>2544.08</td><td>2631777</td><td>31539</td><td>-107522</td><td> 3.29</td><td>4185550</td><td>-0.3</td><td> 5.95</td><td>DE</td><td>Europe</td></tr>\n",
              "\t<tr><th scope=row>4</th><td>Alemania  </td><td>2023</td><td>2544.08</td><td>2631777</td><td>31539</td><td>-107522</td><td> 3.29</td><td>4185550</td><td>-0.3</td><td> 5.95</td><td>DE</td><td>Europe</td></tr>\n",
              "\t<tr><th scope=row>5</th><td>Andorra   </td><td>2023</td><td>1521.08</td><td>   1255</td><td>14747</td><td>     79</td><td> 1.50</td><td>   3448</td><td> 1.4</td><td>   NA</td><td>AD</td><td>Europe</td></tr>\n",
              "\t<tr><th scope=row>6</th><td>Angola    </td><td>2023</td><td>  55.25</td><td>     NA</td><td>   NA</td><td>     NA</td><td> 8.50</td><td>  82929</td><td> 0.9</td><td>13.64</td><td>AO</td><td>Africa</td></tr>\n",
              "</tbody>\n",
              "</table>\n"
            ],
            "text/markdown": "\nA data.frame: 6 × 12\n\n| <!--/--> | Pais &lt;chr&gt; | Fecha &lt;int&gt; | SMI &lt;dbl&gt; | Deute &lt;dbl&gt; | Deute.Capita &lt;dbl&gt; | Deficit &lt;dbl&gt; | Atur &lt;dbl&gt; | PIB &lt;dbl&gt; | PIB.Var &lt;dbl&gt; | IPC &lt;dbl&gt; | Codi &lt;chr&gt; | Continent &lt;chr&gt; |\n|---|---|---|---|---|---|---|---|---|---|---|---|---|\n| 1 | Afganistán | 2023 |   71.50 |      NA |    NA |    -218 | 14.39 |   16022 |  2.7 |    NA | AF | Asia   |\n| 2 | Albania    | 2023 |  386.42 |      NA |    NA |      NA | 11.00 |   21255 |  3.4 |    NA | AL | Europe |\n| 3 | Alemania   | 2023 | 2544.08 | 2631777 | 31539 | -107522 |  3.29 | 4185550 | -0.3 |  5.95 | DE | Europe |\n| 4 | Alemania   | 2023 | 2544.08 | 2631777 | 31539 | -107522 |  3.29 | 4185550 | -0.3 |  5.95 | DE | Europe |\n| 5 | Andorra    | 2023 | 1521.08 |    1255 | 14747 |      79 |  1.50 |    3448 |  1.4 |    NA | AD | Europe |\n| 6 | Angola     | 2023 |   55.25 |      NA |    NA |      NA |  8.50 |   82929 |  0.9 | 13.64 | AO | Africa |\n\n",
            "text/latex": "A data.frame: 6 × 12\n\\begin{tabular}{r|llllllllllll}\n  & Pais & Fecha & SMI & Deute & Deute.Capita & Deficit & Atur & PIB & PIB.Var & IPC & Codi & Continent\\\\\n  & <chr> & <int> & <dbl> & <dbl> & <dbl> & <dbl> & <dbl> & <dbl> & <dbl> & <dbl> & <chr> & <chr>\\\\\n\\hline\n\t1 & Afganistán & 2023 &   71.50 &      NA &    NA &    -218 & 14.39 &   16022 &  2.7 &    NA & AF & Asia  \\\\\n\t2 & Albania    & 2023 &  386.42 &      NA &    NA &      NA & 11.00 &   21255 &  3.4 &    NA & AL & Europe\\\\\n\t3 & Alemania   & 2023 & 2544.08 & 2631777 & 31539 & -107522 &  3.29 & 4185550 & -0.3 &  5.95 & DE & Europe\\\\\n\t4 & Alemania   & 2023 & 2544.08 & 2631777 & 31539 & -107522 &  3.29 & 4185550 & -0.3 &  5.95 & DE & Europe\\\\\n\t5 & Andorra    & 2023 & 1521.08 &    1255 & 14747 &      79 &  1.50 &    3448 &  1.4 &    NA & AD & Europe\\\\\n\t6 & Angola     & 2023 &   55.25 &      NA &    NA &      NA &  8.50 &   82929 &  0.9 & 13.64 & AO & Africa\\\\\n\\end{tabular}\n",
            "text/plain": [
              "  Pais       Fecha SMI     Deute   Deute.Capita Deficit Atur  PIB     PIB.Var\n",
              "1 Afganistán 2023    71.50      NA    NA           -218 14.39   16022  2.7   \n",
              "2 Albania    2023   386.42      NA    NA             NA 11.00   21255  3.4   \n",
              "3 Alemania   2023  2544.08 2631777 31539        -107522  3.29 4185550 -0.3   \n",
              "4 Alemania   2023  2544.08 2631777 31539        -107522  3.29 4185550 -0.3   \n",
              "5 Andorra    2023  1521.08    1255 14747             79  1.50    3448  1.4   \n",
              "6 Angola     2023    55.25      NA    NA             NA  8.50   82929  0.9   \n",
              "  IPC   Codi Continent\n",
              "1    NA AF   Asia     \n",
              "2    NA AL   Europe   \n",
              "3  5.95 DE   Europe   \n",
              "4  5.95 DE   Europe   \n",
              "5    NA AD   Europe   \n",
              "6 13.64 AO   Africa   "
            ]
          },
          "metadata": {}
        }
      ],
      "source": [
        "head(data)"
      ]
    },
    {
      "cell_type": "code",
      "execution_count": 161,
      "metadata": {
        "id": "96EUKB2a44Mq",
        "colab": {
          "base_uri": "https://localhost:8080/",
          "height": 323
        },
        "outputId": "dd7e8bbf-760c-4591-ff77-91593d7b9b32"
      },
      "outputs": [
        {
          "output_type": "display_data",
          "data": {
            "text/html": [
              "<table class=\"dataframe\">\n",
              "<caption>A data.frame: 6 × 12</caption>\n",
              "<thead>\n",
              "\t<tr><th></th><th scope=col>Pais</th><th scope=col>Fecha</th><th scope=col>SMI</th><th scope=col>Deute</th><th scope=col>Deute.Capita</th><th scope=col>Deficit</th><th scope=col>Atur</th><th scope=col>PIB</th><th scope=col>PIB.Var</th><th scope=col>IPC</th><th scope=col>Codi</th><th scope=col>Continent</th></tr>\n",
              "\t<tr><th></th><th scope=col>&lt;chr&gt;</th><th scope=col>&lt;int&gt;</th><th scope=col>&lt;dbl&gt;</th><th scope=col>&lt;dbl&gt;</th><th scope=col>&lt;dbl&gt;</th><th scope=col>&lt;dbl&gt;</th><th scope=col>&lt;dbl&gt;</th><th scope=col>&lt;dbl&gt;</th><th scope=col>&lt;dbl&gt;</th><th scope=col>&lt;dbl&gt;</th><th scope=col>&lt;chr&gt;</th><th scope=col>&lt;chr&gt;</th></tr>\n",
              "</thead>\n",
              "<tbody>\n",
              "\t<tr><th scope=row>1</th><td>Afganistán       </td><td>2023</td><td>  71.50</td><td>     NA</td><td>   NA</td><td>   -218</td><td>14.39</td><td>  16022</td><td> 2.7</td><td>   NA</td><td>AF</td><td>Asia    </td></tr>\n",
              "\t<tr><th scope=row>2</th><td>Albania          </td><td>2023</td><td> 386.42</td><td>     NA</td><td>   NA</td><td>     NA</td><td>11.00</td><td>  21255</td><td> 3.4</td><td>   NA</td><td>AL</td><td>Europe  </td></tr>\n",
              "\t<tr><th scope=row>3</th><td>Alemania         </td><td>2023</td><td>2544.08</td><td>2631777</td><td>31539</td><td>-107522</td><td> 3.29</td><td>4185550</td><td>-0.3</td><td> 5.95</td><td>DE</td><td>Europe  </td></tr>\n",
              "\t<tr><th scope=row>4</th><td>Andorra          </td><td>2023</td><td>1521.08</td><td>   1255</td><td>14747</td><td>     79</td><td> 1.50</td><td>   3448</td><td> 1.4</td><td>   NA</td><td>AD</td><td>Europe  </td></tr>\n",
              "\t<tr><th scope=row>5</th><td>Angola           </td><td>2023</td><td>  55.25</td><td>     NA</td><td>   NA</td><td>     NA</td><td> 8.50</td><td>  82929</td><td> 0.9</td><td>13.64</td><td>AO</td><td>Africa  </td></tr>\n",
              "\t<tr><th scope=row>6</th><td>Antigua y Barbuda</td><td>2023</td><td> 526.42</td><td>   1452</td><td>14375</td><td>    -32</td><td>11.00</td><td>   1880</td><td> 3.9</td><td> 5.07</td><td>AG</td><td>Americas</td></tr>\n",
              "</tbody>\n",
              "</table>\n"
            ],
            "text/markdown": "\nA data.frame: 6 × 12\n\n| <!--/--> | Pais &lt;chr&gt; | Fecha &lt;int&gt; | SMI &lt;dbl&gt; | Deute &lt;dbl&gt; | Deute.Capita &lt;dbl&gt; | Deficit &lt;dbl&gt; | Atur &lt;dbl&gt; | PIB &lt;dbl&gt; | PIB.Var &lt;dbl&gt; | IPC &lt;dbl&gt; | Codi &lt;chr&gt; | Continent &lt;chr&gt; |\n|---|---|---|---|---|---|---|---|---|---|---|---|---|\n| 1 | Afganistán        | 2023 |   71.50 |      NA |    NA |    -218 | 14.39 |   16022 |  2.7 |    NA | AF | Asia     |\n| 2 | Albania           | 2023 |  386.42 |      NA |    NA |      NA | 11.00 |   21255 |  3.4 |    NA | AL | Europe   |\n| 3 | Alemania          | 2023 | 2544.08 | 2631777 | 31539 | -107522 |  3.29 | 4185550 | -0.3 |  5.95 | DE | Europe   |\n| 4 | Andorra           | 2023 | 1521.08 |    1255 | 14747 |      79 |  1.50 |    3448 |  1.4 |    NA | AD | Europe   |\n| 5 | Angola            | 2023 |   55.25 |      NA |    NA |      NA |  8.50 |   82929 |  0.9 | 13.64 | AO | Africa   |\n| 6 | Antigua y Barbuda | 2023 |  526.42 |    1452 | 14375 |     -32 | 11.00 |    1880 |  3.9 |  5.07 | AG | Americas |\n\n",
            "text/latex": "A data.frame: 6 × 12\n\\begin{tabular}{r|llllllllllll}\n  & Pais & Fecha & SMI & Deute & Deute.Capita & Deficit & Atur & PIB & PIB.Var & IPC & Codi & Continent\\\\\n  & <chr> & <int> & <dbl> & <dbl> & <dbl> & <dbl> & <dbl> & <dbl> & <dbl> & <dbl> & <chr> & <chr>\\\\\n\\hline\n\t1 & Afganistán        & 2023 &   71.50 &      NA &    NA &    -218 & 14.39 &   16022 &  2.7 &    NA & AF & Asia    \\\\\n\t2 & Albania           & 2023 &  386.42 &      NA &    NA &      NA & 11.00 &   21255 &  3.4 &    NA & AL & Europe  \\\\\n\t3 & Alemania          & 2023 & 2544.08 & 2631777 & 31539 & -107522 &  3.29 & 4185550 & -0.3 &  5.95 & DE & Europe  \\\\\n\t4 & Andorra           & 2023 & 1521.08 &    1255 & 14747 &      79 &  1.50 &    3448 &  1.4 &    NA & AD & Europe  \\\\\n\t5 & Angola            & 2023 &   55.25 &      NA &    NA &      NA &  8.50 &   82929 &  0.9 & 13.64 & AO & Africa  \\\\\n\t6 & Antigua y Barbuda & 2023 &  526.42 &    1452 & 14375 &     -32 & 11.00 &    1880 &  3.9 &  5.07 & AG & Americas\\\\\n\\end{tabular}\n",
            "text/plain": [
              "  Pais              Fecha SMI     Deute   Deute.Capita Deficit Atur  PIB    \n",
              "1 Afganistán        2023    71.50      NA    NA           -218 14.39   16022\n",
              "2 Albania           2023   386.42      NA    NA             NA 11.00   21255\n",
              "3 Alemania          2023  2544.08 2631777 31539        -107522  3.29 4185550\n",
              "4 Andorra           2023  1521.08    1255 14747             79  1.50    3448\n",
              "5 Angola            2023    55.25      NA    NA             NA  8.50   82929\n",
              "6 Antigua y Barbuda 2023   526.42    1452 14375            -32 11.00    1880\n",
              "  PIB.Var IPC   Codi Continent\n",
              "1  2.7       NA AF   Asia     \n",
              "2  3.4       NA AL   Europe   \n",
              "3 -0.3     5.95 DE   Europe   \n",
              "4  1.4       NA AD   Europe   \n",
              "5  0.9    13.64 AO   Africa   \n",
              "6  3.9     5.07 AG   Americas "
            ]
          },
          "metadata": {}
        }
      ],
      "source": [
        "# Hi ha files repetides idènticament, com la d'Alemanya. Eliminem-les:\n",
        "data <- distinct(data)\n",
        "head(data)"
      ]
    },
    {
      "cell_type": "code",
      "execution_count": 162,
      "metadata": {
        "id": "7FLzsDCdIzNs",
        "colab": {
          "base_uri": "https://localhost:8080/",
          "height": 368
        },
        "outputId": "10d28f5a-e883-417f-dc41-fd80902116ea"
      },
      "outputs": [
        {
          "output_type": "display_data",
          "data": {
            "text/html": [
              "<table class=\"dataframe\">\n",
              "<caption>A data.frame: 8 × 12</caption>\n",
              "<thead>\n",
              "\t<tr><th></th><th scope=col>Pais</th><th scope=col>Fecha</th><th scope=col>SMI</th><th scope=col>Deute</th><th scope=col>Deute.Capita</th><th scope=col>Deficit</th><th scope=col>Atur</th><th scope=col>PIB</th><th scope=col>PIB.Var</th><th scope=col>IPC</th><th scope=col>Codi</th><th scope=col>Continent</th></tr>\n",
              "\t<tr><th></th><th scope=col>&lt;chr&gt;</th><th scope=col>&lt;int&gt;</th><th scope=col>&lt;dbl&gt;</th><th scope=col>&lt;dbl&gt;</th><th scope=col>&lt;dbl&gt;</th><th scope=col>&lt;dbl&gt;</th><th scope=col>&lt;dbl&gt;</th><th scope=col>&lt;dbl&gt;</th><th scope=col>&lt;dbl&gt;</th><th scope=col>&lt;dbl&gt;</th><th scope=col>&lt;chr&gt;</th><th scope=col>&lt;chr&gt;</th></tr>\n",
              "</thead>\n",
              "<tbody>\n",
              "\t<tr><th scope=row>197</th><td>Venezuela</td><td>2018</td><td>  0.86</td><td>   NA</td><td>  NA</td><td>   NA</td><td> 6.40</td><td>    NA</td><td> NA</td><td>   NA</td><td>VE</td><td>Americas</td></tr>\n",
              "\t<tr><th scope=row>198</th><td>Venezuela</td><td>2023</td><td>  0.86</td><td>   NA</td><td>  NA</td><td>   NA</td><td> 6.40</td><td>    NA</td><td> NA</td><td>   NA</td><td>VE</td><td>Americas</td></tr>\n",
              "\t<tr><th scope=row>199</th><td>Viet Nam </td><td>2023</td><td>132.58</td><td>   NA</td><td>  NA</td><td>   NA</td><td> 2.06</td><td>400989</td><td>5.0</td><td> 3.25</td><td>VN</td><td>Asia    </td></tr>\n",
              "\t<tr><th scope=row>200</th><td>Yemen    </td><td>  NA</td><td>    NA</td><td>   NA</td><td>  NA</td><td>   NA</td><td>13.60</td><td>    NA</td><td> NA</td><td>   NA</td><td>YE</td><td>Asia    </td></tr>\n",
              "\t<tr><th scope=row>201</th><td>Yibuti   </td><td>2023</td><td>    NA</td><td> 1283</td><td>1281</td><td> -125</td><td>27.93</td><td>  3790</td><td>6.7</td><td> 1.50</td><td>DJ</td><td>Africa  </td></tr>\n",
              "\t<tr><th scope=row>202</th><td>Zambia   </td><td>2023</td><td> 49.67</td><td>   NA</td><td>  NA</td><td>   NA</td><td>13.00</td><td> 26022</td><td>5.8</td><td>10.88</td><td>ZM</td><td>Africa  </td></tr>\n",
              "\t<tr><th scope=row>203</th><td>Zimbabue </td><td>2021</td><td>    NA</td><td>   NA</td><td>  NA</td><td>   NA</td><td> 5.20</td><td>    NA</td><td> NA</td><td>   NA</td><td>ZW</td><td>Africa  </td></tr>\n",
              "\t<tr><th scope=row>204</th><td>Zimbabue </td><td>2023</td><td>    NA</td><td>31498</td><td>1969</td><td>-2033</td><td> 5.20</td><td> 32745</td><td>5.0</td><td>   NA</td><td>ZW</td><td>Africa  </td></tr>\n",
              "</tbody>\n",
              "</table>\n"
            ],
            "text/markdown": "\nA data.frame: 8 × 12\n\n| <!--/--> | Pais &lt;chr&gt; | Fecha &lt;int&gt; | SMI &lt;dbl&gt; | Deute &lt;dbl&gt; | Deute.Capita &lt;dbl&gt; | Deficit &lt;dbl&gt; | Atur &lt;dbl&gt; | PIB &lt;dbl&gt; | PIB.Var &lt;dbl&gt; | IPC &lt;dbl&gt; | Codi &lt;chr&gt; | Continent &lt;chr&gt; |\n|---|---|---|---|---|---|---|---|---|---|---|---|---|\n| 197 | Venezuela | 2018 |   0.86 |    NA |   NA |    NA |  6.40 |     NA |  NA |    NA | VE | Americas |\n| 198 | Venezuela | 2023 |   0.86 |    NA |   NA |    NA |  6.40 |     NA |  NA |    NA | VE | Americas |\n| 199 | Viet Nam  | 2023 | 132.58 |    NA |   NA |    NA |  2.06 | 400989 | 5.0 |  3.25 | VN | Asia     |\n| 200 | Yemen     |   NA |     NA |    NA |   NA |    NA | 13.60 |     NA |  NA |    NA | YE | Asia     |\n| 201 | Yibuti    | 2023 |     NA |  1283 | 1281 |  -125 | 27.93 |   3790 | 6.7 |  1.50 | DJ | Africa   |\n| 202 | Zambia    | 2023 |  49.67 |    NA |   NA |    NA | 13.00 |  26022 | 5.8 | 10.88 | ZM | Africa   |\n| 203 | Zimbabue  | 2021 |     NA |    NA |   NA |    NA |  5.20 |     NA |  NA |    NA | ZW | Africa   |\n| 204 | Zimbabue  | 2023 |     NA | 31498 | 1969 | -2033 |  5.20 |  32745 | 5.0 |    NA | ZW | Africa   |\n\n",
            "text/latex": "A data.frame: 8 × 12\n\\begin{tabular}{r|llllllllllll}\n  & Pais & Fecha & SMI & Deute & Deute.Capita & Deficit & Atur & PIB & PIB.Var & IPC & Codi & Continent\\\\\n  & <chr> & <int> & <dbl> & <dbl> & <dbl> & <dbl> & <dbl> & <dbl> & <dbl> & <dbl> & <chr> & <chr>\\\\\n\\hline\n\t197 & Venezuela & 2018 &   0.86 &    NA &   NA &    NA &  6.40 &     NA &  NA &    NA & VE & Americas\\\\\n\t198 & Venezuela & 2023 &   0.86 &    NA &   NA &    NA &  6.40 &     NA &  NA &    NA & VE & Americas\\\\\n\t199 & Viet Nam  & 2023 & 132.58 &    NA &   NA &    NA &  2.06 & 400989 & 5.0 &  3.25 & VN & Asia    \\\\\n\t200 & Yemen     &   NA &     NA &    NA &   NA &    NA & 13.60 &     NA &  NA &    NA & YE & Asia    \\\\\n\t201 & Yibuti    & 2023 &     NA &  1283 & 1281 &  -125 & 27.93 &   3790 & 6.7 &  1.50 & DJ & Africa  \\\\\n\t202 & Zambia    & 2023 &  49.67 &    NA &   NA &    NA & 13.00 &  26022 & 5.8 & 10.88 & ZM & Africa  \\\\\n\t203 & Zimbabue  & 2021 &     NA &    NA &   NA &    NA &  5.20 &     NA &  NA &    NA & ZW & Africa  \\\\\n\t204 & Zimbabue  & 2023 &     NA & 31498 & 1969 & -2033 &  5.20 &  32745 & 5.0 &    NA & ZW & Africa  \\\\\n\\end{tabular}\n",
            "text/plain": [
              "    Pais      Fecha SMI    Deute Deute.Capita Deficit Atur  PIB    PIB.Var\n",
              "197 Venezuela 2018    0.86    NA   NA            NA    6.40     NA  NA    \n",
              "198 Venezuela 2023    0.86    NA   NA            NA    6.40     NA  NA    \n",
              "199 Viet Nam  2023  132.58    NA   NA            NA    2.06 400989 5.0    \n",
              "200 Yemen       NA      NA    NA   NA            NA   13.60     NA  NA    \n",
              "201 Yibuti    2023      NA  1283 1281          -125   27.93   3790 6.7    \n",
              "202 Zambia    2023   49.67    NA   NA            NA   13.00  26022 5.8    \n",
              "203 Zimbabue  2021      NA    NA   NA            NA    5.20     NA  NA    \n",
              "204 Zimbabue  2023      NA 31498 1969         -2033    5.20  32745 5.0    \n",
              "    IPC   Codi Continent\n",
              "197    NA VE   Americas \n",
              "198    NA VE   Americas \n",
              "199  3.25 VN   Asia     \n",
              "200    NA YE   Asia     \n",
              "201  1.50 DJ   Africa   \n",
              "202 10.88 ZM   Africa   \n",
              "203    NA ZW   Africa   \n",
              "204    NA ZW   Africa   "
            ]
          },
          "metadata": {}
        }
      ],
      "source": [
        "# Observem els útlims valors:\n",
        "tail(data, 8)"
      ]
    },
    {
      "cell_type": "code",
      "execution_count": 163,
      "metadata": {
        "id": "57Tfx67dJMts"
      },
      "outputs": [],
      "source": [
        "# Veiem que hi ha files diferents que corresponen al mateix país, però\n",
        "# diferents anys. Això és degut a que quan obteníem les dades de la web, sempre\n",
        "# agafavem el valor més actualitzat. Per la majoria de països, les dades\n",
        "# estaven actualitzades i tenim tota la informació de l'any\n",
        "# 2023. Per altres països teníem columnes d'aquest any, i columnes d'altres\n",
        "# anys, ja que era l'última informació disponible.\n",
        "\n",
        "# Com que el que ens interessa és tenir les últimes dades disponibles, encara\n",
        "# que potser no siguin totes de l'any 2023, el que farem serà ajuntar les files\n",
        "# corresponents al mateix país, i eliminarem la columna Fecha. Així tindrem\n",
        "# la informació més recent disponible per a cada país."
      ]
    },
    {
      "cell_type": "code",
      "execution_count": 164,
      "metadata": {
        "id": "roWaJhHPRCZR"
      },
      "outputs": [],
      "source": [
        "# Primer de tot eliminarem tots aquells paisos que no tinguin dades,\n",
        "# és a dir, aquells que no tenen valor a la columna Fecha.\n",
        "data <- data[!is.na(data$Fecha),]"
      ]
    },
    {
      "cell_type": "code",
      "execution_count": 165,
      "metadata": {
        "id": "bRVCSN8YJ3Fx"
      },
      "outputs": [],
      "source": [
        "# Com que ara no té sentit guardar la columna Fecha, ja que les dades no són\n",
        "# del mateix any, si no de l'any disponible, eliminarem la columna Fecha.\n",
        "# També eliminarem la columna Codi, ja que aporta la mateixa informació que\n",
        "# la columna Pais.\n",
        "\n",
        "# Eliminem les columnes Fecha i Codi:\n",
        "data <- data[,c('Pais', 'SMI', 'Deute', 'Deute.Capita', 'Deficit', 'Atur', 'PIB', 'PIB.Var', 'IPC', 'Continent')]"
      ]
    },
    {
      "cell_type": "code",
      "execution_count": 166,
      "metadata": {
        "id": "zZmWmMx6OU_o"
      },
      "outputs": [],
      "source": [
        "# Procedim a ajuntar les files amb valors faltants.\n",
        "\n",
        "# Solució extreta de:\n",
        "# https://stackoverflow.com/questions/45515218/combine-rows-in-data-frame-containing-na-to-make-complete-row\n",
        "\n",
        "coalesce_by_column <- function(data) {\n",
        "  return(coalesce(data[1], data[2]))\n",
        "}\n",
        "\n",
        "data <- data %>%\n",
        "  group_by(Pais, Continent) %>%\n",
        "  summarise_all(coalesce_by_column)"
      ]
    },
    {
      "cell_type": "code",
      "execution_count": 167,
      "metadata": {
        "id": "fQMsxpne5PCv",
        "colab": {
          "base_uri": "https://localhost:8080/",
          "height": 368
        },
        "outputId": "c40d777c-f472-413c-a6e7-d812b5775a8e"
      },
      "outputs": [
        {
          "output_type": "display_data",
          "data": {
            "text/html": [
              "<table class=\"dataframe\">\n",
              "<caption>A grouped_df: 8 × 10</caption>\n",
              "<thead>\n",
              "\t<tr><th scope=col>Pais</th><th scope=col>Continent</th><th scope=col>SMI</th><th scope=col>Deute</th><th scope=col>Deute.Capita</th><th scope=col>Deficit</th><th scope=col>Atur</th><th scope=col>PIB</th><th scope=col>PIB.Var</th><th scope=col>IPC</th></tr>\n",
              "\t<tr><th scope=col>&lt;chr&gt;</th><th scope=col>&lt;chr&gt;</th><th scope=col>&lt;dbl&gt;</th><th scope=col>&lt;dbl&gt;</th><th scope=col>&lt;dbl&gt;</th><th scope=col>&lt;dbl&gt;</th><th scope=col>&lt;dbl&gt;</th><th scope=col>&lt;dbl&gt;</th><th scope=col>&lt;dbl&gt;</th><th scope=col>&lt;dbl&gt;</th></tr>\n",
              "</thead>\n",
              "<tbody>\n",
              "\t<tr><td>Uganda    </td><td>Africa  </td><td> 35.50</td><td>24106</td><td>  568</td><td>-2300</td><td> 2.90</td><td> 47239</td><td>4.6</td><td> 5.35</td></tr>\n",
              "\t<tr><td>Uruguay   </td><td>Americas</td><td>511.33</td><td>46062</td><td>12957</td><td>-2197</td><td> 8.09</td><td> 71415</td><td>0.4</td><td> 5.87</td></tr>\n",
              "\t<tr><td>Uzbekistán</td><td>Asia    </td><td> 86.75</td><td>30538</td><td>  848</td><td>-3774</td><td> 7.85</td><td> 93922</td><td>6.3</td><td>   NA</td></tr>\n",
              "\t<tr><td>Venezuela </td><td>Americas</td><td>  0.86</td><td>   NA</td><td>   NA</td><td>   NA</td><td> 6.40</td><td>    NA</td><td> NA</td><td>   NA</td></tr>\n",
              "\t<tr><td>Viet Nam  </td><td>Asia    </td><td>132.58</td><td>   NA</td><td>   NA</td><td>   NA</td><td> 2.06</td><td>400989</td><td>5.0</td><td> 3.25</td></tr>\n",
              "\t<tr><td>Yibuti    </td><td>Africa  </td><td>    NA</td><td> 1283</td><td> 1281</td><td> -125</td><td>27.93</td><td>  3790</td><td>6.7</td><td> 1.50</td></tr>\n",
              "\t<tr><td>Zambia    </td><td>Africa  </td><td> 49.67</td><td>   NA</td><td>   NA</td><td>   NA</td><td>13.00</td><td> 26022</td><td>5.8</td><td>10.88</td></tr>\n",
              "\t<tr><td>Zimbabue  </td><td>Africa  </td><td>    NA</td><td>31498</td><td> 1969</td><td>-2033</td><td> 5.20</td><td> 32745</td><td>5.0</td><td>   NA</td></tr>\n",
              "</tbody>\n",
              "</table>\n"
            ],
            "text/markdown": "\nA grouped_df: 8 × 10\n\n| Pais &lt;chr&gt; | Continent &lt;chr&gt; | SMI &lt;dbl&gt; | Deute &lt;dbl&gt; | Deute.Capita &lt;dbl&gt; | Deficit &lt;dbl&gt; | Atur &lt;dbl&gt; | PIB &lt;dbl&gt; | PIB.Var &lt;dbl&gt; | IPC &lt;dbl&gt; |\n|---|---|---|---|---|---|---|---|---|---|\n| Uganda     | Africa   |  35.50 | 24106 |   568 | -2300 |  2.90 |  47239 | 4.6 |  5.35 |\n| Uruguay    | Americas | 511.33 | 46062 | 12957 | -2197 |  8.09 |  71415 | 0.4 |  5.87 |\n| Uzbekistán | Asia     |  86.75 | 30538 |   848 | -3774 |  7.85 |  93922 | 6.3 |    NA |\n| Venezuela  | Americas |   0.86 |    NA |    NA |    NA |  6.40 |     NA |  NA |    NA |\n| Viet Nam   | Asia     | 132.58 |    NA |    NA |    NA |  2.06 | 400989 | 5.0 |  3.25 |\n| Yibuti     | Africa   |     NA |  1283 |  1281 |  -125 | 27.93 |   3790 | 6.7 |  1.50 |\n| Zambia     | Africa   |  49.67 |    NA |    NA |    NA | 13.00 |  26022 | 5.8 | 10.88 |\n| Zimbabue   | Africa   |     NA | 31498 |  1969 | -2033 |  5.20 |  32745 | 5.0 |    NA |\n\n",
            "text/latex": "A grouped\\_df: 8 × 10\n\\begin{tabular}{llllllllll}\n Pais & Continent & SMI & Deute & Deute.Capita & Deficit & Atur & PIB & PIB.Var & IPC\\\\\n <chr> & <chr> & <dbl> & <dbl> & <dbl> & <dbl> & <dbl> & <dbl> & <dbl> & <dbl>\\\\\n\\hline\n\t Uganda     & Africa   &  35.50 & 24106 &   568 & -2300 &  2.90 &  47239 & 4.6 &  5.35\\\\\n\t Uruguay    & Americas & 511.33 & 46062 & 12957 & -2197 &  8.09 &  71415 & 0.4 &  5.87\\\\\n\t Uzbekistán & Asia     &  86.75 & 30538 &   848 & -3774 &  7.85 &  93922 & 6.3 &    NA\\\\\n\t Venezuela  & Americas &   0.86 &    NA &    NA &    NA &  6.40 &     NA &  NA &    NA\\\\\n\t Viet Nam   & Asia     & 132.58 &    NA &    NA &    NA &  2.06 & 400989 & 5.0 &  3.25\\\\\n\t Yibuti     & Africa   &     NA &  1283 &  1281 &  -125 & 27.93 &   3790 & 6.7 &  1.50\\\\\n\t Zambia     & Africa   &  49.67 &    NA &    NA &    NA & 13.00 &  26022 & 5.8 & 10.88\\\\\n\t Zimbabue   & Africa   &     NA & 31498 &  1969 & -2033 &  5.20 &  32745 & 5.0 &    NA\\\\\n\\end{tabular}\n",
            "text/plain": [
              "  Pais       Continent SMI    Deute Deute.Capita Deficit Atur  PIB    PIB.Var\n",
              "1 Uganda     Africa     35.50 24106   568        -2300    2.90  47239 4.6    \n",
              "2 Uruguay    Americas  511.33 46062 12957        -2197    8.09  71415 0.4    \n",
              "3 Uzbekistán Asia       86.75 30538   848        -3774    7.85  93922 6.3    \n",
              "4 Venezuela  Americas    0.86    NA    NA           NA    6.40     NA  NA    \n",
              "5 Viet Nam   Asia      132.58    NA    NA           NA    2.06 400989 5.0    \n",
              "6 Yibuti     Africa        NA  1283  1281         -125   27.93   3790 6.7    \n",
              "7 Zambia     Africa     49.67    NA    NA           NA   13.00  26022 5.8    \n",
              "8 Zimbabue   Africa        NA 31498  1969        -2033    5.20  32745 5.0    \n",
              "  IPC  \n",
              "1  5.35\n",
              "2  5.87\n",
              "3    NA\n",
              "4    NA\n",
              "5  3.25\n",
              "6  1.50\n",
              "7 10.88\n",
              "8    NA"
            ]
          },
          "metadata": {}
        }
      ],
      "source": [
        "# Comprovem que ara és correcte:\n",
        "tail(data, 8)"
      ]
    },
    {
      "cell_type": "markdown",
      "metadata": {
        "id": "FzxAKFsdYDNM"
      },
      "source": [
        "A falta de variables categoriques, en crearem a través de la discretització. Per afegir variables categòriques, substituirem els valors de les variables IPC, Atur i PIB.Var per valor categòrics."
      ]
    },
    {
      "cell_type": "code",
      "execution_count": 168,
      "metadata": {
        "id": "HJfHuSZbEbbO",
        "colab": {
          "base_uri": "https://localhost:8080/",
          "height": 52
        },
        "outputId": "2d49a386-a533-4402-cf2f-cb26f814857a"
      },
      "outputs": [
        {
          "output_type": "display_data",
          "data": {
            "text/html": [
              "<style>\n",
              ".dl-inline {width: auto; margin:0; padding: 0}\n",
              ".dl-inline>dt, .dl-inline>dd {float: none; width: auto; display: inline-block}\n",
              ".dl-inline>dt::after {content: \":\\0020\"; padding-right: .5ex}\n",
              ".dl-inline>dt:not(:first-of-type) {padding-left: .5ex}\n",
              "</style><dl class=dl-inline><dt>Pais</dt><dd>0</dd><dt>Continent</dt><dd>0</dd><dt>SMI</dt><dd>29</dd><dt>Deute</dt><dd>41</dd><dt>Deute.Capita</dt><dd>41</dd><dt>Deficit</dt><dd>38</dd><dt>Atur</dt><dd>0</dd><dt>PIB</dt><dd>3</dd><dt>PIB.Var</dt><dd>3</dd><dt>IPC</dt><dd>31</dd></dl>\n"
            ],
            "text/markdown": "Pais\n:   0Continent\n:   0SMI\n:   29Deute\n:   41Deute.Capita\n:   41Deficit\n:   38Atur\n:   0PIB\n:   3PIB.Var\n:   3IPC\n:   31\n\n",
            "text/latex": "\\begin{description*}\n\\item[Pais] 0\n\\item[Continent] 0\n\\item[SMI] 29\n\\item[Deute] 41\n\\item[Deute.Capita] 41\n\\item[Deficit] 38\n\\item[Atur] 0\n\\item[PIB] 3\n\\item[PIB.Var] 3\n\\item[IPC] 31\n\\end{description*}\n",
            "text/plain": [
              "        Pais    Continent          SMI        Deute Deute.Capita      Deficit \n",
              "           0            0           29           41           41           38 \n",
              "        Atur          PIB      PIB.Var          IPC \n",
              "           0            3            3           31 "
            ]
          },
          "metadata": {}
        }
      ],
      "source": [
        "colSums(is.na(data))"
      ]
    },
    {
      "cell_type": "markdown",
      "metadata": {
        "id": "x6ChMIziinPF"
      },
      "source": [
        "Comencem per discretitzar la columna Atur. Veiem com es distribueixen els valors en aquesta columna, per entendre quins intervals té sentit definir:"
      ]
    },
    {
      "cell_type": "code",
      "execution_count": 169,
      "metadata": {
        "id": "_j3ygx9caIl2",
        "colab": {
          "base_uri": "https://localhost:8080/",
          "height": 437
        },
        "outputId": "c75c9e1a-ba64-482e-8a90-ade35f1c256b"
      },
      "outputs": [
        {
          "output_type": "display_data",
          "data": {
            "text/plain": [
              "Plot with title “Histogram of data$Atur”"
            ],
            "image/png": "[encoded data removed]"
          },
          "metadata": {
            "image/png": {
              "width": 420,
              "height": 420
            }
          }
        }
      ],
      "source": [
        "# Fem un histograma:\n",
        "hist(data$Atur, breaks= 13)"
      ]
    },
    {
      "cell_type": "code",
      "execution_count": 170,
      "metadata": {
        "id": "vXbhXmnqYBcR"
      },
      "outputs": [],
      "source": [
        "# Definirem 4 trams, Baix, Moderat, Elevat i Massiu:\n",
        "tall_atur = c(0,5,10,20,Inf)\n",
        "data$Atur <- cut(data$Atur, breaks = tall_atur, labels = c('Baix', 'Moderat', 'Elevat', 'Massiu'), right = F)"
      ]
    },
    {
      "cell_type": "code",
      "execution_count": 171,
      "metadata": {
        "id": "UaPENG5wbvdC",
        "colab": {
          "base_uri": "https://localhost:8080/",
          "height": 323
        },
        "outputId": "c59f9c60-7d0d-4f18-9bfc-93c74e20fd24"
      },
      "outputs": [
        {
          "output_type": "display_data",
          "data": {
            "text/html": [
              "<table class=\"dataframe\">\n",
              "<caption>A grouped_df: 6 × 10</caption>\n",
              "<thead>\n",
              "\t<tr><th scope=col>Pais</th><th scope=col>Continent</th><th scope=col>SMI</th><th scope=col>Deute</th><th scope=col>Deute.Capita</th><th scope=col>Deficit</th><th scope=col>Atur</th><th scope=col>PIB</th><th scope=col>PIB.Var</th><th scope=col>IPC</th></tr>\n",
              "\t<tr><th scope=col>&lt;chr&gt;</th><th scope=col>&lt;chr&gt;</th><th scope=col>&lt;dbl&gt;</th><th scope=col>&lt;dbl&gt;</th><th scope=col>&lt;dbl&gt;</th><th scope=col>&lt;dbl&gt;</th><th scope=col>&lt;fct&gt;</th><th scope=col>&lt;dbl&gt;</th><th scope=col>&lt;dbl&gt;</th><th scope=col>&lt;dbl&gt;</th></tr>\n",
              "</thead>\n",
              "<tbody>\n",
              "\t<tr><td>Afganistán       </td><td>Asia    </td><td>  71.50</td><td>     NA</td><td>   NA</td><td>   -218</td><td>Elevat </td><td>  16022</td><td> 2.7</td><td>   NA</td></tr>\n",
              "\t<tr><td>Albania          </td><td>Europe  </td><td> 386.42</td><td>     NA</td><td>   NA</td><td>     NA</td><td>Elevat </td><td>  21255</td><td> 3.4</td><td>   NA</td></tr>\n",
              "\t<tr><td>Alemania         </td><td>Europe  </td><td>2544.08</td><td>2631777</td><td>31539</td><td>-107522</td><td>Baix   </td><td>4185550</td><td>-0.3</td><td> 5.95</td></tr>\n",
              "\t<tr><td>Andorra          </td><td>Europe  </td><td>1521.08</td><td>   1255</td><td>14747</td><td>     79</td><td>Baix   </td><td>   3448</td><td> 1.4</td><td>   NA</td></tr>\n",
              "\t<tr><td>Angola           </td><td>Africa  </td><td>  55.25</td><td>     NA</td><td>   NA</td><td>     NA</td><td>Moderat</td><td>  82929</td><td> 0.9</td><td>13.64</td></tr>\n",
              "\t<tr><td>Antigua y Barbuda</td><td>Americas</td><td> 526.42</td><td>   1452</td><td>14375</td><td>    -32</td><td>Elevat </td><td>   1880</td><td> 3.9</td><td> 5.07</td></tr>\n",
              "</tbody>\n",
              "</table>\n"
            ],
            "text/markdown": "\nA grouped_df: 6 × 10\n\n| Pais &lt;chr&gt; | Continent &lt;chr&gt; | SMI &lt;dbl&gt; | Deute &lt;dbl&gt; | Deute.Capita &lt;dbl&gt; | Deficit &lt;dbl&gt; | Atur &lt;fct&gt; | PIB &lt;dbl&gt; | PIB.Var &lt;dbl&gt; | IPC &lt;dbl&gt; |\n|---|---|---|---|---|---|---|---|---|---|\n| Afganistán        | Asia     |   71.50 |      NA |    NA |    -218 | Elevat  |   16022 |  2.7 |    NA |\n| Albania           | Europe   |  386.42 |      NA |    NA |      NA | Elevat  |   21255 |  3.4 |    NA |\n| Alemania          | Europe   | 2544.08 | 2631777 | 31539 | -107522 | Baix    | 4185550 | -0.3 |  5.95 |\n| Andorra           | Europe   | 1521.08 |    1255 | 14747 |      79 | Baix    |    3448 |  1.4 |    NA |\n| Angola            | Africa   |   55.25 |      NA |    NA |      NA | Moderat |   82929 |  0.9 | 13.64 |\n| Antigua y Barbuda | Americas |  526.42 |    1452 | 14375 |     -32 | Elevat  |    1880 |  3.9 |  5.07 |\n\n",
            "text/latex": "A grouped\\_df: 6 × 10\n\\begin{tabular}{llllllllll}\n Pais & Continent & SMI & Deute & Deute.Capita & Deficit & Atur & PIB & PIB.Var & IPC\\\\\n <chr> & <chr> & <dbl> & <dbl> & <dbl> & <dbl> & <fct> & <dbl> & <dbl> & <dbl>\\\\\n\\hline\n\t Afganistán        & Asia     &   71.50 &      NA &    NA &    -218 & Elevat  &   16022 &  2.7 &    NA\\\\\n\t Albania           & Europe   &  386.42 &      NA &    NA &      NA & Elevat  &   21255 &  3.4 &    NA\\\\\n\t Alemania          & Europe   & 2544.08 & 2631777 & 31539 & -107522 & Baix    & 4185550 & -0.3 &  5.95\\\\\n\t Andorra           & Europe   & 1521.08 &    1255 & 14747 &      79 & Baix    &    3448 &  1.4 &    NA\\\\\n\t Angola            & Africa   &   55.25 &      NA &    NA &      NA & Moderat &   82929 &  0.9 & 13.64\\\\\n\t Antigua y Barbuda & Americas &  526.42 &    1452 & 14375 &     -32 & Elevat  &    1880 &  3.9 &  5.07\\\\\n\\end{tabular}\n",
            "text/plain": [
              "  Pais              Continent SMI     Deute   Deute.Capita Deficit Atur   \n",
              "1 Afganistán        Asia        71.50      NA    NA           -218 Elevat \n",
              "2 Albania           Europe     386.42      NA    NA             NA Elevat \n",
              "3 Alemania          Europe    2544.08 2631777 31539        -107522 Baix   \n",
              "4 Andorra           Europe    1521.08    1255 14747             79 Baix   \n",
              "5 Angola            Africa      55.25      NA    NA             NA Moderat\n",
              "6 Antigua y Barbuda Americas   526.42    1452 14375            -32 Elevat \n",
              "  PIB     PIB.Var IPC  \n",
              "1   16022  2.7       NA\n",
              "2   21255  3.4       NA\n",
              "3 4185550 -0.3     5.95\n",
              "4    3448  1.4       NA\n",
              "5   82929  0.9    13.64\n",
              "6    1880  3.9     5.07"
            ]
          },
          "metadata": {}
        }
      ],
      "source": [
        "head(data)"
      ]
    },
    {
      "cell_type": "code",
      "execution_count": 172,
      "metadata": {
        "id": "P_P_luZte_fh",
        "colab": {
          "base_uri": "https://localhost:8080/",
          "height": 437
        },
        "outputId": "1f41a3aa-b9a4-4ee7-c24f-88ae953779c8"
      },
      "outputs": [
        {
          "output_type": "display_data",
          "data": {
            "text/plain": [
              "plot without title"
            ],
            "image/png": "[encoded data removed]"
          },
          "metadata": {
            "image/png": {
              "width": 420,
              "height": 420
            }
          }
        }
      ],
      "source": [
        "# Estudiem el mateix per a l'IPC:\n",
        "boxplot(data$IPC)"
      ]
    },
    {
      "cell_type": "code",
      "execution_count": 173,
      "metadata": {
        "id": "cdIxinEufUsV",
        "colab": {
          "base_uri": "https://localhost:8080/",
          "height": 437
        },
        "outputId": "d72b3681-cbb3-4193-ba35-949fedbef6d8"
      },
      "outputs": [
        {
          "output_type": "display_data",
          "data": {
            "text/plain": [
              "plot without title"
            ],
            "image/png": "[encoded data removed]"
          },
          "metadata": {
            "image/png": {
              "width": 420,
              "height": 420
            }
          }
        }
      ],
      "source": [
        "boxplot(data$IPC, outline = FALSE)"
      ]
    },
    {
      "cell_type": "code",
      "execution_count": 174,
      "metadata": {
        "id": "tI48IrvXhxYW",
        "colab": {
          "base_uri": "https://localhost:8080/",
          "height": 34
        },
        "outputId": "7022b523-533e-4443-aa3f-05e60586834b"
      },
      "outputs": [
        {
          "output_type": "display_data",
          "data": {
            "text/html": [
              "0.07"
            ],
            "text/markdown": "0.07",
            "text/latex": "0.07",
            "text/plain": [
              "[1] 0.07"
            ]
          },
          "metadata": {}
        }
      ],
      "source": [
        "min(data$IPC, na.rm=T)"
      ]
    },
    {
      "cell_type": "code",
      "execution_count": 175,
      "metadata": {
        "id": "CVs93-t0hg5j",
        "colab": {
          "base_uri": "https://localhost:8080/",
          "height": 34
        },
        "outputId": "b1703088-02d0-40c3-f9e1-46a43f77df06"
      },
      "outputs": [
        {
          "output_type": "display_data",
          "data": {
            "text/html": [
              "221.34"
            ],
            "text/markdown": "221.34",
            "text/latex": "221.34",
            "text/plain": [
              "[1] 221.34"
            ]
          },
          "metadata": {}
        }
      ],
      "source": [
        "max(data$IPC, na.rm=T)"
      ]
    },
    {
      "cell_type": "code",
      "execution_count": 176,
      "metadata": {
        "id": "KIDX2O3phXGW"
      },
      "outputs": [],
      "source": [
        "# Definirem 4 trams, Baix, Moderat, Elevat i Massiu:\n",
        "tall_ipc = c(0,6,10,17,Inf)\n",
        "data$IPC <- cut(data$IPC, breaks = tall_ipc, labels = c('Baix', 'Moderat', 'Elevat', 'Massiu'), right = F)"
      ]
    },
    {
      "cell_type": "code",
      "execution_count": 177,
      "metadata": {
        "id": "BK-Ba43zmGXH",
        "colab": {
          "base_uri": "https://localhost:8080/",
          "height": 323
        },
        "outputId": "1be46ad0-7195-42ce-fbf5-43e92a166fc0"
      },
      "outputs": [
        {
          "output_type": "display_data",
          "data": {
            "text/html": [
              "<table class=\"dataframe\">\n",
              "<caption>A grouped_df: 6 × 10</caption>\n",
              "<thead>\n",
              "\t<tr><th scope=col>Pais</th><th scope=col>Continent</th><th scope=col>SMI</th><th scope=col>Deute</th><th scope=col>Deute.Capita</th><th scope=col>Deficit</th><th scope=col>Atur</th><th scope=col>PIB</th><th scope=col>PIB.Var</th><th scope=col>IPC</th></tr>\n",
              "\t<tr><th scope=col>&lt;chr&gt;</th><th scope=col>&lt;chr&gt;</th><th scope=col>&lt;dbl&gt;</th><th scope=col>&lt;dbl&gt;</th><th scope=col>&lt;dbl&gt;</th><th scope=col>&lt;dbl&gt;</th><th scope=col>&lt;fct&gt;</th><th scope=col>&lt;dbl&gt;</th><th scope=col>&lt;dbl&gt;</th><th scope=col>&lt;fct&gt;</th></tr>\n",
              "</thead>\n",
              "<tbody>\n",
              "\t<tr><td>Afganistán       </td><td>Asia    </td><td>  71.50</td><td>     NA</td><td>   NA</td><td>   -218</td><td>Elevat </td><td>  16022</td><td> 2.7</td><td>NA    </td></tr>\n",
              "\t<tr><td>Albania          </td><td>Europe  </td><td> 386.42</td><td>     NA</td><td>   NA</td><td>     NA</td><td>Elevat </td><td>  21255</td><td> 3.4</td><td>NA    </td></tr>\n",
              "\t<tr><td>Alemania         </td><td>Europe  </td><td>2544.08</td><td>2631777</td><td>31539</td><td>-107522</td><td>Baix   </td><td>4185550</td><td>-0.3</td><td>Baix  </td></tr>\n",
              "\t<tr><td>Andorra          </td><td>Europe  </td><td>1521.08</td><td>   1255</td><td>14747</td><td>     79</td><td>Baix   </td><td>   3448</td><td> 1.4</td><td>NA    </td></tr>\n",
              "\t<tr><td>Angola           </td><td>Africa  </td><td>  55.25</td><td>     NA</td><td>   NA</td><td>     NA</td><td>Moderat</td><td>  82929</td><td> 0.9</td><td>Elevat</td></tr>\n",
              "\t<tr><td>Antigua y Barbuda</td><td>Americas</td><td> 526.42</td><td>   1452</td><td>14375</td><td>    -32</td><td>Elevat </td><td>   1880</td><td> 3.9</td><td>Baix  </td></tr>\n",
              "</tbody>\n",
              "</table>\n"
            ],
            "text/markdown": "\nA grouped_df: 6 × 10\n\n| Pais &lt;chr&gt; | Continent &lt;chr&gt; | SMI &lt;dbl&gt; | Deute &lt;dbl&gt; | Deute.Capita &lt;dbl&gt; | Deficit &lt;dbl&gt; | Atur &lt;fct&gt; | PIB &lt;dbl&gt; | PIB.Var &lt;dbl&gt; | IPC &lt;fct&gt; |\n|---|---|---|---|---|---|---|---|---|---|\n| Afganistán        | Asia     |   71.50 |      NA |    NA |    -218 | Elevat  |   16022 |  2.7 | NA     |\n| Albania           | Europe   |  386.42 |      NA |    NA |      NA | Elevat  |   21255 |  3.4 | NA     |\n| Alemania          | Europe   | 2544.08 | 2631777 | 31539 | -107522 | Baix    | 4185550 | -0.3 | Baix   |\n| Andorra           | Europe   | 1521.08 |    1255 | 14747 |      79 | Baix    |    3448 |  1.4 | NA     |\n| Angola            | Africa   |   55.25 |      NA |    NA |      NA | Moderat |   82929 |  0.9 | Elevat |\n| Antigua y Barbuda | Americas |  526.42 |    1452 | 14375 |     -32 | Elevat  |    1880 |  3.9 | Baix   |\n\n",
            "text/latex": "A grouped\\_df: 6 × 10\n\\begin{tabular}{llllllllll}\n Pais & Continent & SMI & Deute & Deute.Capita & Deficit & Atur & PIB & PIB.Var & IPC\\\\\n <chr> & <chr> & <dbl> & <dbl> & <dbl> & <dbl> & <fct> & <dbl> & <dbl> & <fct>\\\\\n\\hline\n\t Afganistán        & Asia     &   71.50 &      NA &    NA &    -218 & Elevat  &   16022 &  2.7 & NA    \\\\\n\t Albania           & Europe   &  386.42 &      NA &    NA &      NA & Elevat  &   21255 &  3.4 & NA    \\\\\n\t Alemania          & Europe   & 2544.08 & 2631777 & 31539 & -107522 & Baix    & 4185550 & -0.3 & Baix  \\\\\n\t Andorra           & Europe   & 1521.08 &    1255 & 14747 &      79 & Baix    &    3448 &  1.4 & NA    \\\\\n\t Angola            & Africa   &   55.25 &      NA &    NA &      NA & Moderat &   82929 &  0.9 & Elevat\\\\\n\t Antigua y Barbuda & Americas &  526.42 &    1452 & 14375 &     -32 & Elevat  &    1880 &  3.9 & Baix  \\\\\n\\end{tabular}\n",
            "text/plain": [
              "  Pais              Continent SMI     Deute   Deute.Capita Deficit Atur   \n",
              "1 Afganistán        Asia        71.50      NA    NA           -218 Elevat \n",
              "2 Albania           Europe     386.42      NA    NA             NA Elevat \n",
              "3 Alemania          Europe    2544.08 2631777 31539        -107522 Baix   \n",
              "4 Andorra           Europe    1521.08    1255 14747             79 Baix   \n",
              "5 Angola            Africa      55.25      NA    NA             NA Moderat\n",
              "6 Antigua y Barbuda Americas   526.42    1452 14375            -32 Elevat \n",
              "  PIB     PIB.Var IPC   \n",
              "1   16022  2.7    NA    \n",
              "2   21255  3.4    NA    \n",
              "3 4185550 -0.3    Baix  \n",
              "4    3448  1.4    NA    \n",
              "5   82929  0.9    Elevat\n",
              "6    1880  3.9    Baix  "
            ]
          },
          "metadata": {}
        }
      ],
      "source": [
        "head(data)"
      ]
    },
    {
      "cell_type": "code",
      "execution_count": 178,
      "metadata": {
        "id": "XFs1QmB_lXBz",
        "colab": {
          "base_uri": "https://localhost:8080/",
          "height": 437
        },
        "outputId": "a4ce3d50-41ba-4916-e487-8c531b3b2aef"
      },
      "outputs": [
        {
          "output_type": "display_data",
          "data": {
            "text/plain": [
              "plot without title"
            ],
            "image/png": "[encoded data removed]"
          },
          "metadata": {
            "image/png": {
              "width": 420,
              "height": 420
            }
          }
        }
      ],
      "source": [
        "# Estudiem el mateix per a PIB.Var:\n",
        "boxplot(data$PIB.Var)"
      ]
    },
    {
      "cell_type": "code",
      "execution_count": 179,
      "metadata": {
        "id": "ZmHvVQh1llDb",
        "colab": {
          "base_uri": "https://localhost:8080/",
          "height": 437
        },
        "outputId": "9f90dbc0-51d9-4bba-85ea-9256f4a94d0c"
      },
      "outputs": [
        {
          "output_type": "display_data",
          "data": {
            "text/plain": [
              "plot without title"
            ],
            "image/png": "[encoded data removed]"
          },
          "metadata": {
            "image/png": {
              "width": 420,
              "height": 420
            }
          }
        }
      ],
      "source": [
        "boxplot(data$PIB.Var, outline = F)"
      ]
    },
    {
      "cell_type": "code",
      "execution_count": 180,
      "metadata": {
        "id": "yzezcO1elfLv"
      },
      "outputs": [],
      "source": [
        "# Definirem 4 trams, Negatiu, Baix, Moderat i Elevat:\n",
        "tall_pib = c(-Inf,0,3,6,Inf)\n",
        "data$PIB.Var <- cut(data$PIB.Var, breaks = tall_pib, labels = c('Negatiu', 'Baix', 'Moderat', 'Elevat'), right = F)"
      ]
    },
    {
      "cell_type": "code",
      "execution_count": 181,
      "metadata": {
        "id": "ZUVBom20aw8f",
        "colab": {
          "base_uri": "https://localhost:8080/",
          "height": 69
        },
        "outputId": "958f05d9-166e-4f1b-ca89-d52f2042145f"
      },
      "outputs": [
        {
          "output_type": "display_data",
          "data": {
            "text/html": [
              "<style>\n",
              ".dl-inline {width: auto; margin:0; padding: 0}\n",
              ".dl-inline>dt, .dl-inline>dd {float: none; width: auto; display: inline-block}\n",
              ".dl-inline>dt::after {content: \":\\0020\"; padding-right: .5ex}\n",
              ".dl-inline>dt:not(:first-of-type) {padding-left: .5ex}\n",
              "</style><dl class=dl-inline><dt>Pais</dt><dd>'character'</dd><dt>Continent</dt><dd>'character'</dd><dt>SMI</dt><dd>'numeric'</dd><dt>Deute</dt><dd>'numeric'</dd><dt>Deute.Capita</dt><dd>'numeric'</dd><dt>Deficit</dt><dd>'numeric'</dd><dt>Atur</dt><dd>'factor'</dd><dt>PIB</dt><dd>'numeric'</dd><dt>PIB.Var</dt><dd>'factor'</dd><dt>IPC</dt><dd>'factor'</dd></dl>\n"
            ],
            "text/markdown": "Pais\n:   'character'Continent\n:   'character'SMI\n:   'numeric'Deute\n:   'numeric'Deute.Capita\n:   'numeric'Deficit\n:   'numeric'Atur\n:   'factor'PIB\n:   'numeric'PIB.Var\n:   'factor'IPC\n:   'factor'\n\n",
            "text/latex": "\\begin{description*}\n\\item[Pais] 'character'\n\\item[Continent] 'character'\n\\item[SMI] 'numeric'\n\\item[Deute] 'numeric'\n\\item[Deute.Capita] 'numeric'\n\\item[Deficit] 'numeric'\n\\item[Atur] 'factor'\n\\item[PIB] 'numeric'\n\\item[PIB.Var] 'factor'\n\\item[IPC] 'factor'\n\\end{description*}\n",
            "text/plain": [
              "        Pais    Continent          SMI        Deute Deute.Capita      Deficit \n",
              " \"character\"  \"character\"    \"numeric\"    \"numeric\"    \"numeric\"    \"numeric\" \n",
              "        Atur          PIB      PIB.Var          IPC \n",
              "    \"factor\"    \"numeric\"     \"factor\"     \"factor\" "
            ]
          },
          "metadata": {}
        }
      ],
      "source": [
        "# Es demana fer una descripció breu del dataset:\n",
        "# head(data, n= 10)\n",
        "\n",
        "# Observem que ja tenim les variables categòriques definides en format factor:\n",
        "sapply(data, class)"
      ]
    },
    {
      "cell_type": "code",
      "execution_count": 182,
      "metadata": {
        "id": "zeodfnFaAWrF",
        "colab": {
          "base_uri": "https://localhost:8080/",
          "height": 323
        },
        "outputId": "4c073e0f-ab4c-4939-c611-17d8116dd190"
      },
      "outputs": [
        {
          "output_type": "display_data",
          "data": {
            "text/html": [
              "<table class=\"dataframe\">\n",
              "<caption>A data.frame: 6 × 9</caption>\n",
              "<thead>\n",
              "\t<tr><th></th><th scope=col>Continent</th><th scope=col>SMI</th><th scope=col>Deute</th><th scope=col>Deute.Capita</th><th scope=col>Deficit</th><th scope=col>Atur</th><th scope=col>PIB</th><th scope=col>PIB.Var</th><th scope=col>IPC</th></tr>\n",
              "\t<tr><th></th><th scope=col>&lt;chr&gt;</th><th scope=col>&lt;dbl&gt;</th><th scope=col>&lt;dbl&gt;</th><th scope=col>&lt;dbl&gt;</th><th scope=col>&lt;dbl&gt;</th><th scope=col>&lt;fct&gt;</th><th scope=col>&lt;dbl&gt;</th><th scope=col>&lt;fct&gt;</th><th scope=col>&lt;fct&gt;</th></tr>\n",
              "</thead>\n",
              "<tbody>\n",
              "\t<tr><th scope=row>Afganistán</th><td>Asia    </td><td>  71.50</td><td>     NA</td><td>   NA</td><td>   -218</td><td>Elevat </td><td>  16022</td><td>Baix   </td><td>NA    </td></tr>\n",
              "\t<tr><th scope=row>Albania</th><td>Europe  </td><td> 386.42</td><td>     NA</td><td>   NA</td><td>     NA</td><td>Elevat </td><td>  21255</td><td>Moderat</td><td>NA    </td></tr>\n",
              "\t<tr><th scope=row>Alemania</th><td>Europe  </td><td>2544.08</td><td>2631777</td><td>31539</td><td>-107522</td><td>Baix   </td><td>4185550</td><td>Negatiu</td><td>Baix  </td></tr>\n",
              "\t<tr><th scope=row>Andorra</th><td>Europe  </td><td>1521.08</td><td>   1255</td><td>14747</td><td>     79</td><td>Baix   </td><td>   3448</td><td>Baix   </td><td>NA    </td></tr>\n",
              "\t<tr><th scope=row>Angola</th><td>Africa  </td><td>  55.25</td><td>     NA</td><td>   NA</td><td>     NA</td><td>Moderat</td><td>  82929</td><td>Baix   </td><td>Elevat</td></tr>\n",
              "\t<tr><th scope=row>Antigua y Barbuda</th><td>Americas</td><td> 526.42</td><td>   1452</td><td>14375</td><td>    -32</td><td>Elevat </td><td>   1880</td><td>Moderat</td><td>Baix  </td></tr>\n",
              "</tbody>\n",
              "</table>\n"
            ],
            "text/markdown": "\nA data.frame: 6 × 9\n\n| <!--/--> | Continent &lt;chr&gt; | SMI &lt;dbl&gt; | Deute &lt;dbl&gt; | Deute.Capita &lt;dbl&gt; | Deficit &lt;dbl&gt; | Atur &lt;fct&gt; | PIB &lt;dbl&gt; | PIB.Var &lt;fct&gt; | IPC &lt;fct&gt; |\n|---|---|---|---|---|---|---|---|---|---|\n| Afganistán | Asia     |   71.50 |      NA |    NA |    -218 | Elevat  |   16022 | Baix    | NA     |\n| Albania | Europe   |  386.42 |      NA |    NA |      NA | Elevat  |   21255 | Moderat | NA     |\n| Alemania | Europe   | 2544.08 | 2631777 | 31539 | -107522 | Baix    | 4185550 | Negatiu | Baix   |\n| Andorra | Europe   | 1521.08 |    1255 | 14747 |      79 | Baix    |    3448 | Baix    | NA     |\n| Angola | Africa   |   55.25 |      NA |    NA |      NA | Moderat |   82929 | Baix    | Elevat |\n| Antigua y Barbuda | Americas |  526.42 |    1452 | 14375 |     -32 | Elevat  |    1880 | Moderat | Baix   |\n\n",
            "text/latex": "A data.frame: 6 × 9\n\\begin{tabular}{r|lllllllll}\n  & Continent & SMI & Deute & Deute.Capita & Deficit & Atur & PIB & PIB.Var & IPC\\\\\n  & <chr> & <dbl> & <dbl> & <dbl> & <dbl> & <fct> & <dbl> & <fct> & <fct>\\\\\n\\hline\n\tAfganistán & Asia     &   71.50 &      NA &    NA &    -218 & Elevat  &   16022 & Baix    & NA    \\\\\n\tAlbania & Europe   &  386.42 &      NA &    NA &      NA & Elevat  &   21255 & Moderat & NA    \\\\\n\tAlemania & Europe   & 2544.08 & 2631777 & 31539 & -107522 & Baix    & 4185550 & Negatiu & Baix  \\\\\n\tAndorra & Europe   & 1521.08 &    1255 & 14747 &      79 & Baix    &    3448 & Baix    & NA    \\\\\n\tAngola & Africa   &   55.25 &      NA &    NA &      NA & Moderat &   82929 & Baix    & Elevat\\\\\n\tAntigua y Barbuda & Americas &  526.42 &    1452 & 14375 &     -32 & Elevat  &    1880 & Moderat & Baix  \\\\\n\\end{tabular}\n",
            "text/plain": [
              "                  Continent SMI     Deute   Deute.Capita Deficit Atur   \n",
              "Afganistán        Asia        71.50      NA    NA           -218 Elevat \n",
              "Albania           Europe     386.42      NA    NA             NA Elevat \n",
              "Alemania          Europe    2544.08 2631777 31539        -107522 Baix   \n",
              "Andorra           Europe    1521.08    1255 14747             79 Baix   \n",
              "Angola            Africa      55.25      NA    NA             NA Moderat\n",
              "Antigua y Barbuda Americas   526.42    1452 14375            -32 Elevat \n",
              "                  PIB     PIB.Var IPC   \n",
              "Afganistán          16022 Baix    NA    \n",
              "Albania             21255 Moderat NA    \n",
              "Alemania          4185550 Negatiu Baix  \n",
              "Andorra              3448 Baix    NA    \n",
              "Angola              82929 Baix    Elevat\n",
              "Antigua y Barbuda    1880 Moderat Baix  "
            ]
          },
          "metadata": {}
        }
      ],
      "source": [
        "## Fem els paisos com a indexos del df\n",
        "data <- as.data.frame(data)\n",
        "rownames(data) <- data$Pais\n",
        "data <- data[,-1]\n",
        "head(data)"
      ]
    },
    {
      "cell_type": "markdown",
      "metadata": {
        "id": "-cjnunMR5Jyz"
      },
      "source": [
        "3 Neteja de dades\n",
        "\n",
        "Ens hem quedat amb les següents variables:\n",
        "  - Pais\n",
        "  - Continent\n",
        "  - SMI\n",
        "  - Deute\n",
        "  - Deute.Capita\n",
        "  - Deficit\n",
        "  - Atur\n",
        "  - PIB\n",
        "  - PIB.Var\n",
        "  - IPC\n",
        "\n",
        "A continuació, acabarem de fer-ne la neteja.\n",
        "\n"
      ]
    },
    {
      "cell_type": "markdown",
      "metadata": {
        "id": "079G17NVgVhH"
      },
      "source": [
        "3.2 Tipus dels atributs"
      ]
    },
    {
      "cell_type": "code",
      "source": [
        "# Mirem primer les classes de cada columna:\n",
        "sapply(data, class)"
      ],
      "metadata": {
        "id": "PA6mkuuXDAoj",
        "colab": {
          "base_uri": "https://localhost:8080/",
          "height": 52
        },
        "outputId": "b6d20e9d-935a-4ba5-d0ad-c80f69412c8c"
      },
      "execution_count": 183,
      "outputs": [
        {
          "output_type": "display_data",
          "data": {
            "text/html": [
              "<style>\n",
              ".dl-inline {width: auto; margin:0; padding: 0}\n",
              ".dl-inline>dt, .dl-inline>dd {float: none; width: auto; display: inline-block}\n",
              ".dl-inline>dt::after {content: \":\\0020\"; padding-right: .5ex}\n",
              ".dl-inline>dt:not(:first-of-type) {padding-left: .5ex}\n",
              "</style><dl class=dl-inline><dt>Continent</dt><dd>'character'</dd><dt>SMI</dt><dd>'numeric'</dd><dt>Deute</dt><dd>'numeric'</dd><dt>Deute.Capita</dt><dd>'numeric'</dd><dt>Deficit</dt><dd>'numeric'</dd><dt>Atur</dt><dd>'factor'</dd><dt>PIB</dt><dd>'numeric'</dd><dt>PIB.Var</dt><dd>'factor'</dd><dt>IPC</dt><dd>'factor'</dd></dl>\n"
            ],
            "text/markdown": "Continent\n:   'character'SMI\n:   'numeric'Deute\n:   'numeric'Deute.Capita\n:   'numeric'Deficit\n:   'numeric'Atur\n:   'factor'PIB\n:   'numeric'PIB.Var\n:   'factor'IPC\n:   'factor'\n\n",
            "text/latex": "\\begin{description*}\n\\item[Continent] 'character'\n\\item[SMI] 'numeric'\n\\item[Deute] 'numeric'\n\\item[Deute.Capita] 'numeric'\n\\item[Deficit] 'numeric'\n\\item[Atur] 'factor'\n\\item[PIB] 'numeric'\n\\item[PIB.Var] 'factor'\n\\item[IPC] 'factor'\n\\end{description*}\n",
            "text/plain": [
              "   Continent          SMI        Deute Deute.Capita      Deficit         Atur \n",
              " \"character\"    \"numeric\"    \"numeric\"    \"numeric\"    \"numeric\"     \"factor\" \n",
              "         PIB      PIB.Var          IPC \n",
              "   \"numeric\"     \"factor\"     \"factor\" "
            ]
          },
          "metadata": {}
        }
      ]
    },
    {
      "cell_type": "code",
      "execution_count": 184,
      "metadata": {
        "id": "sm8SQjZkgUTq",
        "colab": {
          "base_uri": "https://localhost:8080/",
          "height": 52
        },
        "outputId": "5440c1c4-12df-421e-c9b9-78ec8f22641d"
      },
      "outputs": [
        {
          "output_type": "display_data",
          "data": {
            "text/html": [
              "<style>\n",
              ".dl-inline {width: auto; margin:0; padding: 0}\n",
              ".dl-inline>dt, .dl-inline>dd {float: none; width: auto; display: inline-block}\n",
              ".dl-inline>dt::after {content: \":\\0020\"; padding-right: .5ex}\n",
              ".dl-inline>dt:not(:first-of-type) {padding-left: .5ex}\n",
              "</style><dl class=dl-inline><dt>Continent</dt><dd>'factor'</dd><dt>SMI</dt><dd>'numeric'</dd><dt>Deute</dt><dd>'numeric'</dd><dt>Deute.Capita</dt><dd>'numeric'</dd><dt>Deficit</dt><dd>'numeric'</dd><dt>Atur</dt><dd>'factor'</dd><dt>PIB</dt><dd>'numeric'</dd><dt>PIB.Var</dt><dd>'factor'</dd><dt>IPC</dt><dd>'factor'</dd></dl>\n"
            ],
            "text/markdown": "Continent\n:   'factor'SMI\n:   'numeric'Deute\n:   'numeric'Deute.Capita\n:   'numeric'Deficit\n:   'numeric'Atur\n:   'factor'PIB\n:   'numeric'PIB.Var\n:   'factor'IPC\n:   'factor'\n\n",
            "text/latex": "\\begin{description*}\n\\item[Continent] 'factor'\n\\item[SMI] 'numeric'\n\\item[Deute] 'numeric'\n\\item[Deute.Capita] 'numeric'\n\\item[Deficit] 'numeric'\n\\item[Atur] 'factor'\n\\item[PIB] 'numeric'\n\\item[PIB.Var] 'factor'\n\\item[IPC] 'factor'\n\\end{description*}\n",
            "text/plain": [
              "   Continent          SMI        Deute Deute.Capita      Deficit         Atur \n",
              "    \"factor\"    \"numeric\"    \"numeric\"    \"numeric\"    \"numeric\"     \"factor\" \n",
              "         PIB      PIB.Var          IPC \n",
              "   \"numeric\"     \"factor\"     \"factor\" "
            ]
          },
          "metadata": {}
        }
      ],
      "source": [
        "# Ja s'han convertit moltes variables categòriques a factor al llarg del procés.\n",
        "# Només ens falta convertir Continent a factor.\n",
        "# La resta de variables ja tenen el format apropiat:\n",
        "data$Continent <- as.factor(data$Continent)\n",
        "# Comfirmem els canvis:\n",
        "sapply(data, class)"
      ]
    },
    {
      "cell_type": "markdown",
      "metadata": {
        "id": "v-uNz36xgNIE"
      },
      "source": [
        "3.3 Valors extrems"
      ]
    },
    {
      "cell_type": "code",
      "execution_count": 185,
      "metadata": {
        "id": "aThszd2hgT2R",
        "colab": {
          "base_uri": "https://localhost:8080/",
          "height": 437
        },
        "outputId": "cf410a5e-344f-4b83-b1b9-5ec35f6ee101"
      },
      "outputs": [
        {
          "output_type": "display_data",
          "data": {
            "text/plain": [
              "Plot with title “Histogram of (data$SMI)”"
            ],
            "image/png": "[encoded data removed]"
          },
          "metadata": {
            "image/png": {
              "width": 420,
              "height": 420
            }
          }
        }
      ],
      "source": [
        "# Anem observant les variables i veiem si ens trobem amb algun extrem.\n",
        "\n",
        "# Mirem la variable SMI\n",
        "hist((data$SMI), breaks=15)"
      ]
    },
    {
      "cell_type": "code",
      "execution_count": 186,
      "metadata": {
        "id": "awHipKkGawXl",
        "colab": {
          "base_uri": "https://localhost:8080/",
          "height": 437
        },
        "outputId": "444d4833-9572-462b-ab98-eb8bec56a3bd"
      },
      "outputs": [
        {
          "output_type": "display_data",
          "data": {
            "text/plain": [
              "Plot with title “Histogram of (data$Deute)”"
            ],
            "image/png": "[encoded data removed]"
          },
          "metadata": {
            "image/png": {
              "width": 420,
              "height": 420
            }
          }
        }
      ],
      "source": [
        "# La deixarem tal com està.\n",
        "\n",
        "# Mirem la columna Deute:\n",
        "hist((data$Deute), breaks=15)"
      ]
    },
    {
      "cell_type": "code",
      "execution_count": 187,
      "metadata": {
        "id": "1WrEb5K8bT_X",
        "colab": {
          "base_uri": "https://localhost:8080/",
          "height": 198
        },
        "outputId": "4abedefd-5a69-4a94-a813-1b0739f0f9ed"
      },
      "outputs": [
        {
          "output_type": "display_data",
          "data": {
            "text/html": [
              "<table class=\"dataframe\">\n",
              "<caption>A data.frame: 2 × 9</caption>\n",
              "<thead>\n",
              "\t<tr><th></th><th scope=col>Continent</th><th scope=col>SMI</th><th scope=col>Deute</th><th scope=col>Deute.Capita</th><th scope=col>Deficit</th><th scope=col>Atur</th><th scope=col>PIB</th><th scope=col>PIB.Var</th><th scope=col>IPC</th></tr>\n",
              "\t<tr><th></th><th scope=col>&lt;fct&gt;</th><th scope=col>&lt;dbl&gt;</th><th scope=col>&lt;dbl&gt;</th><th scope=col>&lt;dbl&gt;</th><th scope=col>&lt;dbl&gt;</th><th scope=col>&lt;fct&gt;</th><th scope=col>&lt;dbl&gt;</th><th scope=col>&lt;fct&gt;</th><th scope=col>&lt;fct&gt;</th></tr>\n",
              "</thead>\n",
              "<tbody>\n",
              "\t<tr><th scope=row>China</th><td>Asia    </td><td> 220.17</td><td>13854168</td><td> 9828</td><td>-1140350</td><td>Moderat</td><td>16418615</td><td>Moderat</td><td>Baix</td></tr>\n",
              "\t<tr><th scope=row>Estados Unidos</th><td>Americas</td><td>1256.67</td><td>30429116</td><td>90797</td><td>-1811546</td><td>Baix   </td><td>25629842</td><td>Baix   </td><td>Baix</td></tr>\n",
              "</tbody>\n",
              "</table>\n"
            ],
            "text/markdown": "\nA data.frame: 2 × 9\n\n| <!--/--> | Continent &lt;fct&gt; | SMI &lt;dbl&gt; | Deute &lt;dbl&gt; | Deute.Capita &lt;dbl&gt; | Deficit &lt;dbl&gt; | Atur &lt;fct&gt; | PIB &lt;dbl&gt; | PIB.Var &lt;fct&gt; | IPC &lt;fct&gt; |\n|---|---|---|---|---|---|---|---|---|---|\n| China | Asia     |  220.17 | 13854168 |  9828 | -1140350 | Moderat | 16418615 | Moderat | Baix |\n| Estados Unidos | Americas | 1256.67 | 30429116 | 90797 | -1811546 | Baix    | 25629842 | Baix    | Baix |\n\n",
            "text/latex": "A data.frame: 2 × 9\n\\begin{tabular}{r|lllllllll}\n  & Continent & SMI & Deute & Deute.Capita & Deficit & Atur & PIB & PIB.Var & IPC\\\\\n  & <fct> & <dbl> & <dbl> & <dbl> & <dbl> & <fct> & <dbl> & <fct> & <fct>\\\\\n\\hline\n\tChina & Asia     &  220.17 & 13854168 &  9828 & -1140350 & Moderat & 16418615 & Moderat & Baix\\\\\n\tEstados Unidos & Americas & 1256.67 & 30429116 & 90797 & -1811546 & Baix    & 25629842 & Baix    & Baix\\\\\n\\end{tabular}\n",
            "text/plain": [
              "               Continent SMI     Deute    Deute.Capita Deficit  Atur   \n",
              "China          Asia       220.17 13854168  9828        -1140350 Moderat\n",
              "Estados Unidos Americas  1256.67 30429116 90797        -1811546 Baix   \n",
              "               PIB      PIB.Var IPC \n",
              "China          16418615 Moderat Baix\n",
              "Estados Unidos 25629842 Baix    Baix"
            ]
          },
          "metadata": {}
        }
      ],
      "source": [
        "# Només tenim els dos següents valors extrems:\n",
        "data[which(data$Deute > 1e7), ]"
      ]
    },
    {
      "cell_type": "code",
      "execution_count": 188,
      "metadata": {
        "id": "x-87BuL3bsDr",
        "colab": {
          "base_uri": "https://localhost:8080/",
          "height": 437
        },
        "outputId": "a0083aac-ae87-43c8-a151-1ae45a4a8cb8"
      },
      "outputs": [
        {
          "output_type": "display_data",
          "data": {
            "text/plain": [
              "Plot with title “Histogram of (data$Deute.Capita)”"
            ],
            "image/png": "[encoded data removed]"
          },
          "metadata": {
            "image/png": {
              "width": 420,
              "height": 420
            }
          }
        }
      ],
      "source": [
        "# Mirem el deute per càpita:\n",
        "hist((data$Deute.Capita), breaks=15)"
      ]
    },
    {
      "cell_type": "code",
      "execution_count": 189,
      "metadata": {
        "id": "_MCkzIBzb3Ka",
        "colab": {
          "base_uri": "https://localhost:8080/",
          "height": 198
        },
        "outputId": "82bc0d71-d0a5-4293-8164-716cb175e090"
      },
      "outputs": [
        {
          "output_type": "display_data",
          "data": {
            "text/html": [
              "<table class=\"dataframe\">\n",
              "<caption>A data.frame: 2 × 9</caption>\n",
              "<thead>\n",
              "\t<tr><th></th><th scope=col>Continent</th><th scope=col>SMI</th><th scope=col>Deute</th><th scope=col>Deute.Capita</th><th scope=col>Deficit</th><th scope=col>Atur</th><th scope=col>PIB</th><th scope=col>PIB.Var</th><th scope=col>IPC</th></tr>\n",
              "\t<tr><th></th><th scope=col>&lt;fct&gt;</th><th scope=col>&lt;dbl&gt;</th><th scope=col>&lt;dbl&gt;</th><th scope=col>&lt;dbl&gt;</th><th scope=col>&lt;dbl&gt;</th><th scope=col>&lt;fct&gt;</th><th scope=col>&lt;dbl&gt;</th><th scope=col>&lt;fct&gt;</th><th scope=col>&lt;fct&gt;</th></tr>\n",
              "</thead>\n",
              "<tbody>\n",
              "\t<tr><th scope=row>Estados Unidos</th><td>Americas</td><td>1256.67</td><td>30429116</td><td> 90797</td><td>-1811546</td><td>Baix</td><td>25629842</td><td>Baix</td><td>Baix</td></tr>\n",
              "\t<tr><th scope=row>Singapur</th><td>Asia    </td><td>     NA</td><td>  821316</td><td>138783</td><td>   16356</td><td>Baix</td><td>  463607</td><td>Baix</td><td>Baix</td></tr>\n",
              "</tbody>\n",
              "</table>\n"
            ],
            "text/markdown": "\nA data.frame: 2 × 9\n\n| <!--/--> | Continent &lt;fct&gt; | SMI &lt;dbl&gt; | Deute &lt;dbl&gt; | Deute.Capita &lt;dbl&gt; | Deficit &lt;dbl&gt; | Atur &lt;fct&gt; | PIB &lt;dbl&gt; | PIB.Var &lt;fct&gt; | IPC &lt;fct&gt; |\n|---|---|---|---|---|---|---|---|---|---|\n| Estados Unidos | Americas | 1256.67 | 30429116 |  90797 | -1811546 | Baix | 25629842 | Baix | Baix |\n| Singapur | Asia     |      NA |   821316 | 138783 |    16356 | Baix |   463607 | Baix | Baix |\n\n",
            "text/latex": "A data.frame: 2 × 9\n\\begin{tabular}{r|lllllllll}\n  & Continent & SMI & Deute & Deute.Capita & Deficit & Atur & PIB & PIB.Var & IPC\\\\\n  & <fct> & <dbl> & <dbl> & <dbl> & <dbl> & <fct> & <dbl> & <fct> & <fct>\\\\\n\\hline\n\tEstados Unidos & Americas & 1256.67 & 30429116 &  90797 & -1811546 & Baix & 25629842 & Baix & Baix\\\\\n\tSingapur & Asia     &      NA &   821316 & 138783 &    16356 & Baix &   463607 & Baix & Baix\\\\\n\\end{tabular}\n",
            "text/plain": [
              "               Continent SMI     Deute    Deute.Capita Deficit  Atur PIB     \n",
              "Estados Unidos Americas  1256.67 30429116  90797       -1811546 Baix 25629842\n",
              "Singapur       Asia           NA   821316 138783          16356 Baix   463607\n",
              "               PIB.Var IPC \n",
              "Estados Unidos Baix    Baix\n",
              "Singapur       Baix    Baix"
            ]
          },
          "metadata": {}
        }
      ],
      "source": [
        "# Tenim els països seguents:\n",
        "data[which(data$Deute.Capita > 80000), ]"
      ]
    },
    {
      "cell_type": "code",
      "execution_count": 190,
      "metadata": {
        "id": "ZtQD9OUocP2B",
        "colab": {
          "base_uri": "https://localhost:8080/",
          "height": 437
        },
        "outputId": "59582bbf-7a2f-42b5-b1e7-369fe248024c"
      },
      "outputs": [
        {
          "output_type": "display_data",
          "data": {
            "text/plain": [
              "Plot with title “Histogram of (data$Deficit)”"
            ],
            "image/png": "[encoded data removed]"
          },
          "metadata": {
            "image/png": {
              "width": 420,
              "height": 420
            }
          }
        }
      ],
      "source": [
        "# Mirem el dèficit:\n",
        "hist((data$Deficit), breaks=15)"
      ]
    },
    {
      "cell_type": "code",
      "execution_count": 191,
      "metadata": {
        "id": "LRjXIW54cVdJ",
        "colab": {
          "base_uri": "https://localhost:8080/",
          "height": 198
        },
        "outputId": "e12261b3-8e86-4bf5-b06c-79199ff51eb4"
      },
      "outputs": [
        {
          "output_type": "display_data",
          "data": {
            "text/html": [
              "<table class=\"dataframe\">\n",
              "<caption>A data.frame: 2 × 9</caption>\n",
              "<thead>\n",
              "\t<tr><th></th><th scope=col>Continent</th><th scope=col>SMI</th><th scope=col>Deute</th><th scope=col>Deute.Capita</th><th scope=col>Deficit</th><th scope=col>Atur</th><th scope=col>PIB</th><th scope=col>PIB.Var</th><th scope=col>IPC</th></tr>\n",
              "\t<tr><th></th><th scope=col>&lt;fct&gt;</th><th scope=col>&lt;dbl&gt;</th><th scope=col>&lt;dbl&gt;</th><th scope=col>&lt;dbl&gt;</th><th scope=col>&lt;dbl&gt;</th><th scope=col>&lt;fct&gt;</th><th scope=col>&lt;dbl&gt;</th><th scope=col>&lt;fct&gt;</th><th scope=col>&lt;fct&gt;</th></tr>\n",
              "</thead>\n",
              "<tbody>\n",
              "\t<tr><th scope=row>China</th><td>Asia    </td><td> 220.17</td><td>13854168</td><td> 9828</td><td>-1140350</td><td>Moderat</td><td>16418615</td><td>Moderat</td><td>Baix</td></tr>\n",
              "\t<tr><th scope=row>Estados Unidos</th><td>Americas</td><td>1256.67</td><td>30429116</td><td>90797</td><td>-1811546</td><td>Baix   </td><td>25629842</td><td>Baix   </td><td>Baix</td></tr>\n",
              "</tbody>\n",
              "</table>\n"
            ],
            "text/markdown": "\nA data.frame: 2 × 9\n\n| <!--/--> | Continent &lt;fct&gt; | SMI &lt;dbl&gt; | Deute &lt;dbl&gt; | Deute.Capita &lt;dbl&gt; | Deficit &lt;dbl&gt; | Atur &lt;fct&gt; | PIB &lt;dbl&gt; | PIB.Var &lt;fct&gt; | IPC &lt;fct&gt; |\n|---|---|---|---|---|---|---|---|---|---|\n| China | Asia     |  220.17 | 13854168 |  9828 | -1140350 | Moderat | 16418615 | Moderat | Baix |\n| Estados Unidos | Americas | 1256.67 | 30429116 | 90797 | -1811546 | Baix    | 25629842 | Baix    | Baix |\n\n",
            "text/latex": "A data.frame: 2 × 9\n\\begin{tabular}{r|lllllllll}\n  & Continent & SMI & Deute & Deute.Capita & Deficit & Atur & PIB & PIB.Var & IPC\\\\\n  & <fct> & <dbl> & <dbl> & <dbl> & <dbl> & <fct> & <dbl> & <fct> & <fct>\\\\\n\\hline\n\tChina & Asia     &  220.17 & 13854168 &  9828 & -1140350 & Moderat & 16418615 & Moderat & Baix\\\\\n\tEstados Unidos & Americas & 1256.67 & 30429116 & 90797 & -1811546 & Baix    & 25629842 & Baix    & Baix\\\\\n\\end{tabular}\n",
            "text/plain": [
              "               Continent SMI     Deute    Deute.Capita Deficit  Atur   \n",
              "China          Asia       220.17 13854168  9828        -1140350 Moderat\n",
              "Estados Unidos Americas  1256.67 30429116 90797        -1811546 Baix   \n",
              "               PIB      PIB.Var IPC \n",
              "China          16418615 Moderat Baix\n",
              "Estados Unidos 25629842 Baix    Baix"
            ]
          },
          "metadata": {}
        }
      ],
      "source": [
        "data[which(data$Deficit < -500000), ]"
      ]
    },
    {
      "cell_type": "code",
      "execution_count": 192,
      "metadata": {
        "id": "l0IgzlE6ceNV",
        "colab": {
          "base_uri": "https://localhost:8080/",
          "height": 437
        },
        "outputId": "10406cfb-2643-4df9-ef63-a10771d95c9f"
      },
      "outputs": [
        {
          "output_type": "display_data",
          "data": {
            "text/plain": [
              "plot without title"
            ],
            "image/png": "[encoded data removed]"
          },
          "metadata": {
            "image/png": {
              "width": 420,
              "height": 420
            }
          }
        }
      ],
      "source": [
        "# Mirem l'atur:\n",
        "barplot(table(data$Atur))"
      ]
    },
    {
      "cell_type": "code",
      "execution_count": 193,
      "metadata": {
        "id": "lmgQTspBhJJk",
        "colab": {
          "base_uri": "https://localhost:8080/",
          "height": 437
        },
        "outputId": "27e98093-7353-4b07-bd06-fda2012cc550"
      },
      "outputs": [
        {
          "output_type": "display_data",
          "data": {
            "text/plain": [
              "Plot with title “Histogram of (data$PIB)”"
            ],
            "image/png": "[encoded data removed]"
          },
          "metadata": {
            "image/png": {
              "width": 420,
              "height": 420
            }
          }
        }
      ],
      "source": [
        "# Mirem el PIB:\n",
        "hist((data$PIB), breaks=15)"
      ]
    },
    {
      "cell_type": "code",
      "execution_count": 194,
      "metadata": {
        "id": "Y4pHETEFhQ1l",
        "colab": {
          "base_uri": "https://localhost:8080/",
          "height": 198
        },
        "outputId": "559a03a8-fa24-458d-89e3-e4c4005aace9"
      },
      "outputs": [
        {
          "output_type": "display_data",
          "data": {
            "text/html": [
              "<table class=\"dataframe\">\n",
              "<caption>A data.frame: 2 × 9</caption>\n",
              "<thead>\n",
              "\t<tr><th></th><th scope=col>Continent</th><th scope=col>SMI</th><th scope=col>Deute</th><th scope=col>Deute.Capita</th><th scope=col>Deficit</th><th scope=col>Atur</th><th scope=col>PIB</th><th scope=col>PIB.Var</th><th scope=col>IPC</th></tr>\n",
              "\t<tr><th></th><th scope=col>&lt;fct&gt;</th><th scope=col>&lt;dbl&gt;</th><th scope=col>&lt;dbl&gt;</th><th scope=col>&lt;dbl&gt;</th><th scope=col>&lt;dbl&gt;</th><th scope=col>&lt;fct&gt;</th><th scope=col>&lt;dbl&gt;</th><th scope=col>&lt;fct&gt;</th><th scope=col>&lt;fct&gt;</th></tr>\n",
              "</thead>\n",
              "<tbody>\n",
              "\t<tr><th scope=row>China</th><td>Asia    </td><td> 220.17</td><td>13854168</td><td> 9828</td><td>-1140350</td><td>Moderat</td><td>16418615</td><td>Moderat</td><td>Baix</td></tr>\n",
              "\t<tr><th scope=row>Estados Unidos</th><td>Americas</td><td>1256.67</td><td>30429116</td><td>90797</td><td>-1811546</td><td>Baix   </td><td>25629842</td><td>Baix   </td><td>Baix</td></tr>\n",
              "</tbody>\n",
              "</table>\n"
            ],
            "text/markdown": "\nA data.frame: 2 × 9\n\n| <!--/--> | Continent &lt;fct&gt; | SMI &lt;dbl&gt; | Deute &lt;dbl&gt; | Deute.Capita &lt;dbl&gt; | Deficit &lt;dbl&gt; | Atur &lt;fct&gt; | PIB &lt;dbl&gt; | PIB.Var &lt;fct&gt; | IPC &lt;fct&gt; |\n|---|---|---|---|---|---|---|---|---|---|\n| China | Asia     |  220.17 | 13854168 |  9828 | -1140350 | Moderat | 16418615 | Moderat | Baix |\n| Estados Unidos | Americas | 1256.67 | 30429116 | 90797 | -1811546 | Baix    | 25629842 | Baix    | Baix |\n\n",
            "text/latex": "A data.frame: 2 × 9\n\\begin{tabular}{r|lllllllll}\n  & Continent & SMI & Deute & Deute.Capita & Deficit & Atur & PIB & PIB.Var & IPC\\\\\n  & <fct> & <dbl> & <dbl> & <dbl> & <dbl> & <fct> & <dbl> & <fct> & <fct>\\\\\n\\hline\n\tChina & Asia     &  220.17 & 13854168 &  9828 & -1140350 & Moderat & 16418615 & Moderat & Baix\\\\\n\tEstados Unidos & Americas & 1256.67 & 30429116 & 90797 & -1811546 & Baix    & 25629842 & Baix    & Baix\\\\\n\\end{tabular}\n",
            "text/plain": [
              "               Continent SMI     Deute    Deute.Capita Deficit  Atur   \n",
              "China          Asia       220.17 13854168  9828        -1140350 Moderat\n",
              "Estados Unidos Americas  1256.67 30429116 90797        -1811546 Baix   \n",
              "               PIB      PIB.Var IPC \n",
              "China          16418615 Moderat Baix\n",
              "Estados Unidos 25629842 Baix    Baix"
            ]
          },
          "metadata": {}
        }
      ],
      "source": [
        "data[which(data$PIB > 1e7), ]"
      ]
    },
    {
      "cell_type": "code",
      "execution_count": 195,
      "metadata": {
        "id": "EPHf23V7hWpT",
        "colab": {
          "base_uri": "https://localhost:8080/",
          "height": 437
        },
        "outputId": "9367b362-5ed4-4aa2-c91e-99274048c94c"
      },
      "outputs": [
        {
          "output_type": "display_data",
          "data": {
            "text/plain": [
              "plot without title"
            ],
            "image/png": "[encoded data removed]"
          },
          "metadata": {
            "image/png": {
              "width": 420,
              "height": 420
            }
          }
        }
      ],
      "source": [
        "# Mirem la variació del PIB:\n",
        "barplot(table(data$PIB.Var))"
      ]
    },
    {
      "cell_type": "code",
      "execution_count": 196,
      "metadata": {
        "id": "rMcK31LehETk",
        "colab": {
          "base_uri": "https://localhost:8080/",
          "height": 437
        },
        "outputId": "24495fec-b78d-4678-8b08-b5213d3ee625"
      },
      "outputs": [
        {
          "output_type": "display_data",
          "data": {
            "text/plain": [
              "plot without title"
            ],
            "image/png": "[encoded data removed]"
          },
          "metadata": {
            "image/png": {
              "width": 420,
              "height": 420
            }
          }
        }
      ],
      "source": [
        "# Mirem l'IPC:\n",
        "barplot(table(data$IPC))"
      ]
    },
    {
      "cell_type": "code",
      "execution_count": 197,
      "metadata": {
        "id": "N58nNRmxajOl"
      },
      "outputs": [],
      "source": [
        "# Per tant, els valors que podríem considerar Outliers en alguna de les\n",
        "# categories són Estats Units, China i Singapur.\n",
        "\n",
        "# Com que són pocs, eliminem els valors outliers.\n",
        "data$PIB[data$PIB > 1e7] <- NA\n",
        "data$Deficit[data$Deficit < -500000] <- NA\n",
        "data$Deute.Capita[data$Deute.Capita > 80000] <- NA"
      ]
    },
    {
      "cell_type": "code",
      "source": [
        "# Setejem les noves variables amb un mètdode, per exemple, el de\n",
        "# missForest? Mitja?\n",
        "\n",
        "# Si, i si et sembla be he mogut el que ja tenim i ho fem nomes despres\n",
        "# de eliminar outliers, que te mes sentit que l'ordre de l'enunciat i aixi no ho fem dues vegades."
      ],
      "metadata": {
        "id": "-eS_cvcE8l0u"
      },
      "execution_count": 198,
      "outputs": []
    },
    {
      "cell_type": "markdown",
      "source": [
        "3.1 Omplir els 0s"
      ],
      "metadata": {
        "id": "Pp0J7k-gCYGj"
      }
    },
    {
      "cell_type": "code",
      "execution_count": 199,
      "metadata": {
        "id": "XoIun6sDVzxr",
        "colab": {
          "base_uri": "https://localhost:8080/",
          "height": 69
        },
        "outputId": "914ba2a6-eb55-4a52-fe6f-89d62d15817d"
      },
      "outputs": [
        {
          "output_type": "display_data",
          "data": {
            "text/html": [
              "<style>\n",
              ".dl-inline {width: auto; margin:0; padding: 0}\n",
              ".dl-inline>dt, .dl-inline>dd {float: none; width: auto; display: inline-block}\n",
              ".dl-inline>dt::after {content: \":\\0020\"; padding-right: .5ex}\n",
              ".dl-inline>dt:not(:first-of-type) {padding-left: .5ex}\n",
              "</style><dl class=dl-inline><dt>Continent</dt><dd>0</dd><dt>SMI</dt><dd>29</dd><dt>Deute</dt><dd>41</dd><dt>Deute.Capita</dt><dd>43</dd><dt>Deficit</dt><dd>40</dd><dt>Atur</dt><dd>0</dd><dt>PIB</dt><dd>5</dd><dt>PIB.Var</dt><dd>3</dd><dt>IPC</dt><dd>31</dd></dl>\n"
            ],
            "text/markdown": "Continent\n:   0SMI\n:   29Deute\n:   41Deute.Capita\n:   43Deficit\n:   40Atur\n:   0PIB\n:   5PIB.Var\n:   3IPC\n:   31\n\n",
            "text/latex": "\\begin{description*}\n\\item[Continent] 0\n\\item[SMI] 29\n\\item[Deute] 41\n\\item[Deute.Capita] 43\n\\item[Deficit] 40\n\\item[Atur] 0\n\\item[PIB] 5\n\\item[PIB.Var] 3\n\\item[IPC] 31\n\\end{description*}\n",
            "text/plain": [
              "   Continent          SMI        Deute Deute.Capita      Deficit         Atur \n",
              "           0           29           41           43           40            0 \n",
              "         PIB      PIB.Var          IPC \n",
              "           5            3           31 "
            ]
          },
          "metadata": {}
        },
        {
          "output_type": "display_data",
          "data": {
            "text/html": [
              "175"
            ],
            "text/markdown": "175",
            "text/latex": "175",
            "text/plain": [
              "[1] 175"
            ]
          },
          "metadata": {}
        }
      ],
      "source": [
        "# Amb les dades ja netes, el que queda per fer és aplicar alguns mètodes per\n",
        "# tal de reduir la quantitat de valors nuls.\n",
        "\n",
        "# Mirem quants valors nuls tenim:\n",
        "colSums(is.na(data))\n",
        "nrow(data)"
      ]
    },
    {
      "cell_type": "code",
      "execution_count": 200,
      "metadata": {
        "id": "GA5HrpBLWejZ"
      },
      "outputs": [],
      "source": [
        "# Pel que fa al SMI, els valors nuls corresponen a països que no tenen\n",
        "# SMI definit: o bé no tenen legislació al respecte, o bé hi ha alguns convenis,\n",
        "# però això no és SMI. En aquests casos, no tindria tant sentit substituir els\n",
        "# nuls per algun valor mitjà. Per tant, considerarem que el SMI és 0.\n",
        "data[which(is.na(data$SMI)), ]$SMI <- 0"
      ]
    },
    {
      "cell_type": "code",
      "source": [
        "# Per la resta de valors, sí que farem imputació de valors buits. Notem que ja\n",
        "# hem millorat molt la presència de nuls en l'apartat anterior, ja que les\n",
        "# columnes atur, IPC i SMI les hem canviat per valors nous, fiables i més\n",
        "# complets. Així, les correccions que fem amb diversos mètodes seran més\n",
        "# acurades, tenim més valors de referència correctes."
      ],
      "metadata": {
        "id": "cPqoW_SxEs4w"
      },
      "execution_count": 201,
      "outputs": []
    },
    {
      "cell_type": "code",
      "execution_count": 202,
      "metadata": {
        "id": "dEj6JnWrdGIh"
      },
      "outputs": [],
      "source": [
        "# Ja podem començar amb la imputació de valors buits, ho farem amb missForest.\n",
        "# Fem la susbstitució usant la informació de totes les columnes, pero guardem\n",
        "# els resultats a una nova variable data_no_NA:\n",
        "data_no_NA <- missForest(data)$ximp"
      ]
    },
    {
      "cell_type": "code",
      "execution_count": 203,
      "metadata": {
        "id": "CZbwJCNbKxfO"
      },
      "outputs": [],
      "source": [
        "# Creem un dataset data_final sense modificar l'original, però no alterem\n",
        "# de moment el conjunt data amb valors nuls.\n",
        "\n",
        "# Ens interessa guardar el conjunt amb valors nuls, ja que per a l'aprenentatge\n",
        "# supervisat, quan fem la divisió en conjunts de train i test, no volem\n",
        "# que informació de les dades de train passi a les dades de test. Aleshores\n",
        "# farem la divisió primer, i completarem els nuls per separat.\n",
        "data_final <- data_no_NA"
      ]
    },
    {
      "cell_type": "code",
      "execution_count": 204,
      "metadata": {
        "id": "AhjMtbixK3IY",
        "colab": {
          "base_uri": "https://localhost:8080/",
          "height": 323
        },
        "outputId": "9cfc64ba-edd5-4855-a69f-f1485df49b07"
      },
      "outputs": [
        {
          "output_type": "display_data",
          "data": {
            "text/html": [
              "<table class=\"dataframe\">\n",
              "<caption>A data.frame: 6 × 9</caption>\n",
              "<thead>\n",
              "\t<tr><th></th><th scope=col>Continent</th><th scope=col>SMI</th><th scope=col>Deute</th><th scope=col>Deute.Capita</th><th scope=col>Deficit</th><th scope=col>Atur</th><th scope=col>PIB</th><th scope=col>PIB.Var</th><th scope=col>IPC</th></tr>\n",
              "\t<tr><th></th><th scope=col>&lt;fct&gt;</th><th scope=col>&lt;dbl&gt;</th><th scope=col>&lt;dbl&gt;</th><th scope=col>&lt;dbl&gt;</th><th scope=col>&lt;dbl&gt;</th><th scope=col>&lt;fct&gt;</th><th scope=col>&lt;dbl&gt;</th><th scope=col>&lt;fct&gt;</th><th scope=col>&lt;fct&gt;</th></tr>\n",
              "</thead>\n",
              "<tbody>\n",
              "\t<tr><th scope=row>Afganistán</th><td>Asia    </td><td>  71.50</td><td>   9620.175</td><td> 2511.135</td><td>   -218.000</td><td>Elevat </td><td>  16022</td><td>Baix   </td><td>Baix   </td></tr>\n",
              "\t<tr><th scope=row>Albania</th><td>Europe  </td><td> 386.42</td><td>  42278.940</td><td> 7045.570</td><td>  -4544.765</td><td>Elevat </td><td>  21255</td><td>Moderat</td><td>Elevat </td></tr>\n",
              "\t<tr><th scope=row>Alemania</th><td>Europe  </td><td>2544.08</td><td>2631777.000</td><td>31539.000</td><td>-107522.000</td><td>Baix   </td><td>4185550</td><td>Negatiu</td><td>Baix   </td></tr>\n",
              "\t<tr><th scope=row>Andorra</th><td>Europe  </td><td>1521.08</td><td>   1255.000</td><td>14747.000</td><td>     79.000</td><td>Baix   </td><td>   3448</td><td>Baix   </td><td>Moderat</td></tr>\n",
              "\t<tr><th scope=row>Angola</th><td>Africa  </td><td>  55.25</td><td> 115161.020</td><td> 2113.010</td><td>  -8773.780</td><td>Moderat</td><td>  82929</td><td>Baix   </td><td>Elevat </td></tr>\n",
              "\t<tr><th scope=row>Antigua y Barbuda</th><td>Americas</td><td> 526.42</td><td>   1452.000</td><td>14375.000</td><td>    -32.000</td><td>Elevat </td><td>   1880</td><td>Moderat</td><td>Baix   </td></tr>\n",
              "</tbody>\n",
              "</table>\n"
            ],
            "text/markdown": "\nA data.frame: 6 × 9\n\n| <!--/--> | Continent &lt;fct&gt; | SMI &lt;dbl&gt; | Deute &lt;dbl&gt; | Deute.Capita &lt;dbl&gt; | Deficit &lt;dbl&gt; | Atur &lt;fct&gt; | PIB &lt;dbl&gt; | PIB.Var &lt;fct&gt; | IPC &lt;fct&gt; |\n|---|---|---|---|---|---|---|---|---|---|\n| Afganistán | Asia     |   71.50 |    9620.175 |  2511.135 |    -218.000 | Elevat  |   16022 | Baix    | Baix    |\n| Albania | Europe   |  386.42 |   42278.940 |  7045.570 |   -4544.765 | Elevat  |   21255 | Moderat | Elevat  |\n| Alemania | Europe   | 2544.08 | 2631777.000 | 31539.000 | -107522.000 | Baix    | 4185550 | Negatiu | Baix    |\n| Andorra | Europe   | 1521.08 |    1255.000 | 14747.000 |      79.000 | Baix    |    3448 | Baix    | Moderat |\n| Angola | Africa   |   55.25 |  115161.020 |  2113.010 |   -8773.780 | Moderat |   82929 | Baix    | Elevat  |\n| Antigua y Barbuda | Americas |  526.42 |    1452.000 | 14375.000 |     -32.000 | Elevat  |    1880 | Moderat | Baix    |\n\n",
            "text/latex": "A data.frame: 6 × 9\n\\begin{tabular}{r|lllllllll}\n  & Continent & SMI & Deute & Deute.Capita & Deficit & Atur & PIB & PIB.Var & IPC\\\\\n  & <fct> & <dbl> & <dbl> & <dbl> & <dbl> & <fct> & <dbl> & <fct> & <fct>\\\\\n\\hline\n\tAfganistán & Asia     &   71.50 &    9620.175 &  2511.135 &    -218.000 & Elevat  &   16022 & Baix    & Baix   \\\\\n\tAlbania & Europe   &  386.42 &   42278.940 &  7045.570 &   -4544.765 & Elevat  &   21255 & Moderat & Elevat \\\\\n\tAlemania & Europe   & 2544.08 & 2631777.000 & 31539.000 & -107522.000 & Baix    & 4185550 & Negatiu & Baix   \\\\\n\tAndorra & Europe   & 1521.08 &    1255.000 & 14747.000 &      79.000 & Baix    &    3448 & Baix    & Moderat\\\\\n\tAngola & Africa   &   55.25 &  115161.020 &  2113.010 &   -8773.780 & Moderat &   82929 & Baix    & Elevat \\\\\n\tAntigua y Barbuda & Americas &  526.42 &    1452.000 & 14375.000 &     -32.000 & Elevat  &    1880 & Moderat & Baix   \\\\\n\\end{tabular}\n",
            "text/plain": [
              "                  Continent SMI     Deute       Deute.Capita Deficit    \n",
              "Afganistán        Asia        71.50    9620.175  2511.135       -218.000\n",
              "Albania           Europe     386.42   42278.940  7045.570      -4544.765\n",
              "Alemania          Europe    2544.08 2631777.000 31539.000    -107522.000\n",
              "Andorra           Europe    1521.08    1255.000 14747.000         79.000\n",
              "Angola            Africa      55.25  115161.020  2113.010      -8773.780\n",
              "Antigua y Barbuda Americas   526.42    1452.000 14375.000        -32.000\n",
              "                  Atur    PIB     PIB.Var IPC    \n",
              "Afganistán        Elevat    16022 Baix    Baix   \n",
              "Albania           Elevat    21255 Moderat Elevat \n",
              "Alemania          Baix    4185550 Negatiu Baix   \n",
              "Andorra           Baix       3448 Baix    Moderat\n",
              "Angola            Moderat   82929 Baix    Elevat \n",
              "Antigua y Barbuda Elevat     1880 Moderat Baix   "
            ]
          },
          "metadata": {}
        }
      ],
      "source": [
        "head(data_final)"
      ]
    },
    {
      "cell_type": "code",
      "execution_count": 205,
      "metadata": {
        "id": "Ugin4VMIU3Lm",
        "colab": {
          "base_uri": "https://localhost:8080/",
          "height": 52
        },
        "outputId": "08d4f19c-c014-4169-b511-fe4c89980159"
      },
      "outputs": [
        {
          "output_type": "display_data",
          "data": {
            "text/html": [
              "<style>\n",
              ".dl-inline {width: auto; margin:0; padding: 0}\n",
              ".dl-inline>dt, .dl-inline>dd {float: none; width: auto; display: inline-block}\n",
              ".dl-inline>dt::after {content: \":\\0020\"; padding-right: .5ex}\n",
              ".dl-inline>dt:not(:first-of-type) {padding-left: .5ex}\n",
              "</style><dl class=dl-inline><dt>Continent</dt><dd>0</dd><dt>SMI</dt><dd>0</dd><dt>Deute</dt><dd>0</dd><dt>Deute.Capita</dt><dd>0</dd><dt>Deficit</dt><dd>0</dd><dt>Atur</dt><dd>0</dd><dt>PIB</dt><dd>0</dd><dt>PIB.Var</dt><dd>0</dd><dt>IPC</dt><dd>0</dd></dl>\n"
            ],
            "text/markdown": "Continent\n:   0SMI\n:   0Deute\n:   0Deute.Capita\n:   0Deficit\n:   0Atur\n:   0PIB\n:   0PIB.Var\n:   0IPC\n:   0\n\n",
            "text/latex": "\\begin{description*}\n\\item[Continent] 0\n\\item[SMI] 0\n\\item[Deute] 0\n\\item[Deute.Capita] 0\n\\item[Deficit] 0\n\\item[Atur] 0\n\\item[PIB] 0\n\\item[PIB.Var] 0\n\\item[IPC] 0\n\\end{description*}\n",
            "text/plain": [
              "   Continent          SMI        Deute Deute.Capita      Deficit         Atur \n",
              "           0            0            0            0            0            0 \n",
              "         PIB      PIB.Var          IPC \n",
              "           0            0            0 "
            ]
          },
          "metadata": {}
        }
      ],
      "source": [
        "# Comprovem que ja no tenim nuls:\n",
        "colSums(is.na(data_final))"
      ]
    },
    {
      "cell_type": "code",
      "source": [
        "# A continuació, fem un resum de les dades finals:\n",
        "summary(data_final)"
      ],
      "metadata": {
        "id": "dV8DWADAAHpA",
        "colab": {
          "base_uri": "https://localhost:8080/",
          "height": 260
        },
        "outputId": "e16b29b0-758d-404e-e367-92e210be92cb"
      },
      "execution_count": 206,
      "outputs": [
        {
          "output_type": "display_data",
          "data": {
            "text/plain": [
              "    Continent       SMI             Deute           Deute.Capita  \n",
              " Africa  :53   Min.   :   0.0   Min.   :     239   Min.   :  180  \n",
              " Americas:34   1st Qu.:  48.8   1st Qu.:   10112   1st Qu.: 1846  \n",
              " Asia    :47   Median : 167.9   Median :   36704   Median : 4184  \n",
              " Europe  :41   Mean   : 420.6   Mean   :  557583   Mean   : 9664  \n",
              "               3rd Qu.: 499.4   3rd Qu.:  156874   3rd Qu.:11979  \n",
              "               Max.   :3096.8   Max.   :30429116   Max.   :53103  \n",
              "    Deficit               Atur         PIB             PIB.Var        IPC    \n",
              " Min.   :-274433.0   Baix   :67   Min.   :    605   Negatiu:23   Baix   :90  \n",
              " 1st Qu.:  -7125.4   Moderat:69   1st Qu.:  15076   Baix   :66   Moderat:40  \n",
              " Median :  -1897.0   Elevat :29   Median :  55385   Moderat:62   Elevat :23  \n",
              " Mean   : -13073.7   Massiu :10   Mean   : 355178   Elevat :24   Massiu :22  \n",
              " 3rd Qu.:   -278.8                3rd Qu.: 320878                            \n",
              " Max.   :  73995.0                Max.   :4185550                            "
            ]
          },
          "metadata": {}
        }
      ]
    },
    {
      "cell_type": "markdown",
      "metadata": {
        "id": "15DBCFG4Wn-C"
      },
      "source": [
        "3.4 Altres mètodes\n",
        "\n",
        "A part dels mètodes mencionats explícitament en l'apartat 3, en l'apartat 2 també hem aplicat alguns passos per a la neteja de dades.\n",
        "\n",
        "- Hem eliminat algunes columnes que són redundants.\n",
        "- Per exemple, hem canviat i simplificat el nom de les columnes.\n",
        "- Hem eliminat els països d'Oceania, per tenir un equilibri en les variables objetiu.\n",
        "- Hem eliminat files duplicades.\n",
        "- Hem eliminat files completament buides.\n",
        "- Hem ajuntat files corresponents al mateix pais per completar valors faltants.\n",
        "- Hem buscat la informació corresponent a les columnes amb més nuls, modificant l'original per millorar la qualitat del conjunt de dades.\n",
        "- Hem fet que el nom de la fila sigui el nom del pais.\n"
      ]
    },
    {
      "cell_type": "code",
      "source": [
        "# Creem un csv amb les dades finals\n",
        "write.csv(data_final, \"final_data.csv\")"
      ],
      "metadata": {
        "id": "ZHpOFSz5ih1B"
      },
      "execution_count": 207,
      "outputs": []
    },
    {
      "cell_type": "code",
      "source": [
        "# Normalitzem aquí les dades a un rang (0, 1)? O a un rang (-1, 1)?\n",
        "# Crec que podriem fer analisis no parametrics."
      ],
      "metadata": {
        "id": "rsO_Qw_pNR7A"
      },
      "execution_count": 208,
      "outputs": []
    },
    {
      "cell_type": "markdown",
      "metadata": {
        "id": "ktJ9szEZpXOL"
      },
      "source": [
        "4. Anàlisi de dades\n",
        "\n",
        "4.1 Aplicar un model supervisat i un model no supervisat.\n",
        "\n",
        "Primer prepararem els conjunts d'entrenament i de test."
      ]
    },
    {
      "cell_type": "code",
      "execution_count": 209,
      "metadata": {
        "id": "9Ic-ClGnZMbN"
      },
      "outputs": [],
      "source": [
        "# Primer de tot, farem la divisió de les dades en un conjunt de test i de train:\n",
        "train_ids <- createDataPartition(y=data$Continent, p=0.7, list=FALSE)\n",
        "data_train <- data[train_ids,]\n",
        "data_test <- data[-train_ids,]"
      ]
    },
    {
      "cell_type": "code",
      "execution_count": 210,
      "metadata": {
        "id": "4OwenfykXNFM",
        "colab": {
          "base_uri": "https://localhost:8080/",
          "height": 173
        },
        "outputId": "b4c0956d-daa4-4a43-87a5-95848022ecc3"
      },
      "outputs": [
        {
          "output_type": "display_data",
          "data": {
            "text/plain": [
              "\n",
              "  Africa Americas     Asia   Europe \n",
              "30.28571 19.42857 26.85714 23.42857 "
            ]
          },
          "metadata": {}
        },
        {
          "output_type": "display_data",
          "data": {
            "text/plain": [
              "\n",
              "  Africa Americas     Asia   Europe \n",
              "30.64516 19.35484 26.61290 23.38710 "
            ]
          },
          "metadata": {}
        },
        {
          "output_type": "display_data",
          "data": {
            "text/plain": [
              "\n",
              "  Africa Americas     Asia   Europe \n",
              "29.41176 19.60784 27.45098 23.52941 "
            ]
          },
          "metadata": {}
        }
      ],
      "source": [
        "# Comprovem que s'ha conservat la proporció de continents en cada conjunt:\n",
        "table(data$Continent) / nrow(data) * 100\n",
        "table(data_train$Continent) / nrow(data_train) * 100\n",
        "table(data_test$Continent) / nrow(data_test) * 100"
      ]
    },
    {
      "cell_type": "code",
      "execution_count": 211,
      "metadata": {
        "id": "hb2Xalmos0Tn",
        "colab": {
          "base_uri": "https://localhost:8080/",
          "height": 86
        },
        "outputId": "a657a8b2-c687-4bf0-a695-c95ff2801f54"
      },
      "outputs": [
        {
          "output_type": "display_data",
          "data": {
            "text/html": [
              "<style>\n",
              ".dl-inline {width: auto; margin:0; padding: 0}\n",
              ".dl-inline>dt, .dl-inline>dd {float: none; width: auto; display: inline-block}\n",
              ".dl-inline>dt::after {content: \":\\0020\"; padding-right: .5ex}\n",
              ".dl-inline>dt:not(:first-of-type) {padding-left: .5ex}\n",
              "</style><dl class=dl-inline><dt>Continent</dt><dd>0</dd><dt>SMI</dt><dd>0</dd><dt>Deute</dt><dd>32</dd><dt>Deute.Capita</dt><dd>33</dd><dt>Deficit</dt><dd>30</dd><dt>Atur</dt><dd>0</dd><dt>PIB</dt><dd>4</dd><dt>PIB.Var</dt><dd>3</dd><dt>IPC</dt><dd>21</dd></dl>\n"
            ],
            "text/markdown": "Continent\n:   0SMI\n:   0Deute\n:   32Deute.Capita\n:   33Deficit\n:   30Atur\n:   0PIB\n:   4PIB.Var\n:   3IPC\n:   21\n\n",
            "text/latex": "\\begin{description*}\n\\item[Continent] 0\n\\item[SMI] 0\n\\item[Deute] 32\n\\item[Deute.Capita] 33\n\\item[Deficit] 30\n\\item[Atur] 0\n\\item[PIB] 4\n\\item[PIB.Var] 3\n\\item[IPC] 21\n\\end{description*}\n",
            "text/plain": [
              "   Continent          SMI        Deute Deute.Capita      Deficit         Atur \n",
              "           0            0           32           33           30            0 \n",
              "         PIB      PIB.Var          IPC \n",
              "           4            3           21 "
            ]
          },
          "metadata": {}
        },
        {
          "output_type": "display_data",
          "data": {
            "text/html": [
              "<style>\n",
              ".dl-inline {width: auto; margin:0; padding: 0}\n",
              ".dl-inline>dt, .dl-inline>dd {float: none; width: auto; display: inline-block}\n",
              ".dl-inline>dt::after {content: \":\\0020\"; padding-right: .5ex}\n",
              ".dl-inline>dt:not(:first-of-type) {padding-left: .5ex}\n",
              "</style><dl class=dl-inline><dt>Continent</dt><dd>0</dd><dt>SMI</dt><dd>0</dd><dt>Deute</dt><dd>0</dd><dt>Deute.Capita</dt><dd>0</dd><dt>Deficit</dt><dd>0</dd><dt>Atur</dt><dd>0</dd><dt>PIB</dt><dd>0</dd><dt>PIB.Var</dt><dd>0</dd><dt>IPC</dt><dd>0</dd></dl>\n"
            ],
            "text/markdown": "Continent\n:   0SMI\n:   0Deute\n:   0Deute.Capita\n:   0Deficit\n:   0Atur\n:   0PIB\n:   0PIB.Var\n:   0IPC\n:   0\n\n",
            "text/latex": "\\begin{description*}\n\\item[Continent] 0\n\\item[SMI] 0\n\\item[Deute] 0\n\\item[Deute.Capita] 0\n\\item[Deficit] 0\n\\item[Atur] 0\n\\item[PIB] 0\n\\item[PIB.Var] 0\n\\item[IPC] 0\n\\end{description*}\n",
            "text/plain": [
              "   Continent          SMI        Deute Deute.Capita      Deficit         Atur \n",
              "           0            0            0            0            0            0 \n",
              "         PIB      PIB.Var          IPC \n",
              "           0            0            0 "
            ]
          },
          "metadata": {}
        }
      ],
      "source": [
        "# Recordem que no hem fet la substitució dels valors nuls, ara és el\n",
        "# moment de fer-ho amb els conjunts separats. Així no introduïm biaix a les\n",
        "# dades.\n",
        "colSums(is.na(data_train))\n",
        "data_train_noNA <- missForest(data_train)$ximp\n",
        "cols = c( 'Deute', 'Deute.Capita', 'Deficit', 'Atur', 'PIB', 'PIB.Var', 'IPC')\n",
        "data_train[,cols] <- data_train_noNA[,cols]\n",
        "colSums(is.na(data_train))"
      ]
    },
    {
      "cell_type": "code",
      "execution_count": 212,
      "metadata": {
        "id": "5ztTkfHGuqlG",
        "colab": {
          "base_uri": "https://localhost:8080/",
          "height": 86
        },
        "outputId": "707b1a42-47fc-4bd3-f491-25d8185251d6"
      },
      "outputs": [
        {
          "output_type": "display_data",
          "data": {
            "text/html": [
              "<style>\n",
              ".dl-inline {width: auto; margin:0; padding: 0}\n",
              ".dl-inline>dt, .dl-inline>dd {float: none; width: auto; display: inline-block}\n",
              ".dl-inline>dt::after {content: \":\\0020\"; padding-right: .5ex}\n",
              ".dl-inline>dt:not(:first-of-type) {padding-left: .5ex}\n",
              "</style><dl class=dl-inline><dt>Continent</dt><dd>0</dd><dt>SMI</dt><dd>0</dd><dt>Deute</dt><dd>9</dd><dt>Deute.Capita</dt><dd>10</dd><dt>Deficit</dt><dd>10</dd><dt>Atur</dt><dd>0</dd><dt>PIB</dt><dd>1</dd><dt>PIB.Var</dt><dd>0</dd><dt>IPC</dt><dd>10</dd></dl>\n"
            ],
            "text/markdown": "Continent\n:   0SMI\n:   0Deute\n:   9Deute.Capita\n:   10Deficit\n:   10Atur\n:   0PIB\n:   1PIB.Var\n:   0IPC\n:   10\n\n",
            "text/latex": "\\begin{description*}\n\\item[Continent] 0\n\\item[SMI] 0\n\\item[Deute] 9\n\\item[Deute.Capita] 10\n\\item[Deficit] 10\n\\item[Atur] 0\n\\item[PIB] 1\n\\item[PIB.Var] 0\n\\item[IPC] 10\n\\end{description*}\n",
            "text/plain": [
              "   Continent          SMI        Deute Deute.Capita      Deficit         Atur \n",
              "           0            0            9           10           10            0 \n",
              "         PIB      PIB.Var          IPC \n",
              "           1            0           10 "
            ]
          },
          "metadata": {}
        },
        {
          "output_type": "display_data",
          "data": {
            "text/html": [
              "<style>\n",
              ".dl-inline {width: auto; margin:0; padding: 0}\n",
              ".dl-inline>dt, .dl-inline>dd {float: none; width: auto; display: inline-block}\n",
              ".dl-inline>dt::after {content: \":\\0020\"; padding-right: .5ex}\n",
              ".dl-inline>dt:not(:first-of-type) {padding-left: .5ex}\n",
              "</style><dl class=dl-inline><dt>Continent</dt><dd>0</dd><dt>SMI</dt><dd>0</dd><dt>Deute</dt><dd>0</dd><dt>Deute.Capita</dt><dd>0</dd><dt>Deficit</dt><dd>0</dd><dt>Atur</dt><dd>0</dd><dt>PIB</dt><dd>0</dd><dt>PIB.Var</dt><dd>0</dd><dt>IPC</dt><dd>0</dd></dl>\n"
            ],
            "text/markdown": "Continent\n:   0SMI\n:   0Deute\n:   0Deute.Capita\n:   0Deficit\n:   0Atur\n:   0PIB\n:   0PIB.Var\n:   0IPC\n:   0\n\n",
            "text/latex": "\\begin{description*}\n\\item[Continent] 0\n\\item[SMI] 0\n\\item[Deute] 0\n\\item[Deute.Capita] 0\n\\item[Deficit] 0\n\\item[Atur] 0\n\\item[PIB] 0\n\\item[PIB.Var] 0\n\\item[IPC] 0\n\\end{description*}\n",
            "text/plain": [
              "   Continent          SMI        Deute Deute.Capita      Deficit         Atur \n",
              "           0            0            0            0            0            0 \n",
              "         PIB      PIB.Var          IPC \n",
              "           0            0            0 "
            ]
          },
          "metadata": {}
        }
      ],
      "source": [
        "colSums(is.na(data_test))\n",
        "data_test_noNA <- missForest(data_test)$ximp\n",
        "cols = c( 'Deute', 'Deute.Capita', 'Deficit', 'Atur', 'PIB', 'PIB.Var', 'IPC')\n",
        "data_test[,cols] <- data_test_noNA[,cols]\n",
        "colSums(is.na(data_test))"
      ]
    },
    {
      "cell_type": "code",
      "execution_count": 213,
      "metadata": {
        "id": "HHSKgz9Yr8JY",
        "colab": {
          "base_uri": "https://localhost:8080/",
          "height": 69
        },
        "outputId": "a53aa2c1-4999-4452-a3af-287e8adb0bca"
      },
      "outputs": [
        {
          "output_type": "display_data",
          "data": {
            "text/plain": [
              "\n",
              "  Africa Americas     Asia   Europe \n",
              "      38       24       33       29 "
            ]
          },
          "metadata": {}
        }
      ],
      "source": [
        "# Ara augmentarem les classes minoritàries i que totes tinguin un nombre\n",
        "# similar al d'Africa.\n",
        "table(data_train$Continent)"
      ]
    },
    {
      "cell_type": "code",
      "source": [
        "# Incrementem en 15 els exemples d'Americas\n",
        "data_train <- dplyr::bind_rows(data_train, tail(smote(Continent ~ ., data_train, perc.over = 1, k = 5, perc.under = 0), n=15))"
      ],
      "metadata": {
        "id": "LSYwZaDbQR6M"
      },
      "execution_count": 214,
      "outputs": []
    },
    {
      "cell_type": "code",
      "source": [
        "# Incrementem en 10 els exemples d'Europe\n",
        "data_train <- dplyr::bind_rows(data_train, tail(smote(Continent ~ ., data_train, perc.over = 1, k = 5, perc.under = 0), n=10))"
      ],
      "metadata": {
        "id": "cgZP2K2CSvto"
      },
      "execution_count": 215,
      "outputs": []
    },
    {
      "cell_type": "code",
      "source": [
        "# Incrementem en 6 els exemples d'Asia\n",
        "data_train <- dplyr::bind_rows(data_train, tail(smote(Continent ~ ., data_train, perc.over = 1, k = 5, perc.under = 0), n=6))"
      ],
      "metadata": {
        "id": "9pF7MaAXS7up"
      },
      "execution_count": 216,
      "outputs": []
    },
    {
      "cell_type": "code",
      "source": [
        "# Incrementem en 1 els exemples d'Africa\n",
        "data_train <- dplyr::bind_rows(data_train, tail(smote(Continent ~ ., data_train, perc.over = 1, k = 5, perc.under = 0), n=1))"
      ],
      "metadata": {
        "id": "NLsyh3IceI9k"
      },
      "execution_count": 217,
      "outputs": []
    },
    {
      "cell_type": "code",
      "source": [
        "table(data_train$Continent)"
      ],
      "metadata": {
        "id": "ysfXnG1fRIop",
        "colab": {
          "base_uri": "https://localhost:8080/",
          "height": 69
        },
        "outputId": "4f925c13-b73a-4677-d36c-4f015c449951"
      },
      "execution_count": 218,
      "outputs": [
        {
          "output_type": "display_data",
          "data": {
            "text/plain": [
              "\n",
              "  Africa Americas     Asia   Europe \n",
              "      39       39       39       39 "
            ]
          },
          "metadata": {}
        }
      ]
    },
    {
      "cell_type": "code",
      "source": [
        "# Fem el mateix pel conjunt de test:\n",
        "table(data_test$Continent)"
      ],
      "metadata": {
        "id": "Lgp_oCkjTjRo",
        "colab": {
          "base_uri": "https://localhost:8080/",
          "height": 69
        },
        "outputId": "fbee07fe-298b-4d0e-8852-778ce0984cad"
      },
      "execution_count": 219,
      "outputs": [
        {
          "output_type": "display_data",
          "data": {
            "text/plain": [
              "\n",
              "  Africa Americas     Asia   Europe \n",
              "      15       10       14       12 "
            ]
          },
          "metadata": {}
        }
      ]
    },
    {
      "cell_type": "code",
      "source": [
        "# Incrementem en 6 els exemples d'Americas\n",
        "data_test <- dplyr::bind_rows(data_test, tail(smote(Continent ~ ., data_test, perc.over = 1, k = 5, perc.under = 0), n=6))"
      ],
      "metadata": {
        "id": "91yiDbOwTqqv"
      },
      "execution_count": 220,
      "outputs": []
    },
    {
      "cell_type": "code",
      "source": [
        "# Incrementem en 4 els exemples d'Europe\n",
        "data_test <- dplyr::bind_rows(data_test, tail(smote(Continent ~ ., data_test, perc.over = 1, k = 5, perc.under = 0), n=4))"
      ],
      "metadata": {
        "id": "4Dk9S5frT0Oq"
      },
      "execution_count": 221,
      "outputs": []
    },
    {
      "cell_type": "code",
      "source": [
        "# Incrementem en 2 els exemples d'Asia\n",
        "data_test <- dplyr::bind_rows(data_test, tail(smote(Continent ~ ., data_test, perc.over = 1, k = 5, perc.under = 0), n=2))"
      ],
      "metadata": {
        "id": "iz8T-VCmd-cc"
      },
      "execution_count": 222,
      "outputs": []
    },
    {
      "cell_type": "code",
      "source": [
        "# Incrementem en 1 els exemples d'Africa\n",
        "data_test <- dplyr::bind_rows(data_test, tail(smote(Continent ~ ., data_test, perc.over = 1, k = 5, perc.under = 0), n=1))"
      ],
      "metadata": {
        "id": "VGucI7_ReTow"
      },
      "execution_count": 223,
      "outputs": []
    },
    {
      "cell_type": "code",
      "source": [
        "table(data_test$Continent)"
      ],
      "metadata": {
        "id": "FkoSNc4hT4YH",
        "colab": {
          "base_uri": "https://localhost:8080/",
          "height": 69
        },
        "outputId": "c18ba9ed-f737-4a2d-c091-68edaa76e733"
      },
      "execution_count": 224,
      "outputs": [
        {
          "output_type": "display_data",
          "data": {
            "text/plain": [
              "\n",
              "  Africa Americas     Asia   Europe \n",
              "      16       16       16       16 "
            ]
          },
          "metadata": {}
        }
      ]
    },
    {
      "cell_type": "code",
      "source": [
        "# Ara separem la variable a predir, Continent:\n",
        "X_train <- subset(data_train, select = -Continent )\n",
        "y_train <- data_train['Continent']\n",
        "X_test <- subset(data_test, select = -Continent )\n",
        "y_test <- data_test['Continent']"
      ],
      "metadata": {
        "id": "Szo87-a6UFjy"
      },
      "execution_count": 225,
      "outputs": []
    },
    {
      "cell_type": "code",
      "source": [
        "# Aquest conjunts ja els podem usar tant per al model supervisat com per\n",
        "# al no supervisat."
      ],
      "metadata": {
        "id": "wP-ylQMwVNNu"
      },
      "execution_count": 226,
      "outputs": []
    },
    {
      "cell_type": "code",
      "execution_count": 227,
      "metadata": {
        "id": "c69PBPyPtHEk"
      },
      "outputs": [],
      "source": [
        "# COMENTARI: NORMALITZEM LES DADES O NO?\n",
        "# en teoria no fa falta les dades normalitzades per aplicar models no?\n",
        "\n",
        "# No és necessari, però és recomanable, ho podem deixar com està."
      ]
    },
    {
      "cell_type": "markdown",
      "source": [
        "A. Model supervisat"
      ],
      "metadata": {
        "id": "VZ6eAXbyB7Z-"
      }
    },
    {
      "cell_type": "code",
      "source": [
        "# El primer que farem serà aplicar un model randomForest."
      ],
      "metadata": {
        "id": "YVkW6diMVV7E"
      },
      "execution_count": 228,
      "outputs": []
    },
    {
      "cell_type": "code",
      "source": [
        "# Creem el model amb 500 arbres, i la data d'entrenament:\n",
        "rf_model <- randomForest(Continent~., data_train, ntree = 500)"
      ],
      "metadata": {
        "id": "dO0ybFZRVV9h"
      },
      "execution_count": 229,
      "outputs": []
    },
    {
      "cell_type": "code",
      "source": [
        "# Mirem la importància de cada atribut. Sembla que el Deute.Capita i SMI\n",
        "# són els valors més alts.\n",
        "importance(rf_model)"
      ],
      "metadata": {
        "id": "-dQtIak9blPU",
        "colab": {
          "base_uri": "https://localhost:8080/",
          "height": 317
        },
        "outputId": "3d655ec1-1ee5-45f8-cfa5-734ead502d70"
      },
      "execution_count": 230,
      "outputs": [
        {
          "output_type": "display_data",
          "data": {
            "text/html": [
              "<table class=\"dataframe\">\n",
              "<caption>A matrix: 8 × 1 of type dbl</caption>\n",
              "<thead>\n",
              "\t<tr><th></th><th scope=col>MeanDecreaseGini</th></tr>\n",
              "</thead>\n",
              "<tbody>\n",
              "\t<tr><th scope=row>SMI</th><td>21.262086</td></tr>\n",
              "\t<tr><th scope=row>Deute</th><td>13.393629</td></tr>\n",
              "\t<tr><th scope=row>Deute.Capita</th><td>28.754940</td></tr>\n",
              "\t<tr><th scope=row>Deficit</th><td>13.060360</td></tr>\n",
              "\t<tr><th scope=row>Atur</th><td> 6.116561</td></tr>\n",
              "\t<tr><th scope=row>PIB</th><td>15.403971</td></tr>\n",
              "\t<tr><th scope=row>PIB.Var</th><td> 9.467616</td></tr>\n",
              "\t<tr><th scope=row>IPC</th><td> 8.128185</td></tr>\n",
              "</tbody>\n",
              "</table>\n"
            ],
            "text/markdown": "\nA matrix: 8 × 1 of type dbl\n\n| <!--/--> | MeanDecreaseGini |\n|---|---|\n| SMI | 21.262086 |\n| Deute | 13.393629 |\n| Deute.Capita | 28.754940 |\n| Deficit | 13.060360 |\n| Atur |  6.116561 |\n| PIB | 15.403971 |\n| PIB.Var |  9.467616 |\n| IPC |  8.128185 |\n\n",
            "text/latex": "A matrix: 8 × 1 of type dbl\n\\begin{tabular}{r|l}\n  & MeanDecreaseGini\\\\\n\\hline\n\tSMI & 21.262086\\\\\n\tDeute & 13.393629\\\\\n\tDeute.Capita & 28.754940\\\\\n\tDeficit & 13.060360\\\\\n\tAtur &  6.116561\\\\\n\tPIB & 15.403971\\\\\n\tPIB.Var &  9.467616\\\\\n\tIPC &  8.128185\\\\\n\\end{tabular}\n",
            "text/plain": [
              "             MeanDecreaseGini\n",
              "SMI          21.262086       \n",
              "Deute        13.393629       \n",
              "Deute.Capita 28.754940       \n",
              "Deficit      13.060360       \n",
              "Atur          6.116561       \n",
              "PIB          15.403971       \n",
              "PIB.Var       9.467616       \n",
              "IPC           8.128185       "
            ]
          },
          "metadata": {}
        }
      ]
    },
    {
      "cell_type": "code",
      "source": [
        "# Apliquem el model a les dades d'entrenament.\n",
        "rf_pred_train <- predict(rf_model, data_train)\n",
        "confusionMatrix(rf_pred_train, data_train$Continent)"
      ],
      "metadata": {
        "id": "bpR2wYtYZ6vD",
        "colab": {
          "base_uri": "https://localhost:8080/",
          "height": 555
        },
        "outputId": "40acf65b-2479-4cf7-935d-f886c28e7c82"
      },
      "execution_count": 231,
      "outputs": [
        {
          "output_type": "display_data",
          "data": {
            "text/plain": [
              "Confusion Matrix and Statistics\n",
              "\n",
              "          Reference\n",
              "Prediction Africa Americas Asia Europe\n",
              "  Africa       39        0    0      0\n",
              "  Americas      0       39    0      0\n",
              "  Asia          0        0   39      0\n",
              "  Europe        0        0    0     39\n",
              "\n",
              "Overall Statistics\n",
              "                                     \n",
              "               Accuracy : 1          \n",
              "                 95% CI : (0.9766, 1)\n",
              "    No Information Rate : 0.25       \n",
              "    P-Value [Acc > NIR] : < 2.2e-16  \n",
              "                                     \n",
              "                  Kappa : 1          \n",
              "                                     \n",
              " Mcnemar's Test P-Value : NA         \n",
              "\n",
              "Statistics by Class:\n",
              "\n",
              "                     Class: Africa Class: Americas Class: Asia Class: Europe\n",
              "Sensitivity                   1.00            1.00        1.00          1.00\n",
              "Specificity                   1.00            1.00        1.00          1.00\n",
              "Pos Pred Value                1.00            1.00        1.00          1.00\n",
              "Neg Pred Value                1.00            1.00        1.00          1.00\n",
              "Prevalence                    0.25            0.25        0.25          0.25\n",
              "Detection Rate                0.25            0.25        0.25          0.25\n",
              "Detection Prevalence          0.25            0.25        0.25          0.25\n",
              "Balanced Accuracy             1.00            1.00        1.00          1.00"
            ]
          },
          "metadata": {}
        }
      ]
    },
    {
      "cell_type": "code",
      "source": [
        "# Com és d'esperar, s'han obtingut resultats perfectes amb les dades\n",
        "# d'entrenament. Sabem que els models basats en DecisionTrees són propensos\n",
        "# a l'overfitting."
      ],
      "metadata": {
        "id": "JGziAULndHQP"
      },
      "execution_count": 232,
      "outputs": []
    },
    {
      "cell_type": "code",
      "source": [
        "# Mirem que passa amb les dades de test:\n",
        "rf_pred_test <- predict(rf_model, data_test)\n",
        "confusionMatrix(rf_pred_test, data_test$Continent)"
      ],
      "metadata": {
        "id": "EHNJip_zVV_m",
        "colab": {
          "base_uri": "https://localhost:8080/",
          "height": 555
        },
        "outputId": "466302eb-6fd8-43c8-f8d0-7ffac72b70d4"
      },
      "execution_count": 233,
      "outputs": [
        {
          "output_type": "display_data",
          "data": {
            "text/plain": [
              "Confusion Matrix and Statistics\n",
              "\n",
              "          Reference\n",
              "Prediction Africa Americas Asia Europe\n",
              "  Africa       11        0    5      0\n",
              "  Americas      4       10    3      1\n",
              "  Asia          1        3    6      5\n",
              "  Europe        0        3    2     10\n",
              "\n",
              "Overall Statistics\n",
              "                                          \n",
              "               Accuracy : 0.5781          \n",
              "                 95% CI : (0.4482, 0.7006)\n",
              "    No Information Rate : 0.25            \n",
              "    P-Value [Acc > NIR] : 2.472e-08       \n",
              "                                          \n",
              "                  Kappa : 0.4375          \n",
              "                                          \n",
              " Mcnemar's Test P-Value : NA              \n",
              "\n",
              "Statistics by Class:\n",
              "\n",
              "                     Class: Africa Class: Americas Class: Asia Class: Europe\n",
              "Sensitivity                 0.6875          0.6250     0.37500        0.6250\n",
              "Specificity                 0.8958          0.8333     0.81250        0.8958\n",
              "Pos Pred Value              0.6875          0.5556     0.40000        0.6667\n",
              "Neg Pred Value              0.8958          0.8696     0.79592        0.8776\n",
              "Prevalence                  0.2500          0.2500     0.25000        0.2500\n",
              "Detection Rate              0.1719          0.1562     0.09375        0.1562\n",
              "Detection Prevalence        0.2500          0.2812     0.23438        0.2344\n",
              "Balanced Accuracy           0.7917          0.7292     0.59375        0.7604"
            ]
          },
          "metadata": {}
        }
      ]
    },
    {
      "cell_type": "code",
      "source": [
        "# Aconseguim predir correctament una mica més de la meitat dels paisos."
      ],
      "metadata": {
        "id": "MvLNbMsTdWjk"
      },
      "execution_count": 234,
      "outputs": []
    },
    {
      "cell_type": "code",
      "source": [
        "# Ara provarem un altre model supervisat, Support-Vector Machines.\n",
        "# Creem el model:\n",
        "svm_model = svm(formula = Continent~.,\n",
        "                data = data_train,\n",
        "                type = 'C-classification',\n",
        "                kernel = 'linear')"
      ],
      "metadata": {
        "id": "_E1zgkQHa-S6"
      },
      "execution_count": 235,
      "outputs": []
    },
    {
      "cell_type": "code",
      "source": [
        "# L'apliquem a les dades d'entrenament:\n",
        "svm_pred_train <- predict(svm_model, data_train)\n",
        "confusionMatrix(svm_pred_train, data_train$Continent)"
      ],
      "metadata": {
        "id": "hNaLAZjScEXW",
        "colab": {
          "base_uri": "https://localhost:8080/",
          "height": 555
        },
        "outputId": "d4f6f823-aa8c-44c9-8808-7d277ae0dffd"
      },
      "execution_count": 236,
      "outputs": [
        {
          "output_type": "display_data",
          "data": {
            "text/plain": [
              "Confusion Matrix and Statistics\n",
              "\n",
              "          Reference\n",
              "Prediction Africa Americas Asia Europe\n",
              "  Africa       33        4    4      1\n",
              "  Americas      1       26    4      3\n",
              "  Asia          5        4   28      6\n",
              "  Europe        0        5    3     29\n",
              "\n",
              "Overall Statistics\n",
              "                                          \n",
              "               Accuracy : 0.7436          \n",
              "                 95% CI : (0.6676, 0.8101)\n",
              "    No Information Rate : 0.25            \n",
              "    P-Value [Acc > NIR] : <2e-16          \n",
              "                                          \n",
              "                  Kappa : 0.6581          \n",
              "                                          \n",
              " Mcnemar's Test P-Value : 0.6212          \n",
              "\n",
              "Statistics by Class:\n",
              "\n",
              "                     Class: Africa Class: Americas Class: Asia Class: Europe\n",
              "Sensitivity                 0.8462          0.6667      0.7179        0.7436\n",
              "Specificity                 0.9231          0.9316      0.8718        0.9316\n",
              "Pos Pred Value              0.7857          0.7647      0.6512        0.7838\n",
              "Neg Pred Value              0.9474          0.8934      0.9027        0.9160\n",
              "Prevalence                  0.2500          0.2500      0.2500        0.2500\n",
              "Detection Rate              0.2115          0.1667      0.1795        0.1859\n",
              "Detection Prevalence        0.2692          0.2179      0.2756        0.2372\n",
              "Balanced Accuracy           0.8846          0.7991      0.7949        0.8376"
            ]
          },
          "metadata": {}
        }
      ]
    },
    {
      "cell_type": "code",
      "source": [
        "# No obtenim uns resultats tant bons com amb RandomForest."
      ],
      "metadata": {
        "id": "H8kQ7n-KdjUh"
      },
      "execution_count": 237,
      "outputs": []
    },
    {
      "cell_type": "code",
      "source": [
        "# Veiem que passa amb el conjunt de test:\n",
        "svm_pred_test <- predict(svm_model, data_test)\n",
        "confusionMatrix(svm_pred_test, data_test$Continent)"
      ],
      "metadata": {
        "id": "E7UaKefqcJrW",
        "colab": {
          "base_uri": "https://localhost:8080/",
          "height": 555
        },
        "outputId": "f822e8ce-3e1f-4ad4-b898-3a6192af9e6c"
      },
      "execution_count": 238,
      "outputs": [
        {
          "output_type": "display_data",
          "data": {
            "text/plain": [
              "Confusion Matrix and Statistics\n",
              "\n",
              "          Reference\n",
              "Prediction Africa Americas Asia Europe\n",
              "  Africa       13        0    5      0\n",
              "  Americas      1        7    2      2\n",
              "  Asia          2        6    8      4\n",
              "  Europe        0        3    1     10\n",
              "\n",
              "Overall Statistics\n",
              "                                          \n",
              "               Accuracy : 0.5938          \n",
              "                 95% CI : (0.4637, 0.7149)\n",
              "    No Information Rate : 0.25            \n",
              "    P-Value [Acc > NIR] : 5.75e-09        \n",
              "                                          \n",
              "                  Kappa : 0.4583          \n",
              "                                          \n",
              " Mcnemar's Test P-Value : NA              \n",
              "\n",
              "Statistics by Class:\n",
              "\n",
              "                     Class: Africa Class: Americas Class: Asia Class: Europe\n",
              "Sensitivity                 0.8125          0.4375      0.5000        0.6250\n",
              "Specificity                 0.8958          0.8958      0.7500        0.9167\n",
              "Pos Pred Value              0.7222          0.5833      0.4000        0.7143\n",
              "Neg Pred Value              0.9348          0.8269      0.8182        0.8800\n",
              "Prevalence                  0.2500          0.2500      0.2500        0.2500\n",
              "Detection Rate              0.2031          0.1094      0.1250        0.1562\n",
              "Detection Prevalence        0.2812          0.1875      0.3125        0.2188\n",
              "Balanced Accuracy           0.8542          0.6667      0.6250        0.7708"
            ]
          },
          "metadata": {}
        }
      ]
    },
    {
      "cell_type": "code",
      "source": [
        "# Tenim uns resultats molt similars als obtinguts amb RandomForest."
      ],
      "metadata": {
        "id": "Wj0N3KYxdrH2"
      },
      "execution_count": 239,
      "outputs": []
    },
    {
      "cell_type": "markdown",
      "metadata": {
        "id": "xM6HBIf59BN5"
      },
      "source": [
        "B. Model no supervisat"
      ]
    },
    {
      "cell_type": "code",
      "source": [
        "# Per fer un model no supervisat en farem us del mètode de mètodes de partició\n",
        "# per determinar si segons les propietats dels diferents valors numèrics són\n",
        "# suficients per determinar si el continent el qual es representat es pot formar\n",
        "# un cluster sobre aquest"
      ],
      "metadata": {
        "id": "pz9MpMvV_9wL"
      },
      "execution_count": 240,
      "outputs": []
    },
    {
      "cell_type": "code",
      "source": [
        "# Primer de tot crearem un conjunt amb el total de valors numerics sense el\n",
        "# continent\n",
        " data_to_cluster <- data_final[,c(\"SMI\",\"Deute\",\"Deute.Capita\",\"Deficit\",\"PIB\")]"
      ],
      "metadata": {
        "id": "6cCmlnNYHh25"
      },
      "execution_count": 241,
      "outputs": []
    },
    {
      "cell_type": "code",
      "source": [
        "# Un cop amb aquestes dades es pot aplicar el kmeans i k = 4 sent el numero de\n",
        "# clusters que volem crear\n",
        "kmeans.res <- kmeans(data_to_cluster,4)"
      ],
      "metadata": {
        "id": "OOA3VPB7IIf9"
      },
      "execution_count": 242,
      "outputs": []
    },
    {
      "cell_type": "code",
      "source": [
        "# Un cop tenim els camps en clusters, calcularem quins seràn els clusters reals\n",
        "# comparats amb els continents\n",
        "\n",
        "table(data_final$Continent, kmeans.res$cluster)"
      ],
      "metadata": {
        "id": "k1jiwCp8K5kq",
        "colab": {
          "base_uri": "https://localhost:8080/",
          "height": 121
        },
        "outputId": "373c92ac-79f6-46bd-df16-e5bdcccd9c3a"
      },
      "execution_count": 243,
      "outputs": [
        {
          "output_type": "display_data",
          "data": {
            "text/plain": [
              "          \n",
              "            1  2  3  4\n",
              "  Africa   53  0  0  0\n",
              "  Americas 31  0  1  2\n",
              "  Asia     44  2  0  1\n",
              "  Europe   35  1  0  5"
            ]
          },
          "metadata": {}
        }
      ]
    },
    {
      "cell_type": "code",
      "source": [
        "# Un cop tenim els camps en clusters, calcularem quins seràn els clusters reals\n",
        "# comparats amb els continents\n",
        "\n",
        "table(data_final$PIB.Var, kmeans.res$cluster)"
      ],
      "metadata": {
        "id": "1eK9fc_OJue9",
        "colab": {
          "base_uri": "https://localhost:8080/",
          "height": 121
        },
        "outputId": "c19000f0-e740-40ec-8c86-397fd1bed83e"
      },
      "execution_count": 244,
      "outputs": [
        {
          "output_type": "display_data",
          "data": {
            "text/plain": [
              "         \n",
              "           1  2  3  4\n",
              "  Negatiu 22  0  0  1\n",
              "  Baix    57  2  1  6\n",
              "  Moderat 61  1  0  0\n",
              "  Elevat  23  0  0  1"
            ]
          },
          "metadata": {}
        }
      ]
    },
    {
      "cell_type": "code",
      "source": [
        "# Ho farem igualment per l'atur\n",
        "table(data_final$Atur, kmeans.res$cluster)"
      ],
      "metadata": {
        "id": "LeZ0d-0mfrop",
        "colab": {
          "base_uri": "https://localhost:8080/",
          "height": 121
        },
        "outputId": "f2b57176-4adb-48a1-dcaf-864d6fbfb702"
      },
      "execution_count": 245,
      "outputs": [
        {
          "output_type": "display_data",
          "data": {
            "text/plain": [
              "         \n",
              "           1  2  3  4\n",
              "  Baix    62  2  1  2\n",
              "  Moderat 63  1  0  5\n",
              "  Elevat  28  0  0  1\n",
              "  Massiu  10  0  0  0"
            ]
          },
          "metadata": {}
        }
      ]
    },
    {
      "cell_type": "code",
      "source": [
        "# Ho fem igualment per l'IPC\n",
        "table(data_final$IPC, kmeans.res$cluster)"
      ],
      "metadata": {
        "id": "ugOk3Gcsfuks",
        "colab": {
          "base_uri": "https://localhost:8080/",
          "height": 121
        },
        "outputId": "e046baac-a011-41a9-f3c3-f3baf06b6848"
      },
      "execution_count": 246,
      "outputs": [
        {
          "output_type": "display_data",
          "data": {
            "text/plain": [
              "         \n",
              "           1  2  3  4\n",
              "  Baix    79  3  1  7\n",
              "  Moderat 39  0  0  1\n",
              "  Elevat  23  0  0  0\n",
              "  Massiu  22  0  0  0"
            ]
          },
          "metadata": {}
        }
      ]
    },
    {
      "cell_type": "code",
      "source": [
        "# Veiem que per a aquest mètode no supervisat, de clustering, no arriba a fer\n",
        "# cluster correcte del continent segons les dades numeriques que hem\n",
        "# proporcionat, aquestes sent el SMI, el Deute, el deute per càpita, el dèficit\n",
        "# i el PIB"
      ],
      "metadata": {
        "id": "iE8XoQlfLt3m"
      },
      "execution_count": 247,
      "outputs": []
    },
    {
      "cell_type": "code",
      "source": [
        "# Farem servir igualment un altre tipus de model no supervisat, aquest sent\n",
        "# aquests mètodes basats en la densitat de veïnts.\n",
        "# Per això farem servir el mètode dbscan\n",
        "\n",
        "#Primer de tot haurem de calucalr quin es el valor de eps, que es el que es\n",
        "# defineix com la distancia promitja a la que haurien d'estar punts d'un\n",
        "# matiex cluster\n",
        "distcluster <- dbscan::kNNdist(data_to_cluster, k = 5)\n",
        "\n",
        "# Graficar las distancias para observar el codo\n",
        "plot(distcluster, type = \"l\")"
      ],
      "metadata": {
        "id": "KPq5VO7kMOIm",
        "colab": {
          "base_uri": "https://localhost:8080/",
          "height": 437
        },
        "outputId": "6b92df9b-d839-4fd3-894d-1c58a7d07e65"
      },
      "execution_count": 248,
      "outputs": [
        {
          "output_type": "display_data",
          "data": {
            "text/plain": [
              "plot without title"
            ],
            "image/png": "[encoded data removed]"
          },
          "metadata": {
            "image/png": {
              "width": 420,
              "height": 420
            }
          }
        }
      ]
    },
    {
      "cell_type": "code",
      "source": [
        "# Veiem que hi ha dos punts on es podría explicitar els dos valors de eps, per\n",
        "# tant, ho probarem amb els dos"
      ],
      "metadata": {
        "id": "D-lcf__9X44F"
      },
      "execution_count": 249,
      "outputs": []
    },
    {
      "cell_type": "code",
      "source": [
        "dbscan.result <- dbscan(data_to_cluster, eps = 90000, minPts = 2)\n",
        "dbscan.result\n",
        "table(data_final$Continent, dbscan.result$cluster)\n",
        "table(data_final$Atur, dbscan.result$cluster)\n",
        "table(data_final$IPC, dbscan.result$cluster)"
      ],
      "metadata": {
        "id": "U3TR8q7AWjNM",
        "colab": {
          "base_uri": "https://localhost:8080/",
          "height": 486
        },
        "outputId": "3674214d-af43-465c-c2e8-aa43879571ae"
      },
      "execution_count": 250,
      "outputs": [
        {
          "output_type": "display_data",
          "data": {
            "text/plain": [
              "DBSCAN clustering for 175 objects.\n",
              "Parameters: eps = 90000, minPts = 2\n",
              "Using euclidean distances and borderpoints = TRUE\n",
              "The clustering contains 2 cluster(s) and 26 noise points.\n",
              "\n",
              "  0   1   2 \n",
              " 26 147   2 \n",
              "\n",
              "Available fields: cluster, eps, minPts, metric, borderPoints"
            ]
          },
          "metadata": {}
        },
        {
          "output_type": "display_data",
          "data": {
            "text/plain": [
              "          \n",
              "            0  1  2\n",
              "  Africa    1 52  0\n",
              "  Americas  5 29  0\n",
              "  Asia      8 37  2\n",
              "  Europe   12 29  0"
            ]
          },
          "metadata": {}
        },
        {
          "output_type": "display_data",
          "data": {
            "text/plain": [
              "         \n",
              "           0  1  2\n",
              "  Baix    14 52  1\n",
              "  Moderat 11 57  1\n",
              "  Elevat   1 28  0\n",
              "  Massiu   0 10  0"
            ]
          },
          "metadata": {}
        },
        {
          "output_type": "display_data",
          "data": {
            "text/plain": [
              "         \n",
              "           0  1  2\n",
              "  Baix    22 67  1\n",
              "  Moderat  1 39  0\n",
              "  Elevat   1 22  0\n",
              "  Massiu   2 19  1"
            ]
          },
          "metadata": {}
        }
      ]
    },
    {
      "cell_type": "code",
      "source": [
        "# Veiem amb aquest mètode tampoc hem aconseguit agrupar correctament les dades\n",
        "# pel que es podría confirmar que aquestes variables no segueixen una\n",
        "# distribucuó de clustering segons els diferents paràmteres que tenin al\n",
        "# dataset"
      ],
      "metadata": {
        "id": "LzA0PCD8lwih"
      },
      "execution_count": 251,
      "outputs": []
    },
    {
      "cell_type": "markdown",
      "source": [
        "4.2 proba de contrast d'hipotesis"
      ],
      "metadata": {
        "id": "JxgtStDw95CU"
      }
    },
    {
      "cell_type": "code",
      "source": [
        "# Volem fer ara un contrast d'hipòtesis sobre com el PIB es veu influit pel\n",
        "# nivell d'atur del pais.\n",
        "\n",
        "# Veient les dades, veiem que les dades no segueixen una distribució normal\n",
        "# hem de compovar que les distribucions es troben en un altre distribució.\n",
        "\n",
        "shapiro.test(data_final$PIB)"
      ],
      "metadata": {
        "id": "DEqpsfbU94vM",
        "colab": {
          "base_uri": "https://localhost:8080/",
          "height": 104
        },
        "outputId": "45441575-230e-4d90-825c-b90237f6f010"
      },
      "execution_count": 252,
      "outputs": [
        {
          "output_type": "display_data",
          "data": {
            "text/plain": [
              "\n",
              "\tShapiro-Wilk normality test\n",
              "\n",
              "data:  data_final$PIB\n",
              "W = 0.51236, p-value < 2.2e-16\n"
            ]
          },
          "metadata": {}
        }
      ]
    },
    {
      "cell_type": "code",
      "source": [
        "# Veiem que ambdos camp de PIB no compleixen distribucions normals,\n",
        "# ja que el p-value < 0.05 fent que podem rebutjar la hipòtesi que aquesta\n",
        "# variable segueix una distribució normal.\n",
        "\n",
        "\n",
        "# Per comprovar l’homoscedasticitat d'aquesta variable no té una homogeneitat\n",
        "# de variançes."
      ],
      "metadata": {
        "id": "6j7vq2m_Hxg3"
      },
      "execution_count": 253,
      "outputs": []
    },
    {
      "cell_type": "code",
      "source": [
        "fligner.test(PIB ~ Atur, data = data_final)"
      ],
      "metadata": {
        "id": "EU4WsUmGHuPC",
        "colab": {
          "base_uri": "https://localhost:8080/",
          "height": 104
        },
        "outputId": "4aba5e25-72f7-4145-c856-3f187ce95995"
      },
      "execution_count": 254,
      "outputs": [
        {
          "output_type": "display_data",
          "data": {
            "text/plain": [
              "\n",
              "\tFligner-Killeen test of homogeneity of variances\n",
              "\n",
              "data:  PIB by Atur\n",
              "Fligner-Killeen:med chi-squared = 31.271, df = 3, p-value = 7.456e-07\n"
            ]
          },
          "metadata": {}
        }
      ]
    },
    {
      "cell_type": "code",
      "source": [
        "# Veiem que el p-value es menor de 0.05 pel que podem afirmar que per aquestes\n",
        "# dades es faran tests no paramètrics, com el test de Wilcox. Si analitzem\n",
        "# aquestes variables segons els diferents valors veiem:"
      ],
      "metadata": {
        "id": "QV3GbFNxS4gv"
      },
      "execution_count": 255,
      "outputs": []
    },
    {
      "cell_type": "code",
      "source": [
        "wilcox.test(PIB ~ Atur, data = data_final, subset = Atur %in% c('Baix', 'Massiu'))\n",
        "wilcox.test(PIB ~ Atur, data = data_final, subset = Atur %in% c('Baix', 'Elevat'))\n",
        "wilcox.test(PIB ~ Atur, data = data_final, subset = Atur %in% c('Baix', 'Moderat'))"
      ],
      "metadata": {
        "id": "KsP5l2KVShTS",
        "colab": {
          "base_uri": "https://localhost:8080/",
          "height": 329
        },
        "outputId": "ebd0e4fd-1715-4f5b-9300-3d6fbf739eb5"
      },
      "execution_count": 256,
      "outputs": [
        {
          "output_type": "display_data",
          "data": {
            "text/plain": [
              "\n",
              "\tWilcoxon rank sum test with continuity correction\n",
              "\n",
              "data:  PIB by Atur\n",
              "W = 507, p-value = 0.009355\n",
              "alternative hypothesis: true location shift is not equal to 0\n"
            ]
          },
          "metadata": {}
        },
        {
          "output_type": "display_data",
          "data": {
            "text/plain": [
              "\n",
              "\tWilcoxon rank sum test with continuity correction\n",
              "\n",
              "data:  PIB by Atur\n",
              "W = 1487, p-value = 3.967e-05\n",
              "alternative hypothesis: true location shift is not equal to 0\n"
            ]
          },
          "metadata": {}
        },
        {
          "output_type": "display_data",
          "data": {
            "text/plain": [
              "\n",
              "\tWilcoxon rank sum test with continuity correction\n",
              "\n",
              "data:  PIB by Atur\n",
              "W = 2601, p-value = 0.2084\n",
              "alternative hypothesis: true location shift is not equal to 0\n"
            ]
          },
          "metadata": {}
        }
      ]
    }
  ],
  "metadata": {
    "colab": {
      "provenance": [],
      "include_colab_link": true
    },
    "kernelspec": {
      "display_name": "R",
      "name": "ir"
    },
    "language_info": {
      "name": "R"
    }
  },
  "nbformat": 4,
  "nbformat_minor": 0
}